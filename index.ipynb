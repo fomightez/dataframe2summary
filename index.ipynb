{
 "cells": [
  {
   "cell_type": "markdown",
   "metadata": {},
   "source": [
    "# Demonstration of `df_subgroups_states2summary_df.py`\n",
    "\n",
    "Demonstrating use of `df_subgroups_states2summary_df.py`, see [here](https://github.com/fomightez/text_mining) for more information.\n",
    "\n",
    "This script converts a dataframe or data table of text into a summary.\n",
    "\n",
    "If you have only two states/subgroups and one would be considered the 'positive' or featured one, such 'present/not present' or 'yes/no', then you should see the notebook [here](demo_df_binary_states2summary_df.ipynb) that demonstrates use of `demo_df_binary_states2summary_df.ipynb`.\n",
    "\n",
    "-----\n",
    "\n",
    "The two main ways of using the script are covered, featuring several of the options available."
   ]
  },
  {
   "cell_type": "markdown",
   "metadata": {},
   "source": [
    "## Preparation and displaying USAGE block\n",
    "\n",
    "Let's get the script and run 'Help' on it to see the basic USAGE block.\n",
    "\n",
    "(If you are running this notebook in the session launched from the repo that includes the script, this step is not necessary. However, it is included because there is no harm in running it here and you may be wanting to run this elsewhere or see how to easily acquire the script. If you are on the actual command line, you'd leave off the exclamation point.)"
   ]
  },
  {
   "cell_type": "code",
   "execution_count": 1,
   "metadata": {},
   "outputs": [],
   "source": [
    "import os\n",
    "file_needed = \"df_subgroups_states2summary_df.py\"\n",
    "if not os.path.isfile(file_needed):\n",
    "    !curl -OL https://raw.githubusercontent.com/fomightez/text_mining/master/df_subgroups_states2summary_df.py"
   ]
  },
  {
   "cell_type": "code",
   "execution_count": 2,
   "metadata": {},
   "outputs": [
    {
     "name": "stdout",
     "output_type": "stream",
     "text": [
      "usage: df_subgroups_states2summary_df.py [-h] [-ord ORDER] [-olsp] [-bc]\n",
      "                                         DF_FILE GROUPS SUBGROUPS\n",
      "\n",
      "df_subgroups_states2summary_df.py takes a dataframe, and some information\n",
      "about columns in the dataframe and makes a summary data table with the\n",
      "percents for each subgrouping / state per total and each group. **** Script by\n",
      "Wayne Decatur (fomightez @ github) ***\n",
      "\n",
      "positional arguments:\n",
      "  DF_FILE               Name of file containing the dataframe. Whether it is\n",
      "                        in the form of a pickled dataframe, tab-separated\n",
      "                        text, or comma-separated text needs to be indicated by\n",
      "                        the file extension. So `.pkl`, `.tsv`, or `.csv` for\n",
      "                        the file extension.\n",
      "  GROUPS                Text indicating column in dataframe to use as main\n",
      "                        grouping categories.\n",
      "  SUBGROUPS             Text indicating column in dataframe to use as\n",
      "                        subgroupings / states for the groups.\n",
      "\n",
      "optional arguments:\n",
      "  -h, --help            show this help message and exit\n",
      "  -ord ORDER, --order ORDER\n",
      "                        This flag is used to specify that you want to control\n",
      "                        the order of the subgroups to read from left to right.\n",
      "                        Follow the flag with an order listing, left to right,\n",
      "                        of the subgroup identifiers separated by commas,\n",
      "                        without spaces or quotes. For example `-ord\n",
      "                        yes,maybe,no`.\n",
      "  -olsp, --only_subgrp_perc\n",
      "                        add this flag to only leave states/percentage data in\n",
      "                        produced data table. No counts will be included for\n",
      "                        each state/subgrouping.\n",
      "  -bc, --bracket_counts\n",
      "                        add this flag to display counts in brackets AFTER the\n",
      "                        percent listing This is only meant for generating\n",
      "                        presentation style dataframes as the percent & count\n",
      "                        data will be combined into one cell as a string which\n",
      "                        is not suitable for further use. Because of that this\n",
      "                        option will also produce a more basic summary table to\n",
      "                        be used for further efforts. Use of\n",
      "                        `--only_subgrp_perc` renders this argument moot as\n",
      "                        nothing concerning counts is displayed in that case.\n"
     ]
    }
   ],
   "source": [
    "%run df_subgroups_states2summary_df.py -h"
   ]
  },
  {
   "cell_type": "markdown",
   "metadata": {},
   "source": [
    "## Use the script by calling it from the command line"
   ]
  },
  {
   "cell_type": "markdown",
   "metadata": {},
   "source": [
    "A dataframe  or text data table will be used for input data. To fully demonstrate the options for the script we'll use a toy dataframe and also convert it to a text table."
   ]
  },
  {
   "cell_type": "code",
   "execution_count": 3,
   "metadata": {},
   "outputs": [
    {
     "data": {
      "text/html": [
       "<div>\n",
       "<style scoped>\n",
       "    .dataframe tbody tr th:only-of-type {\n",
       "        vertical-align: middle;\n",
       "    }\n",
       "\n",
       "    .dataframe tbody tr th {\n",
       "        vertical-align: top;\n",
       "    }\n",
       "\n",
       "    .dataframe thead th {\n",
       "        text-align: right;\n",
       "    }\n",
       "</style>\n",
       "<table border=\"1\" class=\"dataframe\">\n",
       "  <thead>\n",
       "    <tr style=\"text-align: right;\">\n",
       "      <th></th>\n",
       "      <th>Manufacturer</th>\n",
       "      <th>Item</th>\n",
       "      <th>In_Stock</th>\n",
       "    </tr>\n",
       "  </thead>\n",
       "  <tbody>\n",
       "    <tr>\n",
       "      <th>0</th>\n",
       "      <td>Jones LLC</td>\n",
       "      <td>177887</td>\n",
       "      <td>yes</td>\n",
       "    </tr>\n",
       "    <tr>\n",
       "      <th>1</th>\n",
       "      <td>Jones LLC</td>\n",
       "      <td>12387</td>\n",
       "      <td>yes</td>\n",
       "    </tr>\n",
       "    <tr>\n",
       "      <th>2</th>\n",
       "      <td>Jones LLC</td>\n",
       "      <td>1772287</td>\n",
       "      <td>yes</td>\n",
       "    </tr>\n",
       "    <tr>\n",
       "      <th>3</th>\n",
       "      <td>Jones LLC</td>\n",
       "      <td>1187</td>\n",
       "      <td>maybe</td>\n",
       "    </tr>\n",
       "    <tr>\n",
       "      <th>4</th>\n",
       "      <td>Jones LLC</td>\n",
       "      <td>1773297</td>\n",
       "      <td>maybe</td>\n",
       "    </tr>\n",
       "  </tbody>\n",
       "</table>\n",
       "</div>"
      ],
      "text/plain": [
       "  Manufacturer     Item In_Stock\n",
       "0    Jones LLC   177887      yes\n",
       "1    Jones LLC    12387      yes\n",
       "2    Jones LLC  1772287      yes\n",
       "3    Jones LLC     1187    maybe\n",
       "4    Jones LLC  1773297    maybe"
      ]
     },
     "execution_count": 3,
     "metadata": {},
     "output_type": "execute_result"
    }
   ],
   "source": [
    "import pandas as pd\n",
    "sales = [('Jones LLC', 177887, 'yes'),\n",
    "         ('Jones LLC', 12387, 'yes'),\n",
    "         ('Jones LLC', 1772287, 'yes'),\n",
    "         ('Jones LLC', 1187, 'maybe'),\n",
    "         ('Jones LLC', 1773297, 'maybe'),\n",
    "         ('Jones LLC', 19897, 'no'),\n",
    "         ('Alpha Co', 157987, 'yes'),\n",
    "         ('Alpha Co', 158981, 'yes'),\n",
    "         ('Alpha Co', 159983, 'yes'),\n",
    "         ('Alpha Co', 167987, 'yes'),\n",
    "         ('Alpha Co', 158117, 'yes'),\n",
    "         ('Alpha Co', 1999917, 'maybe'),\n",
    "         ('Alpha Co', 193917, 'maybe'),\n",
    "         ('Alpha Co', 1933917, 'maybe'),\n",
    "         ('Alpha Co', 159333, 'no'),\n",
    "         ('Alpha Co', 256521, 'no'),\n",
    "         ('Blue Inc', 111947, 'no')]\n",
    "labels = ['Manufacturer', 'Item', 'In_Stock']\n",
    "df = pd.DataFrame.from_records(sales, columns=labels)\n",
    "df.head()"
   ]
  },
  {
   "cell_type": "markdown",
   "metadata": {},
   "source": [
    "Let's save that dataframe as tabular text and also as a Pickled pickled dataframe. The former being human readable and the latter not. The latter is more efficient at storeage though if that is an issue.\n",
    "\n",
    "First to save as tabular text in tab-separated form. You could change it to be comma-separated, CSV, if you choose."
   ]
  },
  {
   "cell_type": "code",
   "execution_count": 4,
   "metadata": {},
   "outputs": [],
   "source": [
    "df.to_pickle(\"data.pkl\")\n",
    "df.to_csv('data.tsv', sep='\\t',index = False)"
   ]
  },
  {
   "cell_type": "markdown",
   "metadata": {},
   "source": [
    "Now that we have files with input data, we have something we can point the script at for running it.\n",
    "\n",
    "In addition to providing the data input file name, the text corresponding to the column heading of the groupings and the text corresponding to the column containing the subgroups have to be provided when calling the script."
   ]
  },
  {
   "cell_type": "code",
   "execution_count": 5,
   "metadata": {},
   "outputs": [
    {
     "name": "stderr",
     "output_type": "stream",
     "text": [
      "Summary dataframe saved as a text table easily opened in\n",
      "different software; file named: `summary_data.tsv`\n",
      "\n",
      "Summary dataframe saved in pickled form for ease of use within\n",
      "Python; file named: `summary_data.pkl`. This will retain the column headers/names formatting best."
     ]
    }
   ],
   "source": [
    "%run df_subgroups_states2summary_df.py data.pkl Manufacturer In_Stock"
   ]
  },
  {
   "cell_type": "code",
   "execution_count": 6,
   "metadata": {},
   "outputs": [
    {
     "data": {
      "text/html": [
       "<div>\n",
       "<style scoped>\n",
       "    .dataframe tbody tr th:only-of-type {\n",
       "        vertical-align: middle;\n",
       "    }\n",
       "\n",
       "    .dataframe tbody tr th {\n",
       "        vertical-align: top;\n",
       "    }\n",
       "\n",
       "    .dataframe thead tr th {\n",
       "        text-align: left;\n",
       "    }\n",
       "</style>\n",
       "<table border=\"1\" class=\"dataframe\">\n",
       "  <thead>\n",
       "    <tr>\n",
       "      <th></th>\n",
       "      <th></th>\n",
       "      <th colspan=\"2\" halign=\"left\">yes</th>\n",
       "      <th colspan=\"2\" halign=\"left\">maybe</th>\n",
       "      <th colspan=\"2\" halign=\"left\">no</th>\n",
       "    </tr>\n",
       "    <tr>\n",
       "      <th></th>\n",
       "      <th>[n]</th>\n",
       "      <th>count</th>\n",
       "      <th>%</th>\n",
       "      <th>count</th>\n",
       "      <th>%</th>\n",
       "      <th>count</th>\n",
       "      <th>%</th>\n",
       "    </tr>\n",
       "  </thead>\n",
       "  <tbody>\n",
       "    <tr>\n",
       "      <th>ALL</th>\n",
       "      <td>17</td>\n",
       "      <td>8</td>\n",
       "      <td>0.470588</td>\n",
       "      <td>5</td>\n",
       "      <td>0.294118</td>\n",
       "      <td>4</td>\n",
       "      <td>0.235294</td>\n",
       "    </tr>\n",
       "    <tr>\n",
       "      <th>Alpha Co</th>\n",
       "      <td>10</td>\n",
       "      <td>5</td>\n",
       "      <td>0.500000</td>\n",
       "      <td>3</td>\n",
       "      <td>0.300000</td>\n",
       "      <td>2</td>\n",
       "      <td>0.200000</td>\n",
       "    </tr>\n",
       "    <tr>\n",
       "      <th>Blue Inc</th>\n",
       "      <td>1</td>\n",
       "      <td>0</td>\n",
       "      <td>0.000000</td>\n",
       "      <td>0</td>\n",
       "      <td>0.000000</td>\n",
       "      <td>1</td>\n",
       "      <td>1.000000</td>\n",
       "    </tr>\n",
       "    <tr>\n",
       "      <th>Jones LLC</th>\n",
       "      <td>6</td>\n",
       "      <td>3</td>\n",
       "      <td>0.500000</td>\n",
       "      <td>2</td>\n",
       "      <td>0.333333</td>\n",
       "      <td>1</td>\n",
       "      <td>0.166667</td>\n",
       "    </tr>\n",
       "  </tbody>\n",
       "</table>\n",
       "</div>"
      ],
      "text/plain": [
       "                yes           maybe              no          \n",
       "          [n] count         % count         % count         %\n",
       "ALL        17     8  0.470588     5  0.294118     4  0.235294\n",
       "Alpha Co   10     5  0.500000     3  0.300000     2  0.200000\n",
       "Blue Inc    1     0  0.000000     0  0.000000     1  1.000000\n",
       "Jones LLC   6     3  0.500000     2  0.333333     1  0.166667"
      ]
     },
     "execution_count": 6,
     "metadata": {},
     "output_type": "execute_result"
    }
   ],
   "source": [
    "t = pd.read_pickle(\"summary_data.pkl\")\n",
    "t"
   ]
  },
  {
   "cell_type": "markdown",
   "metadata": {},
   "source": [
    "The text in the displayed view of the dataframe can be styled better without changing the actual underlying data. Here we fix the `%` column to show it as a percent with two-decimal places represented. At the same time a title can also be added for display."
   ]
  },
  {
   "cell_type": "code",
   "execution_count": 7,
   "metadata": {},
   "outputs": [
    {
     "data": {
      "text/html": [
       "<b>Items in stock by Manufacturer:</b>"
      ],
      "text/plain": [
       "<IPython.core.display.HTML object>"
      ]
     },
     "metadata": {},
     "output_type": "display_data"
    },
    {
     "data": {
      "text/html": [
       "<style  type=\"text/css\" >\n",
       "</style><table id=\"T_0ebcba18_9915_11e9_b8e3_cac10da1ba8b\" ><thead>    <tr>        <th class=\"blank level0\" ></th>        <th class=\"col_heading level0 col0\" ></th>        <th class=\"col_heading level0 col1\" colspan=2>yes</th>        <th class=\"col_heading level0 col3\" colspan=2>maybe</th>        <th class=\"col_heading level0 col5\" colspan=2>no</th>    </tr>    <tr>        <th class=\"blank level1\" ></th>        <th class=\"col_heading level1 col0\" >[n]</th>        <th class=\"col_heading level1 col1\" >count</th>        <th class=\"col_heading level1 col2\" >%</th>        <th class=\"col_heading level1 col3\" >count</th>        <th class=\"col_heading level1 col4\" >%</th>        <th class=\"col_heading level1 col5\" >count</th>        <th class=\"col_heading level1 col6\" >%</th>    </tr></thead><tbody>\n",
       "                <tr>\n",
       "                        <th id=\"T_0ebcba18_9915_11e9_b8e3_cac10da1ba8blevel0_row0\" class=\"row_heading level0 row0\" >ALL</th>\n",
       "                        <td id=\"T_0ebcba18_9915_11e9_b8e3_cac10da1ba8brow0_col0\" class=\"data row0 col0\" >17</td>\n",
       "                        <td id=\"T_0ebcba18_9915_11e9_b8e3_cac10da1ba8brow0_col1\" class=\"data row0 col1\" >8</td>\n",
       "                        <td id=\"T_0ebcba18_9915_11e9_b8e3_cac10da1ba8brow0_col2\" class=\"data row0 col2\" >47.06%</td>\n",
       "                        <td id=\"T_0ebcba18_9915_11e9_b8e3_cac10da1ba8brow0_col3\" class=\"data row0 col3\" >5</td>\n",
       "                        <td id=\"T_0ebcba18_9915_11e9_b8e3_cac10da1ba8brow0_col4\" class=\"data row0 col4\" >29.41%</td>\n",
       "                        <td id=\"T_0ebcba18_9915_11e9_b8e3_cac10da1ba8brow0_col5\" class=\"data row0 col5\" >4</td>\n",
       "                        <td id=\"T_0ebcba18_9915_11e9_b8e3_cac10da1ba8brow0_col6\" class=\"data row0 col6\" >23.53%</td>\n",
       "            </tr>\n",
       "            <tr>\n",
       "                        <th id=\"T_0ebcba18_9915_11e9_b8e3_cac10da1ba8blevel0_row1\" class=\"row_heading level0 row1\" >Alpha Co</th>\n",
       "                        <td id=\"T_0ebcba18_9915_11e9_b8e3_cac10da1ba8brow1_col0\" class=\"data row1 col0\" >10</td>\n",
       "                        <td id=\"T_0ebcba18_9915_11e9_b8e3_cac10da1ba8brow1_col1\" class=\"data row1 col1\" >5</td>\n",
       "                        <td id=\"T_0ebcba18_9915_11e9_b8e3_cac10da1ba8brow1_col2\" class=\"data row1 col2\" >50.00%</td>\n",
       "                        <td id=\"T_0ebcba18_9915_11e9_b8e3_cac10da1ba8brow1_col3\" class=\"data row1 col3\" >3</td>\n",
       "                        <td id=\"T_0ebcba18_9915_11e9_b8e3_cac10da1ba8brow1_col4\" class=\"data row1 col4\" >30.00%</td>\n",
       "                        <td id=\"T_0ebcba18_9915_11e9_b8e3_cac10da1ba8brow1_col5\" class=\"data row1 col5\" >2</td>\n",
       "                        <td id=\"T_0ebcba18_9915_11e9_b8e3_cac10da1ba8brow1_col6\" class=\"data row1 col6\" >20.00%</td>\n",
       "            </tr>\n",
       "            <tr>\n",
       "                        <th id=\"T_0ebcba18_9915_11e9_b8e3_cac10da1ba8blevel0_row2\" class=\"row_heading level0 row2\" >Blue Inc</th>\n",
       "                        <td id=\"T_0ebcba18_9915_11e9_b8e3_cac10da1ba8brow2_col0\" class=\"data row2 col0\" >1</td>\n",
       "                        <td id=\"T_0ebcba18_9915_11e9_b8e3_cac10da1ba8brow2_col1\" class=\"data row2 col1\" >0</td>\n",
       "                        <td id=\"T_0ebcba18_9915_11e9_b8e3_cac10da1ba8brow2_col2\" class=\"data row2 col2\" >0.00%</td>\n",
       "                        <td id=\"T_0ebcba18_9915_11e9_b8e3_cac10da1ba8brow2_col3\" class=\"data row2 col3\" >0</td>\n",
       "                        <td id=\"T_0ebcba18_9915_11e9_b8e3_cac10da1ba8brow2_col4\" class=\"data row2 col4\" >0.00%</td>\n",
       "                        <td id=\"T_0ebcba18_9915_11e9_b8e3_cac10da1ba8brow2_col5\" class=\"data row2 col5\" >1</td>\n",
       "                        <td id=\"T_0ebcba18_9915_11e9_b8e3_cac10da1ba8brow2_col6\" class=\"data row2 col6\" >100.00%</td>\n",
       "            </tr>\n",
       "            <tr>\n",
       "                        <th id=\"T_0ebcba18_9915_11e9_b8e3_cac10da1ba8blevel0_row3\" class=\"row_heading level0 row3\" >Jones LLC</th>\n",
       "                        <td id=\"T_0ebcba18_9915_11e9_b8e3_cac10da1ba8brow3_col0\" class=\"data row3 col0\" >6</td>\n",
       "                        <td id=\"T_0ebcba18_9915_11e9_b8e3_cac10da1ba8brow3_col1\" class=\"data row3 col1\" >3</td>\n",
       "                        <td id=\"T_0ebcba18_9915_11e9_b8e3_cac10da1ba8brow3_col2\" class=\"data row3 col2\" >50.00%</td>\n",
       "                        <td id=\"T_0ebcba18_9915_11e9_b8e3_cac10da1ba8brow3_col3\" class=\"data row3 col3\" >2</td>\n",
       "                        <td id=\"T_0ebcba18_9915_11e9_b8e3_cac10da1ba8brow3_col4\" class=\"data row3 col4\" >33.33%</td>\n",
       "                        <td id=\"T_0ebcba18_9915_11e9_b8e3_cac10da1ba8brow3_col5\" class=\"data row3 col5\" >1</td>\n",
       "                        <td id=\"T_0ebcba18_9915_11e9_b8e3_cac10da1ba8brow3_col6\" class=\"data row3 col6\" >16.67%</td>\n",
       "            </tr>\n",
       "    </tbody></table>"
      ],
      "text/plain": [
       "<pandas.io.formats.style.Styler at 0x7f8ea2cc7da0>"
      ]
     },
     "metadata": {},
     "output_type": "display_data"
    }
   ],
   "source": [
    "# This would change the view to be nicer; note the underlying dataframe remains unotuched\n",
    "t_styl = t.style.format(\"{:.2%}\",subset=[('yes','%'),('maybe','%'),('no','%')]) # based on https://stackoverflow.com/a/56411982/8508004\n",
    "# and https://pandas.pydata.org/pandas-docs/stable/reference/api/pandas.io.formats.style.Styler.format.html\n",
    "# Trick to add a title to the dataframe\n",
    "from IPython.display import display, HTML\n",
    "# trick from https://stackoverflow.com/a/29665452/8508004\n",
    "display(HTML('<b>Items in stock by Manufacturer:</b>'))\n",
    "display(t_styl)"
   ]
  },
  {
   "cell_type": "markdown",
   "metadata": {},
   "source": [
    "The sparsification of the column names makes it a little hard to read. In other words, you might question ,\"Why is there an `[n]` and `count`?\" And not realize that `count` belongs to `yes`. Using the suggestion [here](http://pandas.pydata.org/pandas-docs/stable/user_guide/advanced.html), you can un-\"sparsify\" the display style:"
   ]
  },
  {
   "cell_type": "code",
   "execution_count": 8,
   "metadata": {},
   "outputs": [
    {
     "data": {
      "text/html": [
       "<div>\n",
       "<style scoped>\n",
       "    .dataframe tbody tr th:only-of-type {\n",
       "        vertical-align: middle;\n",
       "    }\n",
       "\n",
       "    .dataframe tbody tr th {\n",
       "        vertical-align: top;\n",
       "    }\n",
       "\n",
       "    .dataframe thead tr th {\n",
       "        text-align: left;\n",
       "    }\n",
       "</style>\n",
       "<table border=\"1\" class=\"dataframe\">\n",
       "  <thead>\n",
       "    <tr>\n",
       "      <th></th>\n",
       "      <th></th>\n",
       "      <th>yes</th>\n",
       "      <th>yes</th>\n",
       "      <th>maybe</th>\n",
       "      <th>maybe</th>\n",
       "      <th>no</th>\n",
       "      <th>no</th>\n",
       "    </tr>\n",
       "    <tr>\n",
       "      <th></th>\n",
       "      <th>[n]</th>\n",
       "      <th>count</th>\n",
       "      <th>%</th>\n",
       "      <th>count</th>\n",
       "      <th>%</th>\n",
       "      <th>count</th>\n",
       "      <th>%</th>\n",
       "    </tr>\n",
       "  </thead>\n",
       "  <tbody>\n",
       "    <tr>\n",
       "      <th>ALL</th>\n",
       "      <td>17</td>\n",
       "      <td>8</td>\n",
       "      <td>0.470588</td>\n",
       "      <td>5</td>\n",
       "      <td>0.294118</td>\n",
       "      <td>4</td>\n",
       "      <td>0.235294</td>\n",
       "    </tr>\n",
       "    <tr>\n",
       "      <th>Alpha Co</th>\n",
       "      <td>10</td>\n",
       "      <td>5</td>\n",
       "      <td>0.500000</td>\n",
       "      <td>3</td>\n",
       "      <td>0.300000</td>\n",
       "      <td>2</td>\n",
       "      <td>0.200000</td>\n",
       "    </tr>\n",
       "    <tr>\n",
       "      <th>Blue Inc</th>\n",
       "      <td>1</td>\n",
       "      <td>0</td>\n",
       "      <td>0.000000</td>\n",
       "      <td>0</td>\n",
       "      <td>0.000000</td>\n",
       "      <td>1</td>\n",
       "      <td>1.000000</td>\n",
       "    </tr>\n",
       "    <tr>\n",
       "      <th>Jones LLC</th>\n",
       "      <td>6</td>\n",
       "      <td>3</td>\n",
       "      <td>0.500000</td>\n",
       "      <td>2</td>\n",
       "      <td>0.333333</td>\n",
       "      <td>1</td>\n",
       "      <td>0.166667</td>\n",
       "    </tr>\n",
       "  </tbody>\n",
       "</table>\n",
       "</div>"
      ],
      "text/plain": [
       "                yes       yes maybe     maybe    no        no\n",
       "          [n] count         % count         % count         %\n",
       "ALL        17     8  0.470588     5  0.294118     4  0.235294\n",
       "Alpha Co   10     5  0.500000     3  0.300000     2  0.200000\n",
       "Blue Inc    1     0  0.000000     0  0.000000     1  1.000000\n",
       "Jones LLC   6     3  0.500000     2  0.333333     1  0.166667"
      ]
     },
     "metadata": {},
     "output_type": "display_data"
    }
   ],
   "source": [
    "with pd.option_context('display.multi_sparse', False):\n",
    "    display(t)"
   ]
  },
  {
   "cell_type": "markdown",
   "metadata": {},
   "source": [
    "(Related to the column names sparsification, I note that, when in the classic notebook interface, the default dataframe has the top level column names show on the left, and they shift to being right-aligned in the dataframe with the format styling of the percent column. If you are seeing this and want more standardized, switch to using the JupyterLab interface because it seems the top-level column headings stay right-aligned. It is easy to go from the classic interface to the JupyterLab if you first go to the dashboard/file browser in the classic interface by clicking on the Jupyter logo in the upper right. From the dashboard, change the end of the url from `/tree` to `/lab`. The screen will refresh and you'll be in the JupyterLab interface. (Just change `/lab` at the end back to `/tree` to switch back to the classic interface.)\n",
    "\n",
    "The style formatting of the values and the desparsification can even be combined:"
   ]
  },
  {
   "cell_type": "code",
   "execution_count": 9,
   "metadata": {},
   "outputs": [
    {
     "data": {
      "text/html": [
       "<b>Items in stock by Manufacturer:</b>"
      ],
      "text/plain": [
       "<IPython.core.display.HTML object>"
      ]
     },
     "metadata": {},
     "output_type": "display_data"
    },
    {
     "data": {
      "text/html": [
       "<style  type=\"text/css\" >\n",
       "</style><table id=\"T_0ec43e1e_9915_11e9_b8e3_cac10da1ba8b\" ><thead>    <tr>        <th class=\"blank level0\" ></th>        <th class=\"col_heading level0 col0\" ></th>        <th class=\"col_heading level0 col1\" >yes</th>        <th class=\"col_heading level0 col2\" >yes</th>        <th class=\"col_heading level0 col3\" >maybe</th>        <th class=\"col_heading level0 col4\" >maybe</th>        <th class=\"col_heading level0 col5\" >no</th>        <th class=\"col_heading level0 col6\" >no</th>    </tr>    <tr>        <th class=\"blank level1\" ></th>        <th class=\"col_heading level1 col0\" >[n]</th>        <th class=\"col_heading level1 col1\" >count</th>        <th class=\"col_heading level1 col2\" >%</th>        <th class=\"col_heading level1 col3\" >count</th>        <th class=\"col_heading level1 col4\" >%</th>        <th class=\"col_heading level1 col5\" >count</th>        <th class=\"col_heading level1 col6\" >%</th>    </tr></thead><tbody>\n",
       "                <tr>\n",
       "                        <th id=\"T_0ec43e1e_9915_11e9_b8e3_cac10da1ba8blevel0_row0\" class=\"row_heading level0 row0\" >ALL</th>\n",
       "                        <td id=\"T_0ec43e1e_9915_11e9_b8e3_cac10da1ba8brow0_col0\" class=\"data row0 col0\" >17</td>\n",
       "                        <td id=\"T_0ec43e1e_9915_11e9_b8e3_cac10da1ba8brow0_col1\" class=\"data row0 col1\" >8</td>\n",
       "                        <td id=\"T_0ec43e1e_9915_11e9_b8e3_cac10da1ba8brow0_col2\" class=\"data row0 col2\" >47.06%</td>\n",
       "                        <td id=\"T_0ec43e1e_9915_11e9_b8e3_cac10da1ba8brow0_col3\" class=\"data row0 col3\" >5</td>\n",
       "                        <td id=\"T_0ec43e1e_9915_11e9_b8e3_cac10da1ba8brow0_col4\" class=\"data row0 col4\" >29.41%</td>\n",
       "                        <td id=\"T_0ec43e1e_9915_11e9_b8e3_cac10da1ba8brow0_col5\" class=\"data row0 col5\" >4</td>\n",
       "                        <td id=\"T_0ec43e1e_9915_11e9_b8e3_cac10da1ba8brow0_col6\" class=\"data row0 col6\" >23.53%</td>\n",
       "            </tr>\n",
       "            <tr>\n",
       "                        <th id=\"T_0ec43e1e_9915_11e9_b8e3_cac10da1ba8blevel0_row1\" class=\"row_heading level0 row1\" >Alpha Co</th>\n",
       "                        <td id=\"T_0ec43e1e_9915_11e9_b8e3_cac10da1ba8brow1_col0\" class=\"data row1 col0\" >10</td>\n",
       "                        <td id=\"T_0ec43e1e_9915_11e9_b8e3_cac10da1ba8brow1_col1\" class=\"data row1 col1\" >5</td>\n",
       "                        <td id=\"T_0ec43e1e_9915_11e9_b8e3_cac10da1ba8brow1_col2\" class=\"data row1 col2\" >50.00%</td>\n",
       "                        <td id=\"T_0ec43e1e_9915_11e9_b8e3_cac10da1ba8brow1_col3\" class=\"data row1 col3\" >3</td>\n",
       "                        <td id=\"T_0ec43e1e_9915_11e9_b8e3_cac10da1ba8brow1_col4\" class=\"data row1 col4\" >30.00%</td>\n",
       "                        <td id=\"T_0ec43e1e_9915_11e9_b8e3_cac10da1ba8brow1_col5\" class=\"data row1 col5\" >2</td>\n",
       "                        <td id=\"T_0ec43e1e_9915_11e9_b8e3_cac10da1ba8brow1_col6\" class=\"data row1 col6\" >20.00%</td>\n",
       "            </tr>\n",
       "            <tr>\n",
       "                        <th id=\"T_0ec43e1e_9915_11e9_b8e3_cac10da1ba8blevel0_row2\" class=\"row_heading level0 row2\" >Blue Inc</th>\n",
       "                        <td id=\"T_0ec43e1e_9915_11e9_b8e3_cac10da1ba8brow2_col0\" class=\"data row2 col0\" >1</td>\n",
       "                        <td id=\"T_0ec43e1e_9915_11e9_b8e3_cac10da1ba8brow2_col1\" class=\"data row2 col1\" >0</td>\n",
       "                        <td id=\"T_0ec43e1e_9915_11e9_b8e3_cac10da1ba8brow2_col2\" class=\"data row2 col2\" >0.00%</td>\n",
       "                        <td id=\"T_0ec43e1e_9915_11e9_b8e3_cac10da1ba8brow2_col3\" class=\"data row2 col3\" >0</td>\n",
       "                        <td id=\"T_0ec43e1e_9915_11e9_b8e3_cac10da1ba8brow2_col4\" class=\"data row2 col4\" >0.00%</td>\n",
       "                        <td id=\"T_0ec43e1e_9915_11e9_b8e3_cac10da1ba8brow2_col5\" class=\"data row2 col5\" >1</td>\n",
       "                        <td id=\"T_0ec43e1e_9915_11e9_b8e3_cac10da1ba8brow2_col6\" class=\"data row2 col6\" >100.00%</td>\n",
       "            </tr>\n",
       "            <tr>\n",
       "                        <th id=\"T_0ec43e1e_9915_11e9_b8e3_cac10da1ba8blevel0_row3\" class=\"row_heading level0 row3\" >Jones LLC</th>\n",
       "                        <td id=\"T_0ec43e1e_9915_11e9_b8e3_cac10da1ba8brow3_col0\" class=\"data row3 col0\" >6</td>\n",
       "                        <td id=\"T_0ec43e1e_9915_11e9_b8e3_cac10da1ba8brow3_col1\" class=\"data row3 col1\" >3</td>\n",
       "                        <td id=\"T_0ec43e1e_9915_11e9_b8e3_cac10da1ba8brow3_col2\" class=\"data row3 col2\" >50.00%</td>\n",
       "                        <td id=\"T_0ec43e1e_9915_11e9_b8e3_cac10da1ba8brow3_col3\" class=\"data row3 col3\" >2</td>\n",
       "                        <td id=\"T_0ec43e1e_9915_11e9_b8e3_cac10da1ba8brow3_col4\" class=\"data row3 col4\" >33.33%</td>\n",
       "                        <td id=\"T_0ec43e1e_9915_11e9_b8e3_cac10da1ba8brow3_col5\" class=\"data row3 col5\" >1</td>\n",
       "                        <td id=\"T_0ec43e1e_9915_11e9_b8e3_cac10da1ba8brow3_col6\" class=\"data row3 col6\" >16.67%</td>\n",
       "            </tr>\n",
       "    </tbody></table>"
      ],
      "text/plain": [
       "<pandas.io.formats.style.Styler at 0x7f8ea1a2eeb8>"
      ]
     },
     "metadata": {},
     "output_type": "display_data"
    }
   ],
   "source": [
    "# This would change the view to be nicer; note the underlying dataframe remains unotuched\n",
    "t_styl = t.style.format(\"{:.2%}\",subset=[('yes','%'),('maybe','%'),('no','%')]) # based on https://stackoverflow.com/a/56411982/8508004\n",
    "# and https://pandas.pydata.org/pandas-docs/stable/reference/api/pandas.io.formats.style.Styler.format.html\n",
    "# Trick to add a title to the dataframe\n",
    "from IPython.display import display, HTML\n",
    "# trick from https://stackoverflow.com/a/29665452/8508004\n",
    "display(HTML('<b>Items in stock by Manufacturer:</b>'))\n",
    "with pd.option_context('display.multi_sparse', False):\n",
    "    display(t_styl)"
   ]
  },
  {
   "cell_type": "markdown",
   "metadata": {},
   "source": [
    "That covers the basics. However, the script can be called with several arguments to specify the output style.\n",
    "\n",
    "**Order**\n",
    "\n",
    "You can supply an `order` argument with the items of the states represented separated by a comma and nothing more. There cannot be spaces in the names though. This will specify how the states / subgroups read from left to right in the summary table generated. For example the default above produced the order 'yes,maybe,no' just because of the way those were listed in the input table. If they came out differently and we wanted 'yes,maybe,no' we could simply call it with \n",
    "\n",
    "```python\n",
    "%run df_subgroups_states2summary_df.py data.pkl Manufacturer In_Stock --order yes,maybe,no\n",
    "```\n",
    "\n",
    "Instead of actually changing the input to demonstrate that, we'll just change around the order using the same input a a demonstration."
   ]
  },
  {
   "cell_type": "code",
   "execution_count": 10,
   "metadata": {},
   "outputs": [
    {
     "name": "stderr",
     "output_type": "stream",
     "text": [
      "Summary dataframe saved as a text table easily opened in\n",
      "different software; file named: `summary_data.tsv`\n",
      "\n",
      "Summary dataframe saved in pickled form for ease of use within\n",
      "Python; file named: `summary_data.pkl`. This will retain the column headers/names formatting best."
     ]
    }
   ],
   "source": [
    "%run df_subgroups_states2summary_df.py data.pkl Manufacturer In_Stock --order maybe,yes,no"
   ]
  },
  {
   "cell_type": "markdown",
   "metadata": {},
   "source": [
    "Let's check the output."
   ]
  },
  {
   "cell_type": "code",
   "execution_count": 11,
   "metadata": {},
   "outputs": [
    {
     "data": {
      "text/html": [
       "<div>\n",
       "<style scoped>\n",
       "    .dataframe tbody tr th:only-of-type {\n",
       "        vertical-align: middle;\n",
       "    }\n",
       "\n",
       "    .dataframe tbody tr th {\n",
       "        vertical-align: top;\n",
       "    }\n",
       "\n",
       "    .dataframe thead tr th {\n",
       "        text-align: left;\n",
       "    }\n",
       "</style>\n",
       "<table border=\"1\" class=\"dataframe\">\n",
       "  <thead>\n",
       "    <tr>\n",
       "      <th></th>\n",
       "      <th></th>\n",
       "      <th colspan=\"2\" halign=\"left\">maybe</th>\n",
       "      <th colspan=\"2\" halign=\"left\">yes</th>\n",
       "      <th colspan=\"2\" halign=\"left\">no</th>\n",
       "    </tr>\n",
       "    <tr>\n",
       "      <th></th>\n",
       "      <th>[n]</th>\n",
       "      <th>count</th>\n",
       "      <th>%</th>\n",
       "      <th>count</th>\n",
       "      <th>%</th>\n",
       "      <th>count</th>\n",
       "      <th>%</th>\n",
       "    </tr>\n",
       "  </thead>\n",
       "  <tbody>\n",
       "    <tr>\n",
       "      <th>ALL</th>\n",
       "      <td>17</td>\n",
       "      <td>5</td>\n",
       "      <td>0.294118</td>\n",
       "      <td>8</td>\n",
       "      <td>0.470588</td>\n",
       "      <td>4</td>\n",
       "      <td>0.235294</td>\n",
       "    </tr>\n",
       "    <tr>\n",
       "      <th>Alpha Co</th>\n",
       "      <td>10</td>\n",
       "      <td>3</td>\n",
       "      <td>0.300000</td>\n",
       "      <td>5</td>\n",
       "      <td>0.500000</td>\n",
       "      <td>2</td>\n",
       "      <td>0.200000</td>\n",
       "    </tr>\n",
       "    <tr>\n",
       "      <th>Blue Inc</th>\n",
       "      <td>1</td>\n",
       "      <td>0</td>\n",
       "      <td>0.000000</td>\n",
       "      <td>0</td>\n",
       "      <td>0.000000</td>\n",
       "      <td>1</td>\n",
       "      <td>1.000000</td>\n",
       "    </tr>\n",
       "    <tr>\n",
       "      <th>Jones LLC</th>\n",
       "      <td>6</td>\n",
       "      <td>2</td>\n",
       "      <td>0.333333</td>\n",
       "      <td>3</td>\n",
       "      <td>0.500000</td>\n",
       "      <td>1</td>\n",
       "      <td>0.166667</td>\n",
       "    </tr>\n",
       "  </tbody>\n",
       "</table>\n",
       "</div>"
      ],
      "text/plain": [
       "              maybe             yes              no          \n",
       "          [n] count         % count         % count         %\n",
       "ALL        17     5  0.294118     8  0.470588     4  0.235294\n",
       "Alpha Co   10     3  0.300000     5  0.500000     2  0.200000\n",
       "Blue Inc    1     0  0.000000     0  0.000000     1  1.000000\n",
       "Jones LLC   6     2  0.333333     3  0.500000     1  0.166667"
      ]
     },
     "execution_count": 11,
     "metadata": {},
     "output_type": "execute_result"
    }
   ],
   "source": [
    "o = pd.read_pickle(\"summary_data.pkl\")\n",
    "o"
   ]
  },
  {
   "cell_type": "markdown",
   "metadata": {},
   "source": [
    "There is the specified order that is different than the default.\n",
    "\n",
    "We can still use much the same code as earlier to style the formatting in the percent columns."
   ]
  },
  {
   "cell_type": "code",
   "execution_count": 12,
   "metadata": {},
   "outputs": [
    {
     "data": {
      "text/html": [
       "<style  type=\"text/css\" >\n",
       "</style><table id=\"T_0edc382a_9915_11e9_b8e3_cac10da1ba8b\" ><thead>    <tr>        <th class=\"blank level0\" ></th>        <th class=\"col_heading level0 col0\" ></th>        <th class=\"col_heading level0 col1\" colspan=2>maybe</th>        <th class=\"col_heading level0 col3\" colspan=2>yes</th>        <th class=\"col_heading level0 col5\" colspan=2>no</th>    </tr>    <tr>        <th class=\"blank level1\" ></th>        <th class=\"col_heading level1 col0\" >[n]</th>        <th class=\"col_heading level1 col1\" >count</th>        <th class=\"col_heading level1 col2\" >%</th>        <th class=\"col_heading level1 col3\" >count</th>        <th class=\"col_heading level1 col4\" >%</th>        <th class=\"col_heading level1 col5\" >count</th>        <th class=\"col_heading level1 col6\" >%</th>    </tr></thead><tbody>\n",
       "                <tr>\n",
       "                        <th id=\"T_0edc382a_9915_11e9_b8e3_cac10da1ba8blevel0_row0\" class=\"row_heading level0 row0\" >ALL</th>\n",
       "                        <td id=\"T_0edc382a_9915_11e9_b8e3_cac10da1ba8brow0_col0\" class=\"data row0 col0\" >17</td>\n",
       "                        <td id=\"T_0edc382a_9915_11e9_b8e3_cac10da1ba8brow0_col1\" class=\"data row0 col1\" >5</td>\n",
       "                        <td id=\"T_0edc382a_9915_11e9_b8e3_cac10da1ba8brow0_col2\" class=\"data row0 col2\" >29.41%</td>\n",
       "                        <td id=\"T_0edc382a_9915_11e9_b8e3_cac10da1ba8brow0_col3\" class=\"data row0 col3\" >8</td>\n",
       "                        <td id=\"T_0edc382a_9915_11e9_b8e3_cac10da1ba8brow0_col4\" class=\"data row0 col4\" >47.06%</td>\n",
       "                        <td id=\"T_0edc382a_9915_11e9_b8e3_cac10da1ba8brow0_col5\" class=\"data row0 col5\" >4</td>\n",
       "                        <td id=\"T_0edc382a_9915_11e9_b8e3_cac10da1ba8brow0_col6\" class=\"data row0 col6\" >23.53%</td>\n",
       "            </tr>\n",
       "            <tr>\n",
       "                        <th id=\"T_0edc382a_9915_11e9_b8e3_cac10da1ba8blevel0_row1\" class=\"row_heading level0 row1\" >Alpha Co</th>\n",
       "                        <td id=\"T_0edc382a_9915_11e9_b8e3_cac10da1ba8brow1_col0\" class=\"data row1 col0\" >10</td>\n",
       "                        <td id=\"T_0edc382a_9915_11e9_b8e3_cac10da1ba8brow1_col1\" class=\"data row1 col1\" >3</td>\n",
       "                        <td id=\"T_0edc382a_9915_11e9_b8e3_cac10da1ba8brow1_col2\" class=\"data row1 col2\" >30.00%</td>\n",
       "                        <td id=\"T_0edc382a_9915_11e9_b8e3_cac10da1ba8brow1_col3\" class=\"data row1 col3\" >5</td>\n",
       "                        <td id=\"T_0edc382a_9915_11e9_b8e3_cac10da1ba8brow1_col4\" class=\"data row1 col4\" >50.00%</td>\n",
       "                        <td id=\"T_0edc382a_9915_11e9_b8e3_cac10da1ba8brow1_col5\" class=\"data row1 col5\" >2</td>\n",
       "                        <td id=\"T_0edc382a_9915_11e9_b8e3_cac10da1ba8brow1_col6\" class=\"data row1 col6\" >20.00%</td>\n",
       "            </tr>\n",
       "            <tr>\n",
       "                        <th id=\"T_0edc382a_9915_11e9_b8e3_cac10da1ba8blevel0_row2\" class=\"row_heading level0 row2\" >Blue Inc</th>\n",
       "                        <td id=\"T_0edc382a_9915_11e9_b8e3_cac10da1ba8brow2_col0\" class=\"data row2 col0\" >1</td>\n",
       "                        <td id=\"T_0edc382a_9915_11e9_b8e3_cac10da1ba8brow2_col1\" class=\"data row2 col1\" >0</td>\n",
       "                        <td id=\"T_0edc382a_9915_11e9_b8e3_cac10da1ba8brow2_col2\" class=\"data row2 col2\" >0.00%</td>\n",
       "                        <td id=\"T_0edc382a_9915_11e9_b8e3_cac10da1ba8brow2_col3\" class=\"data row2 col3\" >0</td>\n",
       "                        <td id=\"T_0edc382a_9915_11e9_b8e3_cac10da1ba8brow2_col4\" class=\"data row2 col4\" >0.00%</td>\n",
       "                        <td id=\"T_0edc382a_9915_11e9_b8e3_cac10da1ba8brow2_col5\" class=\"data row2 col5\" >1</td>\n",
       "                        <td id=\"T_0edc382a_9915_11e9_b8e3_cac10da1ba8brow2_col6\" class=\"data row2 col6\" >100.00%</td>\n",
       "            </tr>\n",
       "            <tr>\n",
       "                        <th id=\"T_0edc382a_9915_11e9_b8e3_cac10da1ba8blevel0_row3\" class=\"row_heading level0 row3\" >Jones LLC</th>\n",
       "                        <td id=\"T_0edc382a_9915_11e9_b8e3_cac10da1ba8brow3_col0\" class=\"data row3 col0\" >6</td>\n",
       "                        <td id=\"T_0edc382a_9915_11e9_b8e3_cac10da1ba8brow3_col1\" class=\"data row3 col1\" >2</td>\n",
       "                        <td id=\"T_0edc382a_9915_11e9_b8e3_cac10da1ba8brow3_col2\" class=\"data row3 col2\" >33.33%</td>\n",
       "                        <td id=\"T_0edc382a_9915_11e9_b8e3_cac10da1ba8brow3_col3\" class=\"data row3 col3\" >3</td>\n",
       "                        <td id=\"T_0edc382a_9915_11e9_b8e3_cac10da1ba8brow3_col4\" class=\"data row3 col4\" >50.00%</td>\n",
       "                        <td id=\"T_0edc382a_9915_11e9_b8e3_cac10da1ba8brow3_col5\" class=\"data row3 col5\" >1</td>\n",
       "                        <td id=\"T_0edc382a_9915_11e9_b8e3_cac10da1ba8brow3_col6\" class=\"data row3 col6\" >16.67%</td>\n",
       "            </tr>\n",
       "    </tbody></table>"
      ],
      "text/plain": [
       "<pandas.io.formats.style.Styler at 0x7f8ea1a21048>"
      ]
     },
     "execution_count": 12,
     "metadata": {},
     "output_type": "execute_result"
    }
   ],
   "source": [
    "# This would change the view to be nicer; note the underlying dataframe remains untouched\n",
    "o_styl = o.style.format(\"{:.2%}\",subset=[('yes','%'),('maybe','%'),('no','%')]) # based on https://stackoverflow.com/a/56411982/8508004\n",
    "# and https://pandas.pydata.org/pandas-docs/stable/reference/api/pandas.io.formats.style.Styler.format.html\n",
    "o_styl"
   ]
  },
  {
   "cell_type": "markdown",
   "metadata": {},
   "source": [
    "**Leave only the states / subgroups percent**\n",
    "\n",
    "Another optional flag for when calling the script is `--only_subgrp_perc`, abbreivated `-olsp`, to remove the counts for each state / subgroup to just leave the percent accounting for each state subgroup."
   ]
  },
  {
   "cell_type": "code",
   "execution_count": 13,
   "metadata": {},
   "outputs": [
    {
     "name": "stderr",
     "output_type": "stream",
     "text": [
      "Summary dataframe saved as a text table easily opened in\n",
      "different software; file named: `summary_data.tsv`\n",
      "\n",
      "Summary dataframe saved in pickled form for ease of use within\n",
      "Python; file named: `summary_data.pkl`. This will retain the column headers/names formatting best."
     ]
    }
   ],
   "source": [
    "%run df_subgroups_states2summary_df.py data.pkl Manufacturer In_Stock --only_subgrp_perc"
   ]
  },
  {
   "cell_type": "code",
   "execution_count": 14,
   "metadata": {},
   "outputs": [
    {
     "data": {
      "text/html": [
       "<div>\n",
       "<style scoped>\n",
       "    .dataframe tbody tr th:only-of-type {\n",
       "        vertical-align: middle;\n",
       "    }\n",
       "\n",
       "    .dataframe tbody tr th {\n",
       "        vertical-align: top;\n",
       "    }\n",
       "\n",
       "    .dataframe thead th {\n",
       "        text-align: right;\n",
       "    }\n",
       "</style>\n",
       "<table border=\"1\" class=\"dataframe\">\n",
       "  <thead>\n",
       "    <tr style=\"text-align: right;\">\n",
       "      <th></th>\n",
       "      <th>[n]</th>\n",
       "      <th>yes</th>\n",
       "      <th>maybe</th>\n",
       "      <th>no</th>\n",
       "    </tr>\n",
       "  </thead>\n",
       "  <tbody>\n",
       "    <tr>\n",
       "      <th>ALL</th>\n",
       "      <td>17</td>\n",
       "      <td>0.470588</td>\n",
       "      <td>0.294118</td>\n",
       "      <td>0.235294</td>\n",
       "    </tr>\n",
       "    <tr>\n",
       "      <th>Alpha Co</th>\n",
       "      <td>10</td>\n",
       "      <td>0.500000</td>\n",
       "      <td>0.300000</td>\n",
       "      <td>0.200000</td>\n",
       "    </tr>\n",
       "    <tr>\n",
       "      <th>Blue Inc</th>\n",
       "      <td>1</td>\n",
       "      <td>0.000000</td>\n",
       "      <td>0.000000</td>\n",
       "      <td>1.000000</td>\n",
       "    </tr>\n",
       "    <tr>\n",
       "      <th>Jones LLC</th>\n",
       "      <td>6</td>\n",
       "      <td>0.500000</td>\n",
       "      <td>0.333333</td>\n",
       "      <td>0.166667</td>\n",
       "    </tr>\n",
       "  </tbody>\n",
       "</table>\n",
       "</div>"
      ],
      "text/plain": [
       "           [n]       yes     maybe        no\n",
       "ALL         17  0.470588  0.294118  0.235294\n",
       "Alpha Co    10  0.500000  0.300000  0.200000\n",
       "Blue Inc     1  0.000000  0.000000  1.000000\n",
       "Jones LLC    6  0.500000  0.333333  0.166667"
      ]
     },
     "execution_count": 14,
     "metadata": {},
     "output_type": "execute_result"
    }
   ],
   "source": [
    "m = pd.read_pickle(\"summary_data.pkl\")\n",
    "m"
   ]
  },
  {
   "cell_type": "code",
   "execution_count": 15,
   "metadata": {},
   "outputs": [
    {
     "data": {
      "text/html": [
       "<style  type=\"text/css\" >\n",
       "</style><table id=\"T_0eecddba_9915_11e9_b8e3_cac10da1ba8b\" ><thead>    <tr>        <th class=\"blank level0\" ></th>        <th class=\"col_heading level0 col0\" >[n]</th>        <th class=\"col_heading level0 col1\" >yes</th>        <th class=\"col_heading level0 col2\" >maybe</th>        <th class=\"col_heading level0 col3\" >no</th>    </tr></thead><tbody>\n",
       "                <tr>\n",
       "                        <th id=\"T_0eecddba_9915_11e9_b8e3_cac10da1ba8blevel0_row0\" class=\"row_heading level0 row0\" >ALL</th>\n",
       "                        <td id=\"T_0eecddba_9915_11e9_b8e3_cac10da1ba8brow0_col0\" class=\"data row0 col0\" >17</td>\n",
       "                        <td id=\"T_0eecddba_9915_11e9_b8e3_cac10da1ba8brow0_col1\" class=\"data row0 col1\" >47.06%</td>\n",
       "                        <td id=\"T_0eecddba_9915_11e9_b8e3_cac10da1ba8brow0_col2\" class=\"data row0 col2\" >29.41%</td>\n",
       "                        <td id=\"T_0eecddba_9915_11e9_b8e3_cac10da1ba8brow0_col3\" class=\"data row0 col3\" >23.53%</td>\n",
       "            </tr>\n",
       "            <tr>\n",
       "                        <th id=\"T_0eecddba_9915_11e9_b8e3_cac10da1ba8blevel0_row1\" class=\"row_heading level0 row1\" >Alpha Co</th>\n",
       "                        <td id=\"T_0eecddba_9915_11e9_b8e3_cac10da1ba8brow1_col0\" class=\"data row1 col0\" >10</td>\n",
       "                        <td id=\"T_0eecddba_9915_11e9_b8e3_cac10da1ba8brow1_col1\" class=\"data row1 col1\" >50.00%</td>\n",
       "                        <td id=\"T_0eecddba_9915_11e9_b8e3_cac10da1ba8brow1_col2\" class=\"data row1 col2\" >30.00%</td>\n",
       "                        <td id=\"T_0eecddba_9915_11e9_b8e3_cac10da1ba8brow1_col3\" class=\"data row1 col3\" >20.00%</td>\n",
       "            </tr>\n",
       "            <tr>\n",
       "                        <th id=\"T_0eecddba_9915_11e9_b8e3_cac10da1ba8blevel0_row2\" class=\"row_heading level0 row2\" >Blue Inc</th>\n",
       "                        <td id=\"T_0eecddba_9915_11e9_b8e3_cac10da1ba8brow2_col0\" class=\"data row2 col0\" >1</td>\n",
       "                        <td id=\"T_0eecddba_9915_11e9_b8e3_cac10da1ba8brow2_col1\" class=\"data row2 col1\" >0.00%</td>\n",
       "                        <td id=\"T_0eecddba_9915_11e9_b8e3_cac10da1ba8brow2_col2\" class=\"data row2 col2\" >0.00%</td>\n",
       "                        <td id=\"T_0eecddba_9915_11e9_b8e3_cac10da1ba8brow2_col3\" class=\"data row2 col3\" >100.00%</td>\n",
       "            </tr>\n",
       "            <tr>\n",
       "                        <th id=\"T_0eecddba_9915_11e9_b8e3_cac10da1ba8blevel0_row3\" class=\"row_heading level0 row3\" >Jones LLC</th>\n",
       "                        <td id=\"T_0eecddba_9915_11e9_b8e3_cac10da1ba8brow3_col0\" class=\"data row3 col0\" >6</td>\n",
       "                        <td id=\"T_0eecddba_9915_11e9_b8e3_cac10da1ba8brow3_col1\" class=\"data row3 col1\" >50.00%</td>\n",
       "                        <td id=\"T_0eecddba_9915_11e9_b8e3_cac10da1ba8brow3_col2\" class=\"data row3 col2\" >33.33%</td>\n",
       "                        <td id=\"T_0eecddba_9915_11e9_b8e3_cac10da1ba8brow3_col3\" class=\"data row3 col3\" >16.67%</td>\n",
       "            </tr>\n",
       "    </tbody></table>"
      ],
      "text/plain": [
       "<pandas.io.formats.style.Styler at 0x7f8ea1a21080>"
      ]
     },
     "execution_count": 15,
     "metadata": {},
     "output_type": "execute_result"
    }
   ],
   "source": [
    "# This would change the view to be nicer; note the underlying dataframe remains unotuched\n",
    "m_styl = m.style.format(\"{:.2%}\",subset=m.columns[1:]) # based on https://stackoverflow.com/a/56411982/8508004\n",
    "# and https://pandas.pydata.org/pandas-docs/stable/reference/api/pandas.io.formats.style.Styler.format.html\n",
    "m_styl"
   ]
  },
  {
   "cell_type": "markdown",
   "metadata": {},
   "source": [
    "**Put the counts in brackets after the percent**\n",
    "\n",
    "Another optional flag for when calling the script is `--bracket_counts`, abbreivated `-bc`, to move the counts for each state / subgroup to be inside brackets following the percent. Note that this is simply meant for making better, succint summaries for presentations because it actually combines two represenations in a single cell which isn't straighforward to use for subsequent analysis. And in fact it returns a simpler version with the numbers still as numbers in separate *in addition* to highlight that and still provide for working with the data further."
   ]
  },
  {
   "cell_type": "code",
   "execution_count": 16,
   "metadata": {},
   "outputs": [
    {
     "name": "stderr",
     "output_type": "stream",
     "text": [
      "Summary dataframe saved as a text table easily opened in\n",
      "different software; file named: `summary_data.tsv`. This version meant for presenation only.\n",
      "\n",
      "Summary dataframe saved in pickled form for ease of use within\n",
      "Python; file named: `summary_data.pkl`. This version meant for\n",
      "presentation only.\n",
      "\n",
      "\n",
      "**Also saving data table as forms easier to handle for subsequent steps:**\n",
      "Summary dataframe saved as a text table easily opened in\n",
      "different software; file named: `summary_basic_data.tsv`\n",
      "\n",
      "Summary dataframe saved in pickled form for ease of use within\n",
      "Python; file named: `summary_basic_data.pkl`. This will retain the column headers/names formatting best."
     ]
    }
   ],
   "source": [
    "%run df_subgroups_states2summary_df.py data.pkl Manufacturer In_Stock  --bracket_counts"
   ]
  },
  {
   "cell_type": "markdown",
   "metadata": {},
   "source": [
    "Note the exta feedback about the more basic version of the summary also being returned.\n",
    "\n",
    "Let's look at the more summarized version."
   ]
  },
  {
   "cell_type": "code",
   "execution_count": 17,
   "metadata": {},
   "outputs": [
    {
     "data": {
      "text/html": [
       "<div>\n",
       "<style scoped>\n",
       "    .dataframe tbody tr th:only-of-type {\n",
       "        vertical-align: middle;\n",
       "    }\n",
       "\n",
       "    .dataframe tbody tr th {\n",
       "        vertical-align: top;\n",
       "    }\n",
       "\n",
       "    .dataframe thead th {\n",
       "        text-align: right;\n",
       "    }\n",
       "</style>\n",
       "<table border=\"1\" class=\"dataframe\">\n",
       "  <thead>\n",
       "    <tr style=\"text-align: right;\">\n",
       "      <th></th>\n",
       "      <th>[n]</th>\n",
       "      <th>yes</th>\n",
       "      <th>maybe</th>\n",
       "      <th>no</th>\n",
       "    </tr>\n",
       "  </thead>\n",
       "  <tbody>\n",
       "    <tr>\n",
       "      <th>ALL</th>\n",
       "      <td>17.0</td>\n",
       "      <td>47.06% [8]</td>\n",
       "      <td>29.41% [5]</td>\n",
       "      <td>23.53% [4]</td>\n",
       "    </tr>\n",
       "    <tr>\n",
       "      <th>Alpha Co</th>\n",
       "      <td>10.0</td>\n",
       "      <td>50.00% [5]</td>\n",
       "      <td>30.00% [3]</td>\n",
       "      <td>20.00% [2]</td>\n",
       "    </tr>\n",
       "    <tr>\n",
       "      <th>Blue Inc</th>\n",
       "      <td>1.0</td>\n",
       "      <td>0.00% [0]</td>\n",
       "      <td>0.00% [0]</td>\n",
       "      <td>100.00% [1]</td>\n",
       "    </tr>\n",
       "    <tr>\n",
       "      <th>Jones LLC</th>\n",
       "      <td>6.0</td>\n",
       "      <td>50.00% [3]</td>\n",
       "      <td>33.33% [2]</td>\n",
       "      <td>16.67% [1]</td>\n",
       "    </tr>\n",
       "  </tbody>\n",
       "</table>\n",
       "</div>"
      ],
      "text/plain": [
       "            [n]         yes       maybe           no\n",
       "ALL        17.0  47.06% [8]  29.41% [5]   23.53% [4]\n",
       "Alpha Co   10.0  50.00% [5]  30.00% [3]   20.00% [2]\n",
       "Blue Inc    1.0   0.00% [0]   0.00% [0]  100.00% [1]\n",
       "Jones LLC   6.0  50.00% [3]  33.33% [2]   16.67% [1]"
      ]
     },
     "execution_count": 17,
     "metadata": {},
     "output_type": "execute_result"
    }
   ],
   "source": [
    "bc = pd.read_pickle(\"summary_data.pkl\")\n",
    "bc"
   ]
  },
  {
   "cell_type": "markdown",
   "metadata": {},
   "source": [
    "However, note in addition to the one made for presentation there is the other produced by the single script execution as well:"
   ]
  },
  {
   "cell_type": "code",
   "execution_count": 18,
   "metadata": {},
   "outputs": [
    {
     "data": {
      "text/html": [
       "<div>\n",
       "<style scoped>\n",
       "    .dataframe tbody tr th:only-of-type {\n",
       "        vertical-align: middle;\n",
       "    }\n",
       "\n",
       "    .dataframe tbody tr th {\n",
       "        vertical-align: top;\n",
       "    }\n",
       "\n",
       "    .dataframe thead tr th {\n",
       "        text-align: left;\n",
       "    }\n",
       "</style>\n",
       "<table border=\"1\" class=\"dataframe\">\n",
       "  <thead>\n",
       "    <tr>\n",
       "      <th></th>\n",
       "      <th></th>\n",
       "      <th colspan=\"2\" halign=\"left\">yes</th>\n",
       "      <th colspan=\"2\" halign=\"left\">maybe</th>\n",
       "      <th colspan=\"2\" halign=\"left\">no</th>\n",
       "    </tr>\n",
       "    <tr>\n",
       "      <th></th>\n",
       "      <th>[n]</th>\n",
       "      <th>count</th>\n",
       "      <th>%</th>\n",
       "      <th>count</th>\n",
       "      <th>%</th>\n",
       "      <th>count</th>\n",
       "      <th>%</th>\n",
       "    </tr>\n",
       "  </thead>\n",
       "  <tbody>\n",
       "    <tr>\n",
       "      <th>ALL</th>\n",
       "      <td>17</td>\n",
       "      <td>8</td>\n",
       "      <td>0.470588</td>\n",
       "      <td>5</td>\n",
       "      <td>0.294118</td>\n",
       "      <td>4</td>\n",
       "      <td>0.235294</td>\n",
       "    </tr>\n",
       "    <tr>\n",
       "      <th>Alpha Co</th>\n",
       "      <td>10</td>\n",
       "      <td>5</td>\n",
       "      <td>0.500000</td>\n",
       "      <td>3</td>\n",
       "      <td>0.300000</td>\n",
       "      <td>2</td>\n",
       "      <td>0.200000</td>\n",
       "    </tr>\n",
       "    <tr>\n",
       "      <th>Blue Inc</th>\n",
       "      <td>1</td>\n",
       "      <td>0</td>\n",
       "      <td>0.000000</td>\n",
       "      <td>0</td>\n",
       "      <td>0.000000</td>\n",
       "      <td>1</td>\n",
       "      <td>1.000000</td>\n",
       "    </tr>\n",
       "    <tr>\n",
       "      <th>Jones LLC</th>\n",
       "      <td>6</td>\n",
       "      <td>3</td>\n",
       "      <td>0.500000</td>\n",
       "      <td>2</td>\n",
       "      <td>0.333333</td>\n",
       "      <td>1</td>\n",
       "      <td>0.166667</td>\n",
       "    </tr>\n",
       "  </tbody>\n",
       "</table>\n",
       "</div>"
      ],
      "text/plain": [
       "                yes           maybe              no          \n",
       "          [n] count         % count         % count         %\n",
       "ALL        17     8  0.470588     5  0.294118     4  0.235294\n",
       "Alpha Co   10     5  0.500000     3  0.300000     2  0.200000\n",
       "Blue Inc    1     0  0.000000     0  0.000000     1  1.000000\n",
       "Jones LLC   6     3  0.500000     2  0.333333     1  0.166667"
      ]
     },
     "execution_count": 18,
     "metadata": {},
     "output_type": "execute_result"
    }
   ],
   "source": [
    "mb = pd.read_pickle(\"summary_basic_data.pkl\")\n",
    "mb"
   ]
  },
  {
   "cell_type": "markdown",
   "metadata": {},
   "source": [
    "Additional customization of naming of the output files is possible simply editing settings under the 'USER ADJUSTABLE VALUES' section in the script code file.\n",
    "\n",
    "\n",
    "----"
   ]
  },
  {
   "cell_type": "markdown",
   "metadata": {},
   "source": [
    "## Use script in a Jupyter or IPython by calling the main function\n",
    "\n",
    "This will demonstrate importing the main function into a Jupyer environment or IPython console.\n",
    "\n",
    "Note that it gives you a few more options because it exposes more control, such as allowing you to specify an order for when the column names actually include spaces.\n",
    "\n",
    "First, we'll use the files for the dataframe and tabular text saved earlier in the example. After that will move on to not using files and instead use Python objects that are in the memory of the notebook. No need for file intermediates is one of the advantages of using the main function of the script this way.\n",
    "\n",
    "We will need to import the main function of the script to be active in the running notebook environment. (There is no harm to running it again even if already run in earlier sections.)"
   ]
  },
  {
   "cell_type": "code",
   "execution_count": 19,
   "metadata": {},
   "outputs": [],
   "source": [
    "from df_subgroups_states2summary_df import df_subgroups_states2summary_df"
   ]
  },
  {
   "cell_type": "markdown",
   "metadata": {},
   "source": [
    "Now to try using that with the files from earlier in the demonstration.\n",
    "\n",
    "First, we'll use the tab-separated table.\n",
    "\n",
    "It is very similar to using the script from the command line. Here, though we have to specify the input type as file or an in-memory dataframe when we call the function. Provide a file name for `df_file` for using a data file as input. Then specify the colum with the binary data and the column to use in grouping like the following."
   ]
  },
  {
   "cell_type": "code",
   "execution_count": 20,
   "metadata": {},
   "outputs": [
    {
     "name": "stderr",
     "output_type": "stream",
     "text": [
      "Summary dataframe returned."
     ]
    }
   ],
   "source": [
    "sum_df = df_subgroups_states2summary_df(df_file=\"data.tsv\",groups_col=\"Manufacturer\", subgroups_col=\"In_Stock\");"
   ]
  },
  {
   "cell_type": "markdown",
   "metadata": {},
   "source": [
    "Let's view the returned dataframe."
   ]
  },
  {
   "cell_type": "code",
   "execution_count": 21,
   "metadata": {},
   "outputs": [
    {
     "data": {
      "text/html": [
       "<div>\n",
       "<style scoped>\n",
       "    .dataframe tbody tr th:only-of-type {\n",
       "        vertical-align: middle;\n",
       "    }\n",
       "\n",
       "    .dataframe tbody tr th {\n",
       "        vertical-align: top;\n",
       "    }\n",
       "\n",
       "    .dataframe thead tr th {\n",
       "        text-align: left;\n",
       "    }\n",
       "</style>\n",
       "<table border=\"1\" class=\"dataframe\">\n",
       "  <thead>\n",
       "    <tr>\n",
       "      <th></th>\n",
       "      <th></th>\n",
       "      <th colspan=\"2\" halign=\"left\">yes</th>\n",
       "      <th colspan=\"2\" halign=\"left\">maybe</th>\n",
       "      <th colspan=\"2\" halign=\"left\">no</th>\n",
       "    </tr>\n",
       "    <tr>\n",
       "      <th></th>\n",
       "      <th>[n]</th>\n",
       "      <th>count</th>\n",
       "      <th>%</th>\n",
       "      <th>count</th>\n",
       "      <th>%</th>\n",
       "      <th>count</th>\n",
       "      <th>%</th>\n",
       "    </tr>\n",
       "  </thead>\n",
       "  <tbody>\n",
       "    <tr>\n",
       "      <th>ALL</th>\n",
       "      <td>17</td>\n",
       "      <td>8</td>\n",
       "      <td>0.470588</td>\n",
       "      <td>5</td>\n",
       "      <td>0.294118</td>\n",
       "      <td>4</td>\n",
       "      <td>0.235294</td>\n",
       "    </tr>\n",
       "    <tr>\n",
       "      <th>Alpha Co</th>\n",
       "      <td>10</td>\n",
       "      <td>5</td>\n",
       "      <td>0.500000</td>\n",
       "      <td>3</td>\n",
       "      <td>0.300000</td>\n",
       "      <td>2</td>\n",
       "      <td>0.200000</td>\n",
       "    </tr>\n",
       "    <tr>\n",
       "      <th>Blue Inc</th>\n",
       "      <td>1</td>\n",
       "      <td>0</td>\n",
       "      <td>0.000000</td>\n",
       "      <td>0</td>\n",
       "      <td>0.000000</td>\n",
       "      <td>1</td>\n",
       "      <td>1.000000</td>\n",
       "    </tr>\n",
       "    <tr>\n",
       "      <th>Jones LLC</th>\n",
       "      <td>6</td>\n",
       "      <td>3</td>\n",
       "      <td>0.500000</td>\n",
       "      <td>2</td>\n",
       "      <td>0.333333</td>\n",
       "      <td>1</td>\n",
       "      <td>0.166667</td>\n",
       "    </tr>\n",
       "  </tbody>\n",
       "</table>\n",
       "</div>"
      ],
      "text/plain": [
       "                yes           maybe              no          \n",
       "          [n] count         % count         % count         %\n",
       "ALL        17     8  0.470588     5  0.294118     4  0.235294\n",
       "Alpha Co   10     5  0.500000     3  0.300000     2  0.200000\n",
       "Blue Inc    1     0  0.000000     0  0.000000     1  1.000000\n",
       "Jones LLC   6     3  0.500000     2  0.333333     1  0.166667"
      ]
     },
     "execution_count": 21,
     "metadata": {},
     "output_type": "execute_result"
    }
   ],
   "source": [
    "sum_df"
   ]
  },
  {
   "cell_type": "markdown",
   "metadata": {},
   "source": [
    "However, the function can also take an in-memory dataframe directly. Let's next see a demonstration of that. \n",
    "\n",
    "To be sure a dataframe is in memory, we'll read in one from the file saved earlier.  \n",
    "You may note that this step is redundant if you are running all these cells in order, and the one made earlier is in memory still; however, I want to be sure all is on the same page before the next steps while emphasizing here the switch from using a file as data to something in the memory of the current notebook."
   ]
  },
  {
   "cell_type": "code",
   "execution_count": 22,
   "metadata": {},
   "outputs": [],
   "source": [
    "df = pd.read_pickle(\"data.pkl\")"
   ]
  },
  {
   "cell_type": "markdown",
   "metadata": {},
   "source": [
    "We can look at the start of that dataframe to verify it is in memory now."
   ]
  },
  {
   "cell_type": "code",
   "execution_count": 23,
   "metadata": {},
   "outputs": [
    {
     "data": {
      "text/html": [
       "<div>\n",
       "<style scoped>\n",
       "    .dataframe tbody tr th:only-of-type {\n",
       "        vertical-align: middle;\n",
       "    }\n",
       "\n",
       "    .dataframe tbody tr th {\n",
       "        vertical-align: top;\n",
       "    }\n",
       "\n",
       "    .dataframe thead th {\n",
       "        text-align: right;\n",
       "    }\n",
       "</style>\n",
       "<table border=\"1\" class=\"dataframe\">\n",
       "  <thead>\n",
       "    <tr style=\"text-align: right;\">\n",
       "      <th></th>\n",
       "      <th>Manufacturer</th>\n",
       "      <th>Item</th>\n",
       "      <th>In_Stock</th>\n",
       "    </tr>\n",
       "  </thead>\n",
       "  <tbody>\n",
       "    <tr>\n",
       "      <th>0</th>\n",
       "      <td>Jones LLC</td>\n",
       "      <td>177887</td>\n",
       "      <td>yes</td>\n",
       "    </tr>\n",
       "    <tr>\n",
       "      <th>1</th>\n",
       "      <td>Jones LLC</td>\n",
       "      <td>12387</td>\n",
       "      <td>yes</td>\n",
       "    </tr>\n",
       "    <tr>\n",
       "      <th>2</th>\n",
       "      <td>Jones LLC</td>\n",
       "      <td>1772287</td>\n",
       "      <td>yes</td>\n",
       "    </tr>\n",
       "    <tr>\n",
       "      <th>3</th>\n",
       "      <td>Jones LLC</td>\n",
       "      <td>1187</td>\n",
       "      <td>maybe</td>\n",
       "    </tr>\n",
       "    <tr>\n",
       "      <th>4</th>\n",
       "      <td>Jones LLC</td>\n",
       "      <td>1773297</td>\n",
       "      <td>maybe</td>\n",
       "    </tr>\n",
       "  </tbody>\n",
       "</table>\n",
       "</div>"
      ],
      "text/plain": [
       "  Manufacturer     Item In_Stock\n",
       "0    Jones LLC   177887      yes\n",
       "1    Jones LLC    12387      yes\n",
       "2    Jones LLC  1772287      yes\n",
       "3    Jones LLC     1187    maybe\n",
       "4    Jones LLC  1773297    maybe"
      ]
     },
     "execution_count": 23,
     "metadata": {},
     "output_type": "execute_result"
    }
   ],
   "source": [
    "df.head()"
   ]
  },
  {
   "cell_type": "code",
   "execution_count": 24,
   "metadata": {},
   "outputs": [
    {
     "name": "stderr",
     "output_type": "stream",
     "text": [
      "Summary dataframe returned."
     ]
    },
    {
     "data": {
      "text/html": [
       "<div>\n",
       "<style scoped>\n",
       "    .dataframe tbody tr th:only-of-type {\n",
       "        vertical-align: middle;\n",
       "    }\n",
       "\n",
       "    .dataframe tbody tr th {\n",
       "        vertical-align: top;\n",
       "    }\n",
       "\n",
       "    .dataframe thead tr th {\n",
       "        text-align: left;\n",
       "    }\n",
       "</style>\n",
       "<table border=\"1\" class=\"dataframe\">\n",
       "  <thead>\n",
       "    <tr>\n",
       "      <th></th>\n",
       "      <th></th>\n",
       "      <th colspan=\"2\" halign=\"left\">yes</th>\n",
       "      <th colspan=\"2\" halign=\"left\">maybe</th>\n",
       "      <th colspan=\"2\" halign=\"left\">no</th>\n",
       "    </tr>\n",
       "    <tr>\n",
       "      <th></th>\n",
       "      <th>[n]</th>\n",
       "      <th>count</th>\n",
       "      <th>%</th>\n",
       "      <th>count</th>\n",
       "      <th>%</th>\n",
       "      <th>count</th>\n",
       "      <th>%</th>\n",
       "    </tr>\n",
       "  </thead>\n",
       "  <tbody>\n",
       "    <tr>\n",
       "      <th>ALL</th>\n",
       "      <td>17</td>\n",
       "      <td>8</td>\n",
       "      <td>0.470588</td>\n",
       "      <td>5</td>\n",
       "      <td>0.294118</td>\n",
       "      <td>4</td>\n",
       "      <td>0.235294</td>\n",
       "    </tr>\n",
       "    <tr>\n",
       "      <th>Alpha Co</th>\n",
       "      <td>10</td>\n",
       "      <td>5</td>\n",
       "      <td>0.500000</td>\n",
       "      <td>3</td>\n",
       "      <td>0.300000</td>\n",
       "      <td>2</td>\n",
       "      <td>0.200000</td>\n",
       "    </tr>\n",
       "    <tr>\n",
       "      <th>Blue Inc</th>\n",
       "      <td>1</td>\n",
       "      <td>0</td>\n",
       "      <td>0.000000</td>\n",
       "      <td>0</td>\n",
       "      <td>0.000000</td>\n",
       "      <td>1</td>\n",
       "      <td>1.000000</td>\n",
       "    </tr>\n",
       "    <tr>\n",
       "      <th>Jones LLC</th>\n",
       "      <td>6</td>\n",
       "      <td>3</td>\n",
       "      <td>0.500000</td>\n",
       "      <td>2</td>\n",
       "      <td>0.333333</td>\n",
       "      <td>1</td>\n",
       "      <td>0.166667</td>\n",
       "    </tr>\n",
       "  </tbody>\n",
       "</table>\n",
       "</div>"
      ],
      "text/plain": [
       "                yes           maybe              no          \n",
       "          [n] count         % count         % count         %\n",
       "ALL        17     8  0.470588     5  0.294118     4  0.235294\n",
       "Alpha Co   10     5  0.500000     3  0.300000     2  0.200000\n",
       "Blue Inc    1     0  0.000000     0  0.000000     1  1.000000\n",
       "Jones LLC   6     3  0.500000     2  0.333333     1  0.166667"
      ]
     },
     "execution_count": 24,
     "metadata": {},
     "output_type": "execute_result"
    }
   ],
   "source": [
    "sum_df = df_subgroups_states2summary_df(df=df,groups_col=\"Manufacturer\", subgroups_col=\"In_Stock\");\n",
    "sum_df"
   ]
  },
  {
   "cell_type": "markdown",
   "metadata": {},
   "source": [
    "The output from using the main function can be viewed and formatted just as when using the script from the equivalent of the command line."
   ]
  },
  {
   "cell_type": "code",
   "execution_count": 25,
   "metadata": {},
   "outputs": [
    {
     "data": {
      "text/html": [
       "<style  type=\"text/css\" >\n",
       "</style><table id=\"T_0f2b3bbe_9915_11e9_b8e3_cac10da1ba8b\" ><thead>    <tr>        <th class=\"blank level0\" ></th>        <th class=\"col_heading level0 col0\" ></th>        <th class=\"col_heading level0 col1\" colspan=2>yes</th>        <th class=\"col_heading level0 col3\" colspan=2>maybe</th>        <th class=\"col_heading level0 col5\" colspan=2>no</th>    </tr>    <tr>        <th class=\"blank level1\" ></th>        <th class=\"col_heading level1 col0\" >[n]</th>        <th class=\"col_heading level1 col1\" >count</th>        <th class=\"col_heading level1 col2\" >%</th>        <th class=\"col_heading level1 col3\" >count</th>        <th class=\"col_heading level1 col4\" >%</th>        <th class=\"col_heading level1 col5\" >count</th>        <th class=\"col_heading level1 col6\" >%</th>    </tr></thead><tbody>\n",
       "                <tr>\n",
       "                        <th id=\"T_0f2b3bbe_9915_11e9_b8e3_cac10da1ba8blevel0_row0\" class=\"row_heading level0 row0\" >ALL</th>\n",
       "                        <td id=\"T_0f2b3bbe_9915_11e9_b8e3_cac10da1ba8brow0_col0\" class=\"data row0 col0\" >17</td>\n",
       "                        <td id=\"T_0f2b3bbe_9915_11e9_b8e3_cac10da1ba8brow0_col1\" class=\"data row0 col1\" >8</td>\n",
       "                        <td id=\"T_0f2b3bbe_9915_11e9_b8e3_cac10da1ba8brow0_col2\" class=\"data row0 col2\" >47.06%</td>\n",
       "                        <td id=\"T_0f2b3bbe_9915_11e9_b8e3_cac10da1ba8brow0_col3\" class=\"data row0 col3\" >5</td>\n",
       "                        <td id=\"T_0f2b3bbe_9915_11e9_b8e3_cac10da1ba8brow0_col4\" class=\"data row0 col4\" >29.41%</td>\n",
       "                        <td id=\"T_0f2b3bbe_9915_11e9_b8e3_cac10da1ba8brow0_col5\" class=\"data row0 col5\" >4</td>\n",
       "                        <td id=\"T_0f2b3bbe_9915_11e9_b8e3_cac10da1ba8brow0_col6\" class=\"data row0 col6\" >23.53%</td>\n",
       "            </tr>\n",
       "            <tr>\n",
       "                        <th id=\"T_0f2b3bbe_9915_11e9_b8e3_cac10da1ba8blevel0_row1\" class=\"row_heading level0 row1\" >Alpha Co</th>\n",
       "                        <td id=\"T_0f2b3bbe_9915_11e9_b8e3_cac10da1ba8brow1_col0\" class=\"data row1 col0\" >10</td>\n",
       "                        <td id=\"T_0f2b3bbe_9915_11e9_b8e3_cac10da1ba8brow1_col1\" class=\"data row1 col1\" >5</td>\n",
       "                        <td id=\"T_0f2b3bbe_9915_11e9_b8e3_cac10da1ba8brow1_col2\" class=\"data row1 col2\" >50.00%</td>\n",
       "                        <td id=\"T_0f2b3bbe_9915_11e9_b8e3_cac10da1ba8brow1_col3\" class=\"data row1 col3\" >3</td>\n",
       "                        <td id=\"T_0f2b3bbe_9915_11e9_b8e3_cac10da1ba8brow1_col4\" class=\"data row1 col4\" >30.00%</td>\n",
       "                        <td id=\"T_0f2b3bbe_9915_11e9_b8e3_cac10da1ba8brow1_col5\" class=\"data row1 col5\" >2</td>\n",
       "                        <td id=\"T_0f2b3bbe_9915_11e9_b8e3_cac10da1ba8brow1_col6\" class=\"data row1 col6\" >20.00%</td>\n",
       "            </tr>\n",
       "            <tr>\n",
       "                        <th id=\"T_0f2b3bbe_9915_11e9_b8e3_cac10da1ba8blevel0_row2\" class=\"row_heading level0 row2\" >Blue Inc</th>\n",
       "                        <td id=\"T_0f2b3bbe_9915_11e9_b8e3_cac10da1ba8brow2_col0\" class=\"data row2 col0\" >1</td>\n",
       "                        <td id=\"T_0f2b3bbe_9915_11e9_b8e3_cac10da1ba8brow2_col1\" class=\"data row2 col1\" >0</td>\n",
       "                        <td id=\"T_0f2b3bbe_9915_11e9_b8e3_cac10da1ba8brow2_col2\" class=\"data row2 col2\" >0.00%</td>\n",
       "                        <td id=\"T_0f2b3bbe_9915_11e9_b8e3_cac10da1ba8brow2_col3\" class=\"data row2 col3\" >0</td>\n",
       "                        <td id=\"T_0f2b3bbe_9915_11e9_b8e3_cac10da1ba8brow2_col4\" class=\"data row2 col4\" >0.00%</td>\n",
       "                        <td id=\"T_0f2b3bbe_9915_11e9_b8e3_cac10da1ba8brow2_col5\" class=\"data row2 col5\" >1</td>\n",
       "                        <td id=\"T_0f2b3bbe_9915_11e9_b8e3_cac10da1ba8brow2_col6\" class=\"data row2 col6\" >100.00%</td>\n",
       "            </tr>\n",
       "            <tr>\n",
       "                        <th id=\"T_0f2b3bbe_9915_11e9_b8e3_cac10da1ba8blevel0_row3\" class=\"row_heading level0 row3\" >Jones LLC</th>\n",
       "                        <td id=\"T_0f2b3bbe_9915_11e9_b8e3_cac10da1ba8brow3_col0\" class=\"data row3 col0\" >6</td>\n",
       "                        <td id=\"T_0f2b3bbe_9915_11e9_b8e3_cac10da1ba8brow3_col1\" class=\"data row3 col1\" >3</td>\n",
       "                        <td id=\"T_0f2b3bbe_9915_11e9_b8e3_cac10da1ba8brow3_col2\" class=\"data row3 col2\" >50.00%</td>\n",
       "                        <td id=\"T_0f2b3bbe_9915_11e9_b8e3_cac10da1ba8brow3_col3\" class=\"data row3 col3\" >2</td>\n",
       "                        <td id=\"T_0f2b3bbe_9915_11e9_b8e3_cac10da1ba8brow3_col4\" class=\"data row3 col4\" >33.33%</td>\n",
       "                        <td id=\"T_0f2b3bbe_9915_11e9_b8e3_cac10da1ba8brow3_col5\" class=\"data row3 col5\" >1</td>\n",
       "                        <td id=\"T_0f2b3bbe_9915_11e9_b8e3_cac10da1ba8brow3_col6\" class=\"data row3 col6\" >16.67%</td>\n",
       "            </tr>\n",
       "    </tbody></table>"
      ],
      "text/plain": [
       "<pandas.io.formats.style.Styler at 0x7f8ebfda7b70>"
      ]
     },
     "execution_count": 25,
     "metadata": {},
     "output_type": "execute_result"
    }
   ],
   "source": [
    "# This would change the view to be nicer; note the underlying dataframe remains unotuched\n",
    "sum_df_styl = sum_df.style.format(\"{:.2%}\",subset=[('yes','%'),('maybe','%'),('no','%')]) # based on https://stackoverflow.com/a/56411982/8508004\n",
    "# and https://pandas.pydata.org/pandas-docs/stable/reference/api/pandas.io.formats.style.Styler.format.html\n",
    "sum_df_styl"
   ]
  },
  {
   "cell_type": "markdown",
   "metadata": {},
   "source": [
    "Just as with calling the command line version, there are number of additional arguments that can be specified to control the output. The rest of this section will illustrate those."
   ]
  },
  {
   "cell_type": "markdown",
   "metadata": {},
   "source": [
    "\n",
    "**Order**\n",
    "\n",
    "You can supply an `order` when calling the command to specify how to present the states / subgroups from left to right in the summary table. You assign `order` a python list with all the states / subgroups in the order you want. If you don't know the states / subgroups, just run the function without specifying anything and then collect them from the ouput.\n",
    "\n",
    "This should allow using states with spaces in the names as well which won't work from the command line because of the simple way I handled input of the list there."
   ]
  },
  {
   "cell_type": "code",
   "execution_count": 26,
   "metadata": {},
   "outputs": [
    {
     "name": "stderr",
     "output_type": "stream",
     "text": [
      "Summary dataframe returned."
     ]
    },
    {
     "data": {
      "text/html": [
       "<div>\n",
       "<style scoped>\n",
       "    .dataframe tbody tr th:only-of-type {\n",
       "        vertical-align: middle;\n",
       "    }\n",
       "\n",
       "    .dataframe tbody tr th {\n",
       "        vertical-align: top;\n",
       "    }\n",
       "\n",
       "    .dataframe thead tr th {\n",
       "        text-align: left;\n",
       "    }\n",
       "</style>\n",
       "<table border=\"1\" class=\"dataframe\">\n",
       "  <thead>\n",
       "    <tr>\n",
       "      <th></th>\n",
       "      <th></th>\n",
       "      <th colspan=\"2\" halign=\"left\">maybe</th>\n",
       "      <th colspan=\"2\" halign=\"left\">yes</th>\n",
       "      <th colspan=\"2\" halign=\"left\">no</th>\n",
       "    </tr>\n",
       "    <tr>\n",
       "      <th></th>\n",
       "      <th>[n]</th>\n",
       "      <th>count</th>\n",
       "      <th>%</th>\n",
       "      <th>count</th>\n",
       "      <th>%</th>\n",
       "      <th>count</th>\n",
       "      <th>%</th>\n",
       "    </tr>\n",
       "  </thead>\n",
       "  <tbody>\n",
       "    <tr>\n",
       "      <th>ALL</th>\n",
       "      <td>17</td>\n",
       "      <td>5</td>\n",
       "      <td>0.294118</td>\n",
       "      <td>8</td>\n",
       "      <td>0.470588</td>\n",
       "      <td>4</td>\n",
       "      <td>0.235294</td>\n",
       "    </tr>\n",
       "    <tr>\n",
       "      <th>Alpha Co</th>\n",
       "      <td>10</td>\n",
       "      <td>3</td>\n",
       "      <td>0.300000</td>\n",
       "      <td>5</td>\n",
       "      <td>0.500000</td>\n",
       "      <td>2</td>\n",
       "      <td>0.200000</td>\n",
       "    </tr>\n",
       "    <tr>\n",
       "      <th>Blue Inc</th>\n",
       "      <td>1</td>\n",
       "      <td>0</td>\n",
       "      <td>0.000000</td>\n",
       "      <td>0</td>\n",
       "      <td>0.000000</td>\n",
       "      <td>1</td>\n",
       "      <td>1.000000</td>\n",
       "    </tr>\n",
       "    <tr>\n",
       "      <th>Jones LLC</th>\n",
       "      <td>6</td>\n",
       "      <td>2</td>\n",
       "      <td>0.333333</td>\n",
       "      <td>3</td>\n",
       "      <td>0.500000</td>\n",
       "      <td>1</td>\n",
       "      <td>0.166667</td>\n",
       "    </tr>\n",
       "  </tbody>\n",
       "</table>\n",
       "</div>"
      ],
      "text/plain": [
       "              maybe             yes              no          \n",
       "          [n] count         % count         % count         %\n",
       "ALL        17     5  0.294118     8  0.470588     4  0.235294\n",
       "Alpha Co   10     3  0.300000     5  0.500000     2  0.200000\n",
       "Blue Inc    1     0  0.000000     0  0.000000     1  1.000000\n",
       "Jones LLC   6     2  0.333333     3  0.500000     1  0.166667"
      ]
     },
     "execution_count": 26,
     "metadata": {},
     "output_type": "execute_result"
    }
   ],
   "source": [
    "osum_df = df_subgroups_states2summary_df(df_file=\"data.tsv\",groups_col=\"Manufacturer\", subgroups_col=\"In_Stock\",order=[\"maybe\",\"yes\",\"no\"]);\n",
    "osum_df"
   ]
  },
  {
   "cell_type": "markdown",
   "metadata": {},
   "source": [
    "**Leave only the states / subgroups percent**\n",
    "\n",
    "Another optional setting to specify when calling the function is to assign `only_subgrp_perc` as `True` to remove the counts for each state / subgroup to just leave the percent accounting for each state subgroup. \n",
    "It defaults to `False` if not specified."
   ]
  },
  {
   "cell_type": "code",
   "execution_count": 27,
   "metadata": {},
   "outputs": [
    {
     "name": "stderr",
     "output_type": "stream",
     "text": [
      "Summary dataframe returned."
     ]
    },
    {
     "data": {
      "text/html": [
       "<div>\n",
       "<style scoped>\n",
       "    .dataframe tbody tr th:only-of-type {\n",
       "        vertical-align: middle;\n",
       "    }\n",
       "\n",
       "    .dataframe tbody tr th {\n",
       "        vertical-align: top;\n",
       "    }\n",
       "\n",
       "    .dataframe thead th {\n",
       "        text-align: right;\n",
       "    }\n",
       "</style>\n",
       "<table border=\"1\" class=\"dataframe\">\n",
       "  <thead>\n",
       "    <tr style=\"text-align: right;\">\n",
       "      <th></th>\n",
       "      <th>[n]</th>\n",
       "      <th>yes</th>\n",
       "      <th>maybe</th>\n",
       "      <th>no</th>\n",
       "    </tr>\n",
       "  </thead>\n",
       "  <tbody>\n",
       "    <tr>\n",
       "      <th>ALL</th>\n",
       "      <td>17</td>\n",
       "      <td>0.470588</td>\n",
       "      <td>0.294118</td>\n",
       "      <td>0.235294</td>\n",
       "    </tr>\n",
       "    <tr>\n",
       "      <th>Alpha Co</th>\n",
       "      <td>10</td>\n",
       "      <td>0.500000</td>\n",
       "      <td>0.300000</td>\n",
       "      <td>0.200000</td>\n",
       "    </tr>\n",
       "    <tr>\n",
       "      <th>Blue Inc</th>\n",
       "      <td>1</td>\n",
       "      <td>0.000000</td>\n",
       "      <td>0.000000</td>\n",
       "      <td>1.000000</td>\n",
       "    </tr>\n",
       "    <tr>\n",
       "      <th>Jones LLC</th>\n",
       "      <td>6</td>\n",
       "      <td>0.500000</td>\n",
       "      <td>0.333333</td>\n",
       "      <td>0.166667</td>\n",
       "    </tr>\n",
       "  </tbody>\n",
       "</table>\n",
       "</div>"
      ],
      "text/plain": [
       "           [n]       yes     maybe        no\n",
       "ALL         17  0.470588  0.294118  0.235294\n",
       "Alpha Co    10  0.500000  0.300000  0.200000\n",
       "Blue Inc     1  0.000000  0.000000  1.000000\n",
       "Jones LLC    6  0.500000  0.333333  0.166667"
      ]
     },
     "execution_count": 27,
     "metadata": {},
     "output_type": "execute_result"
    }
   ],
   "source": [
    "psum_df = df_subgroups_states2summary_df(df=df,groups_col=\"Manufacturer\", subgroups_col=\"In_Stock\",only_subgrp_perc=True);\n",
    "psum_df"
   ]
  },
  {
   "cell_type": "code",
   "execution_count": 28,
   "metadata": {},
   "outputs": [
    {
     "data": {
      "text/html": [
       "<style  type=\"text/css\" >\n",
       "</style><table id=\"T_0f476ece_9915_11e9_b8e3_cac10da1ba8b\" ><thead>    <tr>        <th class=\"blank level0\" ></th>        <th class=\"col_heading level0 col0\" >[n]</th>        <th class=\"col_heading level0 col1\" >yes</th>        <th class=\"col_heading level0 col2\" >maybe</th>        <th class=\"col_heading level0 col3\" >no</th>    </tr></thead><tbody>\n",
       "                <tr>\n",
       "                        <th id=\"T_0f476ece_9915_11e9_b8e3_cac10da1ba8blevel0_row0\" class=\"row_heading level0 row0\" >ALL</th>\n",
       "                        <td id=\"T_0f476ece_9915_11e9_b8e3_cac10da1ba8brow0_col0\" class=\"data row0 col0\" >17</td>\n",
       "                        <td id=\"T_0f476ece_9915_11e9_b8e3_cac10da1ba8brow0_col1\" class=\"data row0 col1\" >47.06%</td>\n",
       "                        <td id=\"T_0f476ece_9915_11e9_b8e3_cac10da1ba8brow0_col2\" class=\"data row0 col2\" >29.41%</td>\n",
       "                        <td id=\"T_0f476ece_9915_11e9_b8e3_cac10da1ba8brow0_col3\" class=\"data row0 col3\" >23.53%</td>\n",
       "            </tr>\n",
       "            <tr>\n",
       "                        <th id=\"T_0f476ece_9915_11e9_b8e3_cac10da1ba8blevel0_row1\" class=\"row_heading level0 row1\" >Alpha Co</th>\n",
       "                        <td id=\"T_0f476ece_9915_11e9_b8e3_cac10da1ba8brow1_col0\" class=\"data row1 col0\" >10</td>\n",
       "                        <td id=\"T_0f476ece_9915_11e9_b8e3_cac10da1ba8brow1_col1\" class=\"data row1 col1\" >50.00%</td>\n",
       "                        <td id=\"T_0f476ece_9915_11e9_b8e3_cac10da1ba8brow1_col2\" class=\"data row1 col2\" >30.00%</td>\n",
       "                        <td id=\"T_0f476ece_9915_11e9_b8e3_cac10da1ba8brow1_col3\" class=\"data row1 col3\" >20.00%</td>\n",
       "            </tr>\n",
       "            <tr>\n",
       "                        <th id=\"T_0f476ece_9915_11e9_b8e3_cac10da1ba8blevel0_row2\" class=\"row_heading level0 row2\" >Blue Inc</th>\n",
       "                        <td id=\"T_0f476ece_9915_11e9_b8e3_cac10da1ba8brow2_col0\" class=\"data row2 col0\" >1</td>\n",
       "                        <td id=\"T_0f476ece_9915_11e9_b8e3_cac10da1ba8brow2_col1\" class=\"data row2 col1\" >0.00%</td>\n",
       "                        <td id=\"T_0f476ece_9915_11e9_b8e3_cac10da1ba8brow2_col2\" class=\"data row2 col2\" >0.00%</td>\n",
       "                        <td id=\"T_0f476ece_9915_11e9_b8e3_cac10da1ba8brow2_col3\" class=\"data row2 col3\" >100.00%</td>\n",
       "            </tr>\n",
       "            <tr>\n",
       "                        <th id=\"T_0f476ece_9915_11e9_b8e3_cac10da1ba8blevel0_row3\" class=\"row_heading level0 row3\" >Jones LLC</th>\n",
       "                        <td id=\"T_0f476ece_9915_11e9_b8e3_cac10da1ba8brow3_col0\" class=\"data row3 col0\" >6</td>\n",
       "                        <td id=\"T_0f476ece_9915_11e9_b8e3_cac10da1ba8brow3_col1\" class=\"data row3 col1\" >50.00%</td>\n",
       "                        <td id=\"T_0f476ece_9915_11e9_b8e3_cac10da1ba8brow3_col2\" class=\"data row3 col2\" >33.33%</td>\n",
       "                        <td id=\"T_0f476ece_9915_11e9_b8e3_cac10da1ba8brow3_col3\" class=\"data row3 col3\" >16.67%</td>\n",
       "            </tr>\n",
       "    </tbody></table>"
      ],
      "text/plain": [
       "<pandas.io.formats.style.Styler at 0x7f8ea2d05358>"
      ]
     },
     "execution_count": 28,
     "metadata": {},
     "output_type": "execute_result"
    }
   ],
   "source": [
    "# This would change the view to be nicer; note the underlying dataframe remains unotuched\n",
    "psum_df_styl = psum_df.style.format(\"{:.2%}\",subset=psum_df.columns[1:])\n",
    "psum_df_styl"
   ]
  },
  {
   "cell_type": "markdown",
   "metadata": {},
   "source": [
    "**Put the counts in brackets after the percent**\n",
    "\n",
    "Another optional setting to specify when calling the function is to assign `bracket_counts` as `True` to move the counts for each state / subgroup to be inside brackets following the percent.  Note that this is simply meant for making better, succint summaries for presentations because it actually combines two represenations in a single cell which isn't straighforward to use for subsequent analysis. And in fact it returns a simpler version with the numbers still as numbers in separate *in addition* to highlight that and still provide for working with the data further.  \n",
    "It defaults to `False` if not specified.\n",
    "**Be aware this returns two dataframes.**"
   ]
  },
  {
   "cell_type": "code",
   "execution_count": 29,
   "metadata": {},
   "outputs": [
    {
     "name": "stderr",
     "output_type": "stream",
     "text": [
      "Summary dataframes returned. First is for presentation only with percent and counts as text in a single cell; second returned is basics with counts and percent data as integer and floats, respectively."
     ]
    },
    {
     "data": {
      "text/html": [
       "<div>\n",
       "<style scoped>\n",
       "    .dataframe tbody tr th:only-of-type {\n",
       "        vertical-align: middle;\n",
       "    }\n",
       "\n",
       "    .dataframe tbody tr th {\n",
       "        vertical-align: top;\n",
       "    }\n",
       "\n",
       "    .dataframe thead th {\n",
       "        text-align: right;\n",
       "    }\n",
       "</style>\n",
       "<table border=\"1\" class=\"dataframe\">\n",
       "  <thead>\n",
       "    <tr style=\"text-align: right;\">\n",
       "      <th></th>\n",
       "      <th>[n]</th>\n",
       "      <th>yes</th>\n",
       "      <th>maybe</th>\n",
       "      <th>no</th>\n",
       "    </tr>\n",
       "  </thead>\n",
       "  <tbody>\n",
       "    <tr>\n",
       "      <th>ALL</th>\n",
       "      <td>17.0</td>\n",
       "      <td>47.06% [8]</td>\n",
       "      <td>29.41% [5]</td>\n",
       "      <td>23.53% [4]</td>\n",
       "    </tr>\n",
       "    <tr>\n",
       "      <th>Alpha Co</th>\n",
       "      <td>10.0</td>\n",
       "      <td>50.00% [5]</td>\n",
       "      <td>30.00% [3]</td>\n",
       "      <td>20.00% [2]</td>\n",
       "    </tr>\n",
       "    <tr>\n",
       "      <th>Blue Inc</th>\n",
       "      <td>1.0</td>\n",
       "      <td>0.00% [0]</td>\n",
       "      <td>0.00% [0]</td>\n",
       "      <td>100.00% [1]</td>\n",
       "    </tr>\n",
       "    <tr>\n",
       "      <th>Jones LLC</th>\n",
       "      <td>6.0</td>\n",
       "      <td>50.00% [3]</td>\n",
       "      <td>33.33% [2]</td>\n",
       "      <td>16.67% [1]</td>\n",
       "    </tr>\n",
       "  </tbody>\n",
       "</table>\n",
       "</div>"
      ],
      "text/plain": [
       "            [n]         yes       maybe           no\n",
       "ALL        17.0  47.06% [8]  29.41% [5]   23.53% [4]\n",
       "Alpha Co   10.0  50.00% [5]  30.00% [3]   20.00% [2]\n",
       "Blue Inc    1.0   0.00% [0]   0.00% [0]  100.00% [1]\n",
       "Jones LLC   6.0  50.00% [3]  33.33% [2]   16.67% [1]"
      ]
     },
     "execution_count": 29,
     "metadata": {},
     "output_type": "execute_result"
    }
   ],
   "source": [
    "bcsum_df,basic_df = df_subgroups_states2summary_df(df=df,groups_col=\"Manufacturer\", subgroups_col=\"In_Stock\",bracket_counts=True);\n",
    "bcsum_df"
   ]
  },
  {
   "cell_type": "markdown",
   "metadata": {},
   "source": [
    "Because that one is great for presentation but not for processing numbers further, there is another returned at the same time. This is more like the simple result normally returned. You would use that to work further with the data.  \n",
    "The other one returned with the use of the function above is shown next just for the sake of clarity here:"
   ]
  },
  {
   "cell_type": "code",
   "execution_count": 30,
   "metadata": {},
   "outputs": [
    {
     "data": {
      "text/html": [
       "<div>\n",
       "<style scoped>\n",
       "    .dataframe tbody tr th:only-of-type {\n",
       "        vertical-align: middle;\n",
       "    }\n",
       "\n",
       "    .dataframe tbody tr th {\n",
       "        vertical-align: top;\n",
       "    }\n",
       "\n",
       "    .dataframe thead tr th {\n",
       "        text-align: left;\n",
       "    }\n",
       "</style>\n",
       "<table border=\"1\" class=\"dataframe\">\n",
       "  <thead>\n",
       "    <tr>\n",
       "      <th></th>\n",
       "      <th></th>\n",
       "      <th colspan=\"2\" halign=\"left\">yes</th>\n",
       "      <th colspan=\"2\" halign=\"left\">maybe</th>\n",
       "      <th colspan=\"2\" halign=\"left\">no</th>\n",
       "    </tr>\n",
       "    <tr>\n",
       "      <th></th>\n",
       "      <th>[n]</th>\n",
       "      <th>count</th>\n",
       "      <th>%</th>\n",
       "      <th>count</th>\n",
       "      <th>%</th>\n",
       "      <th>count</th>\n",
       "      <th>%</th>\n",
       "    </tr>\n",
       "  </thead>\n",
       "  <tbody>\n",
       "    <tr>\n",
       "      <th>ALL</th>\n",
       "      <td>17</td>\n",
       "      <td>8</td>\n",
       "      <td>0.470588</td>\n",
       "      <td>5</td>\n",
       "      <td>0.294118</td>\n",
       "      <td>4</td>\n",
       "      <td>0.235294</td>\n",
       "    </tr>\n",
       "    <tr>\n",
       "      <th>Alpha Co</th>\n",
       "      <td>10</td>\n",
       "      <td>5</td>\n",
       "      <td>0.500000</td>\n",
       "      <td>3</td>\n",
       "      <td>0.300000</td>\n",
       "      <td>2</td>\n",
       "      <td>0.200000</td>\n",
       "    </tr>\n",
       "    <tr>\n",
       "      <th>Blue Inc</th>\n",
       "      <td>1</td>\n",
       "      <td>0</td>\n",
       "      <td>0.000000</td>\n",
       "      <td>0</td>\n",
       "      <td>0.000000</td>\n",
       "      <td>1</td>\n",
       "      <td>1.000000</td>\n",
       "    </tr>\n",
       "    <tr>\n",
       "      <th>Jones LLC</th>\n",
       "      <td>6</td>\n",
       "      <td>3</td>\n",
       "      <td>0.500000</td>\n",
       "      <td>2</td>\n",
       "      <td>0.333333</td>\n",
       "      <td>1</td>\n",
       "      <td>0.166667</td>\n",
       "    </tr>\n",
       "  </tbody>\n",
       "</table>\n",
       "</div>"
      ],
      "text/plain": [
       "                yes           maybe              no          \n",
       "          [n] count         % count         % count         %\n",
       "ALL        17     8  0.470588     5  0.294118     4  0.235294\n",
       "Alpha Co   10     5  0.500000     3  0.300000     2  0.200000\n",
       "Blue Inc    1     0  0.000000     0  0.000000     1  1.000000\n",
       "Jones LLC   6     3  0.500000     2  0.333333     1  0.166667"
      ]
     },
     "execution_count": 30,
     "metadata": {},
     "output_type": "execute_result"
    }
   ],
   "source": [
    "basic_df"
   ]
  },
  {
   "cell_type": "markdown",
   "metadata": {},
   "source": [
    "-----\n",
    "\n",
    "## Plug for donut plots for complementing these summaries\n",
    "\n",
    "I made some visual plotting scripts and functions that can complement these uses of `df_subgroups_states2summary_df`. A demo is in the next cell using the same starting dataframe as input. This example uses the main function of one of these scripts; however, each script can be used from the command line as well."
   ]
  },
  {
   "cell_type": "code",
   "execution_count": 31,
   "metadata": {},
   "outputs": [
    {
     "name": "stderr",
     "output_type": "stream",
     "text": [
      "Plot figure object returned."
     ]
    },
    {
     "data": {
      "image/png": "[encoded data removed]",
      "text/plain": [
       "<Figure size 1008x288 with 2 Axes>"
      ]
     },
     "metadata": {},
     "output_type": "display_data"
    }
   ],
   "source": [
    "import os\n",
    "file_needed = \"donut_plot_with_total_summary_and_subgroups_from_dataframe.py\"\n",
    "if not os.path.isfile(file_needed):\n",
    "    !curl -OL https://raw.githubusercontent.com/fomightez/donut_plots_with_subgroups/master/donut_plot_with_total_summary_and_subgroups_from_dataframe.py\n",
    "from donut_plot_with_total_summary_and_subgroups_from_dataframe import donut_plot_with_total_summary_and_subgroups_from_dataframe\n",
    "p = donut_plot_with_total_summary_and_subgroups_from_dataframe(df=df,state4subgroup_col =\"In_Stock\",grouping_col=\"Manufacturer\", hilolist=[\"yes\", \"maybe\", \"no\"]);"
   ]
  },
  {
   "cell_type": "markdown",
   "metadata": {},
   "source": [
    "That is just a small example of the possibilities. There are other options for that script/function and related scripts as well.  \n",
    "See about these donut plots [here](https://github.com/fomightez/donut_plots_with_subgroups)."
   ]
  },
  {
   "cell_type": "markdown",
   "metadata": {},
   "source": [
    "---\n",
    "\n",
    "The next notebook in the series addresses converting a dataframe or data table of text into a summary where the data only has two subgroups / states that you are concerned with, such as 'present/not present' or 'yes/no'.  \n",
    "Continue on to the next part of the series by clicking [here &#10145;](demo_df_binary_states2summary_df.ipynb).\n",
    "\n",
    "----\n",
    "----"
   ]
  }
 ],
 "metadata": {
  "kernelspec": {
   "display_name": "Python 3",
   "language": "python",
   "name": "python3"
  },
  "language_info": {
   "codemirror_mode": {
    "name": "ipython",
    "version": 3
   },
   "file_extension": ".py",
   "mimetype": "text/x-python",
   "name": "python",
   "nbconvert_exporter": "python",
   "pygments_lexer": "ipython3",
   "version": "3.7.3"
  }
 },
 "nbformat": 4,
 "nbformat_minor": 2
}

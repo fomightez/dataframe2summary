{
 "cells": [
  {
   "cell_type": "markdown",
   "metadata": {},
   "source": [
    "# Demonstration of `df_subgroups_states2summary_df.py`\n",
    "\n",
    "Demonstrating use of `df_subgroups_states2summary_df.py`, see [here](https://github.com/fomightez/text_mining) for more information.\n",
    "\n",
    "This script comverts a dataframe or data table of text into a summary.\n",
    "\n",
    "-----\n",
    "\n",
    "The two main ways of using the script are covered, featuring several of the options available."
   ]
  },
  {
   "cell_type": "markdown",
   "metadata": {},
   "source": [
    "## Preparation and displaying USAGE block\n",
    "\n",
    "Let's get the script and run 'Help' on it to see the basic USAGE block.\n",
    "\n",
    "(If you are running this notebook in the session launched from the repo that includes the script, this step is not necessary. However, it is included because there is no harm in running it here and you may be wanting to run this elsewhere or see how to easily acquire the script. If you are on the actual command line, you'd leave off the exclamation point.)"
   ]
  },
  {
   "cell_type": "code",
   "execution_count": 1,
   "metadata": {},
   "outputs": [
    {
     "name": "stdout",
     "output_type": "stream",
     "text": [
      "  % Total    % Received % Xferd  Average Speed   Time    Time     Time  Current\n",
      "                                 Dload  Upload   Total   Spent    Left  Speed\n",
      "100 22686  100 22686    0     0   119k      0 --:--:-- --:--:-- --:--:--  119k\n"
     ]
    }
   ],
   "source": [
    "import os\n",
    "file_needed = \"df_subgroups_states2summary_df.py\"\n",
    "if not os.path.isfile(file_needed):\n",
    "    !curl -OL https://raw.githubusercontent.com/fomightez/text_mining/master/df_subgroups_states2summary_df.py"
   ]
  },
  {
   "cell_type": "code",
   "execution_count": 2,
   "metadata": {},
   "outputs": [
    {
     "name": "stdout",
     "output_type": "stream",
     "text": [
      "usage: df_subgroups_states2summary_df.py [-h] [-ord ORDER] [-olsp] [-bc]\n",
      "                                         DF_FILE GROUPS SUBGROUPS\n",
      "\n",
      "df_subgroups_states2summary_df.py takes a dataframe, and some information\n",
      "about columns in the dataframe and makes a summary data table with the\n",
      "percents for each subgrouping / state per total and each group. **** Script by\n",
      "Wayne Decatur (fomightez @ github) ***\n",
      "\n",
      "positional arguments:\n",
      "  DF_FILE               Name of file containing the dataframe. Whether it is\n",
      "                        in the form of a pickled dataframe, tab-separated\n",
      "                        text, or comma-separated text needs to be indicated by\n",
      "                        the file extension. So `.pkl`, `.tsv`, or `.csv` for\n",
      "                        the file extension.\n",
      "  GROUPS                Text indicating column in dataframe to use as main\n",
      "                        grouping categories.\n",
      "  SUBGROUPS             Text indicating column in dataframe to use as\n",
      "                        subgroupings / states for the groups.\n",
      "\n",
      "optional arguments:\n",
      "  -h, --help            show this help message and exit\n",
      "  -ord ORDER, --order ORDER\n",
      "                        This flag is used to specify that you want to control\n",
      "                        the order of the subgroups to read from left to right.\n",
      "                        Follow the flag with an order listing, left to right,\n",
      "                        of the subgroup identifiers separated by commas,\n",
      "                        without spaces or quotes. For example `-ord\n",
      "                        yes,maybe,no`.\n",
      "  -olsp, --only_subgrp_perc\n",
      "                        add this flag to only leave states/percentage data in\n",
      "                        produced data table. No counts will be included for\n",
      "                        each state/subgrouping.\n",
      "  -bc, --bracket_counts\n",
      "                        add this flag to display counts in brackets AFTER the\n",
      "                        percent listing This is only meant for generating\n",
      "                        presentation style dataframes as the percent & count\n",
      "                        data will be combined into one cell as a string which\n",
      "                        is not suitable for further use. Because of that this\n",
      "                        option will also produce a more basic summary table to\n",
      "                        be used for further efforts. Use of\n",
      "                        `--only_subgrp_perc` renders this argument moot as\n",
      "                        nothing concerning counts is displayed in that case.\n"
     ]
    }
   ],
   "source": [
    "%run df_subgroups_states2summary_df.py -h"
   ]
  },
  {
   "cell_type": "markdown",
   "metadata": {},
   "source": [
    "## Use the script by calling it from the command line"
   ]
  },
  {
   "cell_type": "markdown",
   "metadata": {},
   "source": [
    "A dataframe  or text data table will be used for input data. To fully demonstrate the options for the script we'll use a toy dataframe and also convert it to a text table."
   ]
  },
  {
   "cell_type": "code",
   "execution_count": 3,
   "metadata": {},
   "outputs": [
    {
     "data": {
      "text/html": [
       "<div>\n",
       "<style scoped>\n",
       "    .dataframe tbody tr th:only-of-type {\n",
       "        vertical-align: middle;\n",
       "    }\n",
       "\n",
       "    .dataframe tbody tr th {\n",
       "        vertical-align: top;\n",
       "    }\n",
       "\n",
       "    .dataframe thead th {\n",
       "        text-align: right;\n",
       "    }\n",
       "</style>\n",
       "<table border=\"1\" class=\"dataframe\">\n",
       "  <thead>\n",
       "    <tr style=\"text-align: right;\">\n",
       "      <th></th>\n",
       "      <th>Manufacturer</th>\n",
       "      <th>Item</th>\n",
       "      <th>In_Stock</th>\n",
       "    </tr>\n",
       "  </thead>\n",
       "  <tbody>\n",
       "    <tr>\n",
       "      <th>0</th>\n",
       "      <td>Jones LLC</td>\n",
       "      <td>177887</td>\n",
       "      <td>yes</td>\n",
       "    </tr>\n",
       "    <tr>\n",
       "      <th>1</th>\n",
       "      <td>Jones LLC</td>\n",
       "      <td>12387</td>\n",
       "      <td>yes</td>\n",
       "    </tr>\n",
       "    <tr>\n",
       "      <th>2</th>\n",
       "      <td>Jones LLC</td>\n",
       "      <td>1772287</td>\n",
       "      <td>yes</td>\n",
       "    </tr>\n",
       "    <tr>\n",
       "      <th>3</th>\n",
       "      <td>Jones LLC</td>\n",
       "      <td>1187</td>\n",
       "      <td>maybe</td>\n",
       "    </tr>\n",
       "    <tr>\n",
       "      <th>4</th>\n",
       "      <td>Jones LLC</td>\n",
       "      <td>1773297</td>\n",
       "      <td>maybe</td>\n",
       "    </tr>\n",
       "  </tbody>\n",
       "</table>\n",
       "</div>"
      ],
      "text/plain": [
       "  Manufacturer     Item In_Stock\n",
       "0    Jones LLC   177887      yes\n",
       "1    Jones LLC    12387      yes\n",
       "2    Jones LLC  1772287      yes\n",
       "3    Jones LLC     1187    maybe\n",
       "4    Jones LLC  1773297    maybe"
      ]
     },
     "execution_count": 3,
     "metadata": {},
     "output_type": "execute_result"
    }
   ],
   "source": [
    "import pandas as pd\n",
    "sales = [('Jones LLC', 177887, 'yes'),\n",
    "         ('Jones LLC', 12387, 'yes'),\n",
    "         ('Jones LLC', 1772287, 'yes'),\n",
    "         ('Jones LLC', 1187, 'maybe'),\n",
    "         ('Jones LLC', 1773297, 'maybe'),\n",
    "         ('Jones LLC', 19897, 'no'),\n",
    "         ('Alpha Co', 157987, 'yes'),\n",
    "         ('Alpha Co', 158981, 'yes'),\n",
    "         ('Alpha Co', 159983, 'yes'),\n",
    "         ('Alpha Co', 167987, 'yes'),\n",
    "         ('Alpha Co', 158117, 'yes'),\n",
    "         ('Alpha Co', 1999917, 'maybe'),\n",
    "         ('Alpha Co', 193917, 'maybe'),\n",
    "         ('Alpha Co', 1933917, 'maybe'),\n",
    "         ('Alpha Co', 159333, 'no'),\n",
    "         ('Alpha Co', 256521, 'no'),\n",
    "         ('Blue Inc', 111947, 'no')]\n",
    "labels = ['Manufacturer', 'Item', 'In_Stock']\n",
    "df = pd.DataFrame.from_records(sales, columns=labels)\n",
    "df.head()"
   ]
  },
  {
   "cell_type": "markdown",
   "metadata": {},
   "source": [
    "Let's save that dataframe as tabular text and also as a Pickled pickled dataframe. The former being human readable and the latter not. The latter is more efficient at storeage though if that is an issue.\n",
    "\n",
    "First to save as tabular text in tab-separated form. You could change it to be comma-separated, CSV, if you choose."
   ]
  },
  {
   "cell_type": "code",
   "execution_count": 4,
   "metadata": {},
   "outputs": [],
   "source": [
    "df.to_pickle(\"data.pkl\")\n",
    "df.to_csv('data.tsv', sep='\\t',index = False)"
   ]
  },
  {
   "cell_type": "markdown",
   "metadata": {},
   "source": [
    "Now that we have files with input data, we have something we can point the script at for running it.\n",
    "\n",
    "In addition to providing the data input file name, the text corresponding to the column heading of the groupings and the text corresponding to the column containing the subgroups have to be provided when calling the script."
   ]
  },
  {
   "cell_type": "code",
   "execution_count": 5,
   "metadata": {},
   "outputs": [
    {
     "name": "stderr",
     "output_type": "stream",
     "text": [
      "Summary dataframe saved as a text table easily opened in\n",
      "different software; file named: `summary_data.tsv`\n",
      "\n",
      "Summary dataframe saved in pickled form for ease of use within\n",
      "Python; file named: `summary_data.pkl`. This will retain the column headers/names formatting best."
     ]
    }
   ],
   "source": [
    "%run df_subgroups_states2summary_df.py data.pkl Manufacturer In_Stock"
   ]
  },
  {
   "cell_type": "code",
   "execution_count": 6,
   "metadata": {},
   "outputs": [],
   "source": [
    "t = pd.read_pickle(\"summary_data.pkl\")"
   ]
  },
  {
   "cell_type": "code",
   "execution_count": 7,
   "metadata": {},
   "outputs": [
    {
     "data": {
      "text/html": [
       "<div>\n",
       "<style scoped>\n",
       "    .dataframe tbody tr th:only-of-type {\n",
       "        vertical-align: middle;\n",
       "    }\n",
       "\n",
       "    .dataframe tbody tr th {\n",
       "        vertical-align: top;\n",
       "    }\n",
       "\n",
       "    .dataframe thead tr th {\n",
       "        text-align: left;\n",
       "    }\n",
       "</style>\n",
       "<table border=\"1\" class=\"dataframe\">\n",
       "  <thead>\n",
       "    <tr>\n",
       "      <th></th>\n",
       "      <th></th>\n",
       "      <th colspan=\"2\" halign=\"left\">yes</th>\n",
       "      <th colspan=\"2\" halign=\"left\">maybe</th>\n",
       "      <th colspan=\"2\" halign=\"left\">no</th>\n",
       "    </tr>\n",
       "    <tr>\n",
       "      <th></th>\n",
       "      <th>[n]</th>\n",
       "      <th>count</th>\n",
       "      <th>%</th>\n",
       "      <th>count</th>\n",
       "      <th>%</th>\n",
       "      <th>count</th>\n",
       "      <th>%</th>\n",
       "    </tr>\n",
       "  </thead>\n",
       "  <tbody>\n",
       "    <tr>\n",
       "      <th>ALL</th>\n",
       "      <td>17</td>\n",
       "      <td>8</td>\n",
       "      <td>0.470588</td>\n",
       "      <td>5</td>\n",
       "      <td>0.294118</td>\n",
       "      <td>4</td>\n",
       "      <td>0.235294</td>\n",
       "    </tr>\n",
       "    <tr>\n",
       "      <th>Alpha Co</th>\n",
       "      <td>10</td>\n",
       "      <td>5</td>\n",
       "      <td>0.500000</td>\n",
       "      <td>3</td>\n",
       "      <td>0.300000</td>\n",
       "      <td>2</td>\n",
       "      <td>0.200000</td>\n",
       "    </tr>\n",
       "    <tr>\n",
       "      <th>Blue Inc</th>\n",
       "      <td>1</td>\n",
       "      <td>0</td>\n",
       "      <td>0.000000</td>\n",
       "      <td>0</td>\n",
       "      <td>0.000000</td>\n",
       "      <td>1</td>\n",
       "      <td>1.000000</td>\n",
       "    </tr>\n",
       "    <tr>\n",
       "      <th>Jones LLC</th>\n",
       "      <td>6</td>\n",
       "      <td>3</td>\n",
       "      <td>0.500000</td>\n",
       "      <td>2</td>\n",
       "      <td>0.333333</td>\n",
       "      <td>1</td>\n",
       "      <td>0.166667</td>\n",
       "    </tr>\n",
       "  </tbody>\n",
       "</table>\n",
       "</div>"
      ],
      "text/plain": [
       "                yes           maybe              no          \n",
       "          [n] count         % count         % count         %\n",
       "ALL        17     8  0.470588     5  0.294118     4  0.235294\n",
       "Alpha Co   10     5  0.500000     3  0.300000     2  0.200000\n",
       "Blue Inc    1     0  0.000000     0  0.000000     1  1.000000\n",
       "Jones LLC   6     3  0.500000     2  0.333333     1  0.166667"
      ]
     },
     "execution_count": 7,
     "metadata": {},
     "output_type": "execute_result"
    }
   ],
   "source": [
    "t"
   ]
  },
  {
   "cell_type": "code",
   "execution_count": 8,
   "metadata": {},
   "outputs": [
    {
     "data": {
      "text/html": [
       "<b>Items in stock by Manufacturer:</b>"
      ],
      "text/plain": [
       "<IPython.core.display.HTML object>"
      ]
     },
     "metadata": {},
     "output_type": "display_data"
    },
    {
     "data": {
      "text/html": [
       "<style  type=\"text/css\" >\n",
       "</style><table id=\"T_207eaaae_9848_11e9_847c_8ae5988701b3\" ><thead>    <tr>        <th class=\"blank level0\" ></th>        <th class=\"col_heading level0 col0\" ></th>        <th class=\"col_heading level0 col1\" colspan=2>yes</th>        <th class=\"col_heading level0 col3\" colspan=2>maybe</th>        <th class=\"col_heading level0 col5\" colspan=2>no</th>    </tr>    <tr>        <th class=\"blank level1\" ></th>        <th class=\"col_heading level1 col0\" >[n]</th>        <th class=\"col_heading level1 col1\" >count</th>        <th class=\"col_heading level1 col2\" >%</th>        <th class=\"col_heading level1 col3\" >count</th>        <th class=\"col_heading level1 col4\" >%</th>        <th class=\"col_heading level1 col5\" >count</th>        <th class=\"col_heading level1 col6\" >%</th>    </tr></thead><tbody>\n",
       "                <tr>\n",
       "                        <th id=\"T_207eaaae_9848_11e9_847c_8ae5988701b3level0_row0\" class=\"row_heading level0 row0\" >ALL</th>\n",
       "                        <td id=\"T_207eaaae_9848_11e9_847c_8ae5988701b3row0_col0\" class=\"data row0 col0\" >17</td>\n",
       "                        <td id=\"T_207eaaae_9848_11e9_847c_8ae5988701b3row0_col1\" class=\"data row0 col1\" >8</td>\n",
       "                        <td id=\"T_207eaaae_9848_11e9_847c_8ae5988701b3row0_col2\" class=\"data row0 col2\" >47.06%</td>\n",
       "                        <td id=\"T_207eaaae_9848_11e9_847c_8ae5988701b3row0_col3\" class=\"data row0 col3\" >5</td>\n",
       "                        <td id=\"T_207eaaae_9848_11e9_847c_8ae5988701b3row0_col4\" class=\"data row0 col4\" >29.41%</td>\n",
       "                        <td id=\"T_207eaaae_9848_11e9_847c_8ae5988701b3row0_col5\" class=\"data row0 col5\" >4</td>\n",
       "                        <td id=\"T_207eaaae_9848_11e9_847c_8ae5988701b3row0_col6\" class=\"data row0 col6\" >23.53%</td>\n",
       "            </tr>\n",
       "            <tr>\n",
       "                        <th id=\"T_207eaaae_9848_11e9_847c_8ae5988701b3level0_row1\" class=\"row_heading level0 row1\" >Alpha Co</th>\n",
       "                        <td id=\"T_207eaaae_9848_11e9_847c_8ae5988701b3row1_col0\" class=\"data row1 col0\" >10</td>\n",
       "                        <td id=\"T_207eaaae_9848_11e9_847c_8ae5988701b3row1_col1\" class=\"data row1 col1\" >5</td>\n",
       "                        <td id=\"T_207eaaae_9848_11e9_847c_8ae5988701b3row1_col2\" class=\"data row1 col2\" >50.00%</td>\n",
       "                        <td id=\"T_207eaaae_9848_11e9_847c_8ae5988701b3row1_col3\" class=\"data row1 col3\" >3</td>\n",
       "                        <td id=\"T_207eaaae_9848_11e9_847c_8ae5988701b3row1_col4\" class=\"data row1 col4\" >30.00%</td>\n",
       "                        <td id=\"T_207eaaae_9848_11e9_847c_8ae5988701b3row1_col5\" class=\"data row1 col5\" >2</td>\n",
       "                        <td id=\"T_207eaaae_9848_11e9_847c_8ae5988701b3row1_col6\" class=\"data row1 col6\" >20.00%</td>\n",
       "            </tr>\n",
       "            <tr>\n",
       "                        <th id=\"T_207eaaae_9848_11e9_847c_8ae5988701b3level0_row2\" class=\"row_heading level0 row2\" >Blue Inc</th>\n",
       "                        <td id=\"T_207eaaae_9848_11e9_847c_8ae5988701b3row2_col0\" class=\"data row2 col0\" >1</td>\n",
       "                        <td id=\"T_207eaaae_9848_11e9_847c_8ae5988701b3row2_col1\" class=\"data row2 col1\" >0</td>\n",
       "                        <td id=\"T_207eaaae_9848_11e9_847c_8ae5988701b3row2_col2\" class=\"data row2 col2\" >0.00%</td>\n",
       "                        <td id=\"T_207eaaae_9848_11e9_847c_8ae5988701b3row2_col3\" class=\"data row2 col3\" >0</td>\n",
       "                        <td id=\"T_207eaaae_9848_11e9_847c_8ae5988701b3row2_col4\" class=\"data row2 col4\" >0.00%</td>\n",
       "                        <td id=\"T_207eaaae_9848_11e9_847c_8ae5988701b3row2_col5\" class=\"data row2 col5\" >1</td>\n",
       "                        <td id=\"T_207eaaae_9848_11e9_847c_8ae5988701b3row2_col6\" class=\"data row2 col6\" >100.00%</td>\n",
       "            </tr>\n",
       "            <tr>\n",
       "                        <th id=\"T_207eaaae_9848_11e9_847c_8ae5988701b3level0_row3\" class=\"row_heading level0 row3\" >Jones LLC</th>\n",
       "                        <td id=\"T_207eaaae_9848_11e9_847c_8ae5988701b3row3_col0\" class=\"data row3 col0\" >6</td>\n",
       "                        <td id=\"T_207eaaae_9848_11e9_847c_8ae5988701b3row3_col1\" class=\"data row3 col1\" >3</td>\n",
       "                        <td id=\"T_207eaaae_9848_11e9_847c_8ae5988701b3row3_col2\" class=\"data row3 col2\" >50.00%</td>\n",
       "                        <td id=\"T_207eaaae_9848_11e9_847c_8ae5988701b3row3_col3\" class=\"data row3 col3\" >2</td>\n",
       "                        <td id=\"T_207eaaae_9848_11e9_847c_8ae5988701b3row3_col4\" class=\"data row3 col4\" >33.33%</td>\n",
       "                        <td id=\"T_207eaaae_9848_11e9_847c_8ae5988701b3row3_col5\" class=\"data row3 col5\" >1</td>\n",
       "                        <td id=\"T_207eaaae_9848_11e9_847c_8ae5988701b3row3_col6\" class=\"data row3 col6\" >16.67%</td>\n",
       "            </tr>\n",
       "    </tbody></table>"
      ],
      "text/plain": [
       "<pandas.io.formats.style.Styler at 0x7f66ac09fd68>"
      ]
     },
     "metadata": {},
     "output_type": "display_data"
    }
   ],
   "source": [
    "# This would change the view to be nicer; note the underlying dataframe remains unotuched\n",
    "t_styl = t.style.format(\"{:.2%}\",subset=[('yes','%'),('maybe','%'),('no','%')]) # based on https://stackoverflow.com/a/56411982/8508004\n",
    "# and https://pandas.pydata.org/pandas-docs/stable/reference/api/pandas.io.formats.style.Styler.format.html\n",
    "# Trick to add a title to the dataframe\n",
    "from IPython.display import display, HTML\n",
    "# trick from https://stackoverflow.com/a/29665452/8508004\n",
    "display(HTML('<b>Items in stock by Manufacturer:</b>'))\n",
    "display(t_styl)"
   ]
  },
  {
   "cell_type": "code",
   "execution_count": null,
   "metadata": {},
   "outputs": [],
   "source": []
  },
  {
   "cell_type": "code",
   "execution_count": 9,
   "metadata": {},
   "outputs": [
    {
     "data": {
      "text/plain": [
       "MultiIndex(levels=[['', 'maybe', 'no', 'yes'], ['%', '[n]', 'count']],\n",
       "           codes=[[0, 3, 3, 1, 1, 2, 2], [1, 2, 0, 2, 0, 2, 0]])"
      ]
     },
     "execution_count": 9,
     "metadata": {},
     "output_type": "execute_result"
    }
   ],
   "source": [
    "t.columns"
   ]
  },
  {
   "cell_type": "code",
   "execution_count": 10,
   "metadata": {},
   "outputs": [
    {
     "name": "stderr",
     "output_type": "stream",
     "text": [
      "Summary dataframe saved as a text table easily opened in\n",
      "different software; file named: `summary_data.tsv`\n",
      "\n",
      "Summary dataframe saved in pickled form for ease of use within\n",
      "Python; file named: `summary_data.pkl`. This will retain the column headers/names formatting best."
     ]
    }
   ],
   "source": [
    "%run df_subgroups_states2summary_df.py data.pkl Manufacturer In_Stock --order no,yes,maybe"
   ]
  },
  {
   "cell_type": "code",
   "execution_count": 11,
   "metadata": {},
   "outputs": [
    {
     "data": {
      "text/html": [
       "<div>\n",
       "<style scoped>\n",
       "    .dataframe tbody tr th:only-of-type {\n",
       "        vertical-align: middle;\n",
       "    }\n",
       "\n",
       "    .dataframe tbody tr th {\n",
       "        vertical-align: top;\n",
       "    }\n",
       "\n",
       "    .dataframe thead tr th {\n",
       "        text-align: left;\n",
       "    }\n",
       "</style>\n",
       "<table border=\"1\" class=\"dataframe\">\n",
       "  <thead>\n",
       "    <tr>\n",
       "      <th></th>\n",
       "      <th></th>\n",
       "      <th colspan=\"2\" halign=\"left\">no</th>\n",
       "      <th colspan=\"2\" halign=\"left\">yes</th>\n",
       "      <th colspan=\"2\" halign=\"left\">maybe</th>\n",
       "    </tr>\n",
       "    <tr>\n",
       "      <th></th>\n",
       "      <th>[n]</th>\n",
       "      <th>count</th>\n",
       "      <th>%</th>\n",
       "      <th>count</th>\n",
       "      <th>%</th>\n",
       "      <th>count</th>\n",
       "      <th>%</th>\n",
       "    </tr>\n",
       "  </thead>\n",
       "  <tbody>\n",
       "    <tr>\n",
       "      <th>ALL</th>\n",
       "      <td>17</td>\n",
       "      <td>4</td>\n",
       "      <td>0.235294</td>\n",
       "      <td>8</td>\n",
       "      <td>0.470588</td>\n",
       "      <td>5</td>\n",
       "      <td>0.294118</td>\n",
       "    </tr>\n",
       "    <tr>\n",
       "      <th>Alpha Co</th>\n",
       "      <td>10</td>\n",
       "      <td>2</td>\n",
       "      <td>0.200000</td>\n",
       "      <td>5</td>\n",
       "      <td>0.500000</td>\n",
       "      <td>3</td>\n",
       "      <td>0.300000</td>\n",
       "    </tr>\n",
       "    <tr>\n",
       "      <th>Blue Inc</th>\n",
       "      <td>1</td>\n",
       "      <td>1</td>\n",
       "      <td>1.000000</td>\n",
       "      <td>0</td>\n",
       "      <td>0.000000</td>\n",
       "      <td>0</td>\n",
       "      <td>0.000000</td>\n",
       "    </tr>\n",
       "    <tr>\n",
       "      <th>Jones LLC</th>\n",
       "      <td>6</td>\n",
       "      <td>1</td>\n",
       "      <td>0.166667</td>\n",
       "      <td>3</td>\n",
       "      <td>0.500000</td>\n",
       "      <td>2</td>\n",
       "      <td>0.333333</td>\n",
       "    </tr>\n",
       "  </tbody>\n",
       "</table>\n",
       "</div>"
      ],
      "text/plain": [
       "                 no             yes           maybe          \n",
       "          [n] count         % count         % count         %\n",
       "ALL        17     4  0.235294     8  0.470588     5  0.294118\n",
       "Alpha Co   10     2  0.200000     5  0.500000     3  0.300000\n",
       "Blue Inc    1     1  1.000000     0  0.000000     0  0.000000\n",
       "Jones LLC   6     1  0.166667     3  0.500000     2  0.333333"
      ]
     },
     "execution_count": 11,
     "metadata": {},
     "output_type": "execute_result"
    }
   ],
   "source": [
    "o = pd.read_pickle(\"summary_data.pkl\")\n",
    "o"
   ]
  },
  {
   "cell_type": "code",
   "execution_count": 12,
   "metadata": {},
   "outputs": [
    {
     "data": {
      "text/html": [
       "<style  type=\"text/css\" >\n",
       "</style><table id=\"T_2094b59c_9848_11e9_847c_8ae5988701b3\" ><thead>    <tr>        <th class=\"blank level0\" ></th>        <th class=\"col_heading level0 col0\" ></th>        <th class=\"col_heading level0 col1\" colspan=2>no</th>        <th class=\"col_heading level0 col3\" colspan=2>yes</th>        <th class=\"col_heading level0 col5\" colspan=2>maybe</th>    </tr>    <tr>        <th class=\"blank level1\" ></th>        <th class=\"col_heading level1 col0\" >[n]</th>        <th class=\"col_heading level1 col1\" >count</th>        <th class=\"col_heading level1 col2\" >%</th>        <th class=\"col_heading level1 col3\" >count</th>        <th class=\"col_heading level1 col4\" >%</th>        <th class=\"col_heading level1 col5\" >count</th>        <th class=\"col_heading level1 col6\" >%</th>    </tr></thead><tbody>\n",
       "                <tr>\n",
       "                        <th id=\"T_2094b59c_9848_11e9_847c_8ae5988701b3level0_row0\" class=\"row_heading level0 row0\" >ALL</th>\n",
       "                        <td id=\"T_2094b59c_9848_11e9_847c_8ae5988701b3row0_col0\" class=\"data row0 col0\" >17</td>\n",
       "                        <td id=\"T_2094b59c_9848_11e9_847c_8ae5988701b3row0_col1\" class=\"data row0 col1\" >4</td>\n",
       "                        <td id=\"T_2094b59c_9848_11e9_847c_8ae5988701b3row0_col2\" class=\"data row0 col2\" >23.53%</td>\n",
       "                        <td id=\"T_2094b59c_9848_11e9_847c_8ae5988701b3row0_col3\" class=\"data row0 col3\" >8</td>\n",
       "                        <td id=\"T_2094b59c_9848_11e9_847c_8ae5988701b3row0_col4\" class=\"data row0 col4\" >47.06%</td>\n",
       "                        <td id=\"T_2094b59c_9848_11e9_847c_8ae5988701b3row0_col5\" class=\"data row0 col5\" >5</td>\n",
       "                        <td id=\"T_2094b59c_9848_11e9_847c_8ae5988701b3row0_col6\" class=\"data row0 col6\" >29.41%</td>\n",
       "            </tr>\n",
       "            <tr>\n",
       "                        <th id=\"T_2094b59c_9848_11e9_847c_8ae5988701b3level0_row1\" class=\"row_heading level0 row1\" >Alpha Co</th>\n",
       "                        <td id=\"T_2094b59c_9848_11e9_847c_8ae5988701b3row1_col0\" class=\"data row1 col0\" >10</td>\n",
       "                        <td id=\"T_2094b59c_9848_11e9_847c_8ae5988701b3row1_col1\" class=\"data row1 col1\" >2</td>\n",
       "                        <td id=\"T_2094b59c_9848_11e9_847c_8ae5988701b3row1_col2\" class=\"data row1 col2\" >20.00%</td>\n",
       "                        <td id=\"T_2094b59c_9848_11e9_847c_8ae5988701b3row1_col3\" class=\"data row1 col3\" >5</td>\n",
       "                        <td id=\"T_2094b59c_9848_11e9_847c_8ae5988701b3row1_col4\" class=\"data row1 col4\" >50.00%</td>\n",
       "                        <td id=\"T_2094b59c_9848_11e9_847c_8ae5988701b3row1_col5\" class=\"data row1 col5\" >3</td>\n",
       "                        <td id=\"T_2094b59c_9848_11e9_847c_8ae5988701b3row1_col6\" class=\"data row1 col6\" >30.00%</td>\n",
       "            </tr>\n",
       "            <tr>\n",
       "                        <th id=\"T_2094b59c_9848_11e9_847c_8ae5988701b3level0_row2\" class=\"row_heading level0 row2\" >Blue Inc</th>\n",
       "                        <td id=\"T_2094b59c_9848_11e9_847c_8ae5988701b3row2_col0\" class=\"data row2 col0\" >1</td>\n",
       "                        <td id=\"T_2094b59c_9848_11e9_847c_8ae5988701b3row2_col1\" class=\"data row2 col1\" >1</td>\n",
       "                        <td id=\"T_2094b59c_9848_11e9_847c_8ae5988701b3row2_col2\" class=\"data row2 col2\" >100.00%</td>\n",
       "                        <td id=\"T_2094b59c_9848_11e9_847c_8ae5988701b3row2_col3\" class=\"data row2 col3\" >0</td>\n",
       "                        <td id=\"T_2094b59c_9848_11e9_847c_8ae5988701b3row2_col4\" class=\"data row2 col4\" >0.00%</td>\n",
       "                        <td id=\"T_2094b59c_9848_11e9_847c_8ae5988701b3row2_col5\" class=\"data row2 col5\" >0</td>\n",
       "                        <td id=\"T_2094b59c_9848_11e9_847c_8ae5988701b3row2_col6\" class=\"data row2 col6\" >0.00%</td>\n",
       "            </tr>\n",
       "            <tr>\n",
       "                        <th id=\"T_2094b59c_9848_11e9_847c_8ae5988701b3level0_row3\" class=\"row_heading level0 row3\" >Jones LLC</th>\n",
       "                        <td id=\"T_2094b59c_9848_11e9_847c_8ae5988701b3row3_col0\" class=\"data row3 col0\" >6</td>\n",
       "                        <td id=\"T_2094b59c_9848_11e9_847c_8ae5988701b3row3_col1\" class=\"data row3 col1\" >1</td>\n",
       "                        <td id=\"T_2094b59c_9848_11e9_847c_8ae5988701b3row3_col2\" class=\"data row3 col2\" >16.67%</td>\n",
       "                        <td id=\"T_2094b59c_9848_11e9_847c_8ae5988701b3row3_col3\" class=\"data row3 col3\" >3</td>\n",
       "                        <td id=\"T_2094b59c_9848_11e9_847c_8ae5988701b3row3_col4\" class=\"data row3 col4\" >50.00%</td>\n",
       "                        <td id=\"T_2094b59c_9848_11e9_847c_8ae5988701b3row3_col5\" class=\"data row3 col5\" >2</td>\n",
       "                        <td id=\"T_2094b59c_9848_11e9_847c_8ae5988701b3row3_col6\" class=\"data row3 col6\" >33.33%</td>\n",
       "            </tr>\n",
       "    </tbody></table>"
      ],
      "text/plain": [
       "<pandas.io.formats.style.Styler at 0x7f66c4e3a2e8>"
      ]
     },
     "execution_count": 12,
     "metadata": {},
     "output_type": "execute_result"
    }
   ],
   "source": [
    "# This would change the view to be nicer; note the underlying dataframe remains unotuched\n",
    "o_styl = o.style.format(\"{:.2%}\",subset=[('yes','%'),('maybe','%'),('no','%')]) # based on https://stackoverflow.com/a/56411982/8508004\n",
    "# and https://pandas.pydata.org/pandas-docs/stable/reference/api/pandas.io.formats.style.Styler.format.html\n",
    "o_styl"
   ]
  },
  {
   "cell_type": "code",
   "execution_count": null,
   "metadata": {},
   "outputs": [],
   "source": []
  },
  {
   "cell_type": "code",
   "execution_count": 13,
   "metadata": {},
   "outputs": [
    {
     "name": "stderr",
     "output_type": "stream",
     "text": [
      "Summary dataframe saved as a text table easily opened in\n",
      "different software; file named: `summary_data.tsv`\n",
      "\n",
      "Summary dataframe saved in pickled form for ease of use within\n",
      "Python; file named: `summary_data.pkl`. This will retain the column headers/names formatting best."
     ]
    }
   ],
   "source": [
    "%run df_subgroups_states2summary_df.py data.pkl Manufacturer In_Stock --only_subgrp_perc"
   ]
  },
  {
   "cell_type": "code",
   "execution_count": 14,
   "metadata": {},
   "outputs": [
    {
     "data": {
      "text/html": [
       "<div>\n",
       "<style scoped>\n",
       "    .dataframe tbody tr th:only-of-type {\n",
       "        vertical-align: middle;\n",
       "    }\n",
       "\n",
       "    .dataframe tbody tr th {\n",
       "        vertical-align: top;\n",
       "    }\n",
       "\n",
       "    .dataframe thead tr th {\n",
       "        text-align: left;\n",
       "    }\n",
       "</style>\n",
       "<table border=\"1\" class=\"dataframe\">\n",
       "  <thead>\n",
       "    <tr>\n",
       "      <th></th>\n",
       "      <th></th>\n",
       "      <th>yes</th>\n",
       "      <th>maybe</th>\n",
       "      <th>no</th>\n",
       "    </tr>\n",
       "    <tr>\n",
       "      <th></th>\n",
       "      <th>[n]</th>\n",
       "      <th>%</th>\n",
       "      <th>%</th>\n",
       "      <th>%</th>\n",
       "    </tr>\n",
       "  </thead>\n",
       "  <tbody>\n",
       "    <tr>\n",
       "      <th>ALL</th>\n",
       "      <td>17</td>\n",
       "      <td>0.470588</td>\n",
       "      <td>0.294118</td>\n",
       "      <td>0.235294</td>\n",
       "    </tr>\n",
       "    <tr>\n",
       "      <th>Alpha Co</th>\n",
       "      <td>10</td>\n",
       "      <td>0.500000</td>\n",
       "      <td>0.300000</td>\n",
       "      <td>0.200000</td>\n",
       "    </tr>\n",
       "    <tr>\n",
       "      <th>Blue Inc</th>\n",
       "      <td>1</td>\n",
       "      <td>0.000000</td>\n",
       "      <td>0.000000</td>\n",
       "      <td>1.000000</td>\n",
       "    </tr>\n",
       "    <tr>\n",
       "      <th>Jones LLC</th>\n",
       "      <td>6</td>\n",
       "      <td>0.500000</td>\n",
       "      <td>0.333333</td>\n",
       "      <td>0.166667</td>\n",
       "    </tr>\n",
       "  </tbody>\n",
       "</table>\n",
       "</div>"
      ],
      "text/plain": [
       "                    yes     maybe        no\n",
       "          [n]         %         %         %\n",
       "ALL        17  0.470588  0.294118  0.235294\n",
       "Alpha Co   10  0.500000  0.300000  0.200000\n",
       "Blue Inc    1  0.000000  0.000000  1.000000\n",
       "Jones LLC   6  0.500000  0.333333  0.166667"
      ]
     },
     "execution_count": 14,
     "metadata": {},
     "output_type": "execute_result"
    }
   ],
   "source": [
    "m = pd.read_pickle(\"summary_data.pkl\")\n",
    "m"
   ]
  },
  {
   "cell_type": "code",
   "execution_count": 15,
   "metadata": {},
   "outputs": [
    {
     "data": {
      "text/html": [
       "<style  type=\"text/css\" >\n",
       "</style><table id=\"T_20a7f954_9848_11e9_847c_8ae5988701b3\" ><thead>    <tr>        <th class=\"blank level0\" ></th>        <th class=\"col_heading level0 col0\" ></th>        <th class=\"col_heading level0 col1\" >yes</th>        <th class=\"col_heading level0 col2\" >maybe</th>        <th class=\"col_heading level0 col3\" >no</th>    </tr>    <tr>        <th class=\"blank level1\" ></th>        <th class=\"col_heading level1 col0\" >[n]</th>        <th class=\"col_heading level1 col1\" >%</th>        <th class=\"col_heading level1 col2\" >%</th>        <th class=\"col_heading level1 col3\" >%</th>    </tr></thead><tbody>\n",
       "                <tr>\n",
       "                        <th id=\"T_20a7f954_9848_11e9_847c_8ae5988701b3level0_row0\" class=\"row_heading level0 row0\" >ALL</th>\n",
       "                        <td id=\"T_20a7f954_9848_11e9_847c_8ae5988701b3row0_col0\" class=\"data row0 col0\" >17</td>\n",
       "                        <td id=\"T_20a7f954_9848_11e9_847c_8ae5988701b3row0_col1\" class=\"data row0 col1\" >47.06%</td>\n",
       "                        <td id=\"T_20a7f954_9848_11e9_847c_8ae5988701b3row0_col2\" class=\"data row0 col2\" >29.41%</td>\n",
       "                        <td id=\"T_20a7f954_9848_11e9_847c_8ae5988701b3row0_col3\" class=\"data row0 col3\" >23.53%</td>\n",
       "            </tr>\n",
       "            <tr>\n",
       "                        <th id=\"T_20a7f954_9848_11e9_847c_8ae5988701b3level0_row1\" class=\"row_heading level0 row1\" >Alpha Co</th>\n",
       "                        <td id=\"T_20a7f954_9848_11e9_847c_8ae5988701b3row1_col0\" class=\"data row1 col0\" >10</td>\n",
       "                        <td id=\"T_20a7f954_9848_11e9_847c_8ae5988701b3row1_col1\" class=\"data row1 col1\" >50.00%</td>\n",
       "                        <td id=\"T_20a7f954_9848_11e9_847c_8ae5988701b3row1_col2\" class=\"data row1 col2\" >30.00%</td>\n",
       "                        <td id=\"T_20a7f954_9848_11e9_847c_8ae5988701b3row1_col3\" class=\"data row1 col3\" >20.00%</td>\n",
       "            </tr>\n",
       "            <tr>\n",
       "                        <th id=\"T_20a7f954_9848_11e9_847c_8ae5988701b3level0_row2\" class=\"row_heading level0 row2\" >Blue Inc</th>\n",
       "                        <td id=\"T_20a7f954_9848_11e9_847c_8ae5988701b3row2_col0\" class=\"data row2 col0\" >1</td>\n",
       "                        <td id=\"T_20a7f954_9848_11e9_847c_8ae5988701b3row2_col1\" class=\"data row2 col1\" >0.00%</td>\n",
       "                        <td id=\"T_20a7f954_9848_11e9_847c_8ae5988701b3row2_col2\" class=\"data row2 col2\" >0.00%</td>\n",
       "                        <td id=\"T_20a7f954_9848_11e9_847c_8ae5988701b3row2_col3\" class=\"data row2 col3\" >100.00%</td>\n",
       "            </tr>\n",
       "            <tr>\n",
       "                        <th id=\"T_20a7f954_9848_11e9_847c_8ae5988701b3level0_row3\" class=\"row_heading level0 row3\" >Jones LLC</th>\n",
       "                        <td id=\"T_20a7f954_9848_11e9_847c_8ae5988701b3row3_col0\" class=\"data row3 col0\" >6</td>\n",
       "                        <td id=\"T_20a7f954_9848_11e9_847c_8ae5988701b3row3_col1\" class=\"data row3 col1\" >50.00%</td>\n",
       "                        <td id=\"T_20a7f954_9848_11e9_847c_8ae5988701b3row3_col2\" class=\"data row3 col2\" >33.33%</td>\n",
       "                        <td id=\"T_20a7f954_9848_11e9_847c_8ae5988701b3row3_col3\" class=\"data row3 col3\" >16.67%</td>\n",
       "            </tr>\n",
       "    </tbody></table>"
      ],
      "text/plain": [
       "<pandas.io.formats.style.Styler at 0x7f66c4e2fc18>"
      ]
     },
     "execution_count": 15,
     "metadata": {},
     "output_type": "execute_result"
    }
   ],
   "source": [
    "# This would change the view to be nicer; note the underlying dataframe remains unotuched\n",
    "m_styl = m.style.format(\"{:.2%}\",subset=[('yes','%'),('maybe','%'),('no','%')]) # based on https://stackoverflow.com/a/56411982/8508004\n",
    "# and https://pandas.pydata.org/pandas-docs/stable/reference/api/pandas.io.formats.style.Styler.format.html\n",
    "m_styl"
   ]
  },
  {
   "cell_type": "code",
   "execution_count": 21,
   "metadata": {},
   "outputs": [
    {
     "data": {
      "text/html": [
       "<style  type=\"text/css\" >\n",
       "    #T_833ea0fe_9848_11e9_847c_8ae5988701b3row1_col1 {\n",
       "            background-color:  yellow;\n",
       "        }    #T_833ea0fe_9848_11e9_847c_8ae5988701b3row2_col3 {\n",
       "            background-color:  yellow;\n",
       "        }    #T_833ea0fe_9848_11e9_847c_8ae5988701b3row3_col1 {\n",
       "            background-color:  yellow;\n",
       "        }    #T_833ea0fe_9848_11e9_847c_8ae5988701b3row3_col2 {\n",
       "            background-color:  yellow;\n",
       "        }</style><table id=\"T_833ea0fe_9848_11e9_847c_8ae5988701b3\" ><thead>    <tr>        <th class=\"blank level0\" ></th>        <th class=\"col_heading level0 col0\" ></th>        <th class=\"col_heading level0 col1\" >yes</th>        <th class=\"col_heading level0 col2\" >maybe</th>        <th class=\"col_heading level0 col3\" >no</th>    </tr>    <tr>        <th class=\"blank level1\" ></th>        <th class=\"col_heading level1 col0\" >[n]</th>        <th class=\"col_heading level1 col1\" >%</th>        <th class=\"col_heading level1 col2\" >%</th>        <th class=\"col_heading level1 col3\" >%</th>    </tr></thead><tbody>\n",
       "                <tr>\n",
       "                        <th id=\"T_833ea0fe_9848_11e9_847c_8ae5988701b3level0_row0\" class=\"row_heading level0 row0\" >ALL</th>\n",
       "                        <td id=\"T_833ea0fe_9848_11e9_847c_8ae5988701b3row0_col0\" class=\"data row0 col0\" >17</td>\n",
       "                        <td id=\"T_833ea0fe_9848_11e9_847c_8ae5988701b3row0_col1\" class=\"data row0 col1\" >0.470588</td>\n",
       "                        <td id=\"T_833ea0fe_9848_11e9_847c_8ae5988701b3row0_col2\" class=\"data row0 col2\" >0.294118</td>\n",
       "                        <td id=\"T_833ea0fe_9848_11e9_847c_8ae5988701b3row0_col3\" class=\"data row0 col3\" >0.235294</td>\n",
       "            </tr>\n",
       "            <tr>\n",
       "                        <th id=\"T_833ea0fe_9848_11e9_847c_8ae5988701b3level0_row1\" class=\"row_heading level0 row1\" >Alpha Co</th>\n",
       "                        <td id=\"T_833ea0fe_9848_11e9_847c_8ae5988701b3row1_col0\" class=\"data row1 col0\" >10</td>\n",
       "                        <td id=\"T_833ea0fe_9848_11e9_847c_8ae5988701b3row1_col1\" class=\"data row1 col1\" >0.5</td>\n",
       "                        <td id=\"T_833ea0fe_9848_11e9_847c_8ae5988701b3row1_col2\" class=\"data row1 col2\" >0.3</td>\n",
       "                        <td id=\"T_833ea0fe_9848_11e9_847c_8ae5988701b3row1_col3\" class=\"data row1 col3\" >0.2</td>\n",
       "            </tr>\n",
       "            <tr>\n",
       "                        <th id=\"T_833ea0fe_9848_11e9_847c_8ae5988701b3level0_row2\" class=\"row_heading level0 row2\" >Blue Inc</th>\n",
       "                        <td id=\"T_833ea0fe_9848_11e9_847c_8ae5988701b3row2_col0\" class=\"data row2 col0\" >1</td>\n",
       "                        <td id=\"T_833ea0fe_9848_11e9_847c_8ae5988701b3row2_col1\" class=\"data row2 col1\" >0</td>\n",
       "                        <td id=\"T_833ea0fe_9848_11e9_847c_8ae5988701b3row2_col2\" class=\"data row2 col2\" >0</td>\n",
       "                        <td id=\"T_833ea0fe_9848_11e9_847c_8ae5988701b3row2_col3\" class=\"data row2 col3\" >1</td>\n",
       "            </tr>\n",
       "            <tr>\n",
       "                        <th id=\"T_833ea0fe_9848_11e9_847c_8ae5988701b3level0_row3\" class=\"row_heading level0 row3\" >Jones LLC</th>\n",
       "                        <td id=\"T_833ea0fe_9848_11e9_847c_8ae5988701b3row3_col0\" class=\"data row3 col0\" >6</td>\n",
       "                        <td id=\"T_833ea0fe_9848_11e9_847c_8ae5988701b3row3_col1\" class=\"data row3 col1\" >0.5</td>\n",
       "                        <td id=\"T_833ea0fe_9848_11e9_847c_8ae5988701b3row3_col2\" class=\"data row3 col2\" >0.333333</td>\n",
       "                        <td id=\"T_833ea0fe_9848_11e9_847c_8ae5988701b3row3_col3\" class=\"data row3 col3\" >0.166667</td>\n",
       "            </tr>\n",
       "    </tbody></table>"
      ],
      "text/plain": [
       "<pandas.io.formats.style.Styler at 0x7f66c4df9a20>"
      ]
     },
     "execution_count": 21,
     "metadata": {},
     "output_type": "execute_result"
    }
   ],
   "source": [
    "def highlight_max(data, color='yellow'):\n",
    "    '''\n",
    "    highlight the maximum in a Series or DataFrame\n",
    "    '''\n",
    "    attr = 'background-color: {}'.format(color)\n",
    "    if data.ndim == 1:  # Series from .apply(axis=0) or axis=1\n",
    "        is_max = data == data.max()\n",
    "        return [attr if v else '' for v in is_max]\n",
    "    else:  # from .apply(axis=None)\n",
    "        is_max = data == data.max().max()\n",
    "        return pd.DataFrame(np.where(is_max, attr, ''),\n",
    "                            index=data.index, columns=data.columns)\n",
    "ms = m.style.apply(highlight_max, subset=['yes', 'maybe', 'no'])\n",
    "ms"
   ]
  },
  {
   "cell_type": "code",
   "execution_count": 16,
   "metadata": {},
   "outputs": [
    {
     "name": "stderr",
     "output_type": "stream",
     "text": [
      "Summary dataframe saved as a text table easily opened in\n",
      "different software; file named: `summary_data.tsv`. This version meant for presenation only.\n",
      "\n",
      "Summary dataframe saved in pickled form for ease of use within\n",
      "Python; file named: `summary_data.pkl`. This version meant for\n",
      "presentation only.\n",
      "\n",
      "\n",
      "**Also saving data table as forms easier to handle for subsequent steps:**\n",
      "Summary dataframe saved as a text table easily opened in\n",
      "different software; file named: `summary_basic_data.tsv`\n",
      "\n",
      "Summary dataframe saved in pickled form for ease of use within\n",
      "Python; file named: `summary_basic_data.pkl`. This will retain the column headers/names formatting best."
     ]
    }
   ],
   "source": [
    "%run df_subgroups_states2summary_df.py data.pkl Manufacturer In_Stock  --bracket_counts"
   ]
  },
  {
   "cell_type": "code",
   "execution_count": 17,
   "metadata": {},
   "outputs": [
    {
     "data": {
      "text/html": [
       "<div>\n",
       "<style scoped>\n",
       "    .dataframe tbody tr th:only-of-type {\n",
       "        vertical-align: middle;\n",
       "    }\n",
       "\n",
       "    .dataframe tbody tr th {\n",
       "        vertical-align: top;\n",
       "    }\n",
       "\n",
       "    .dataframe thead th {\n",
       "        text-align: right;\n",
       "    }\n",
       "</style>\n",
       "<table border=\"1\" class=\"dataframe\">\n",
       "  <thead>\n",
       "    <tr style=\"text-align: right;\">\n",
       "      <th></th>\n",
       "      <th>[n]</th>\n",
       "      <th>yes</th>\n",
       "      <th>maybe</th>\n",
       "      <th>no</th>\n",
       "    </tr>\n",
       "  </thead>\n",
       "  <tbody>\n",
       "    <tr>\n",
       "      <th>ALL</th>\n",
       "      <td>17.0</td>\n",
       "      <td>47.06% [8]</td>\n",
       "      <td>29.41% [5]</td>\n",
       "      <td>23.53% [4]</td>\n",
       "    </tr>\n",
       "    <tr>\n",
       "      <th>Alpha Co</th>\n",
       "      <td>10.0</td>\n",
       "      <td>50.00% [5]</td>\n",
       "      <td>30.00% [3]</td>\n",
       "      <td>20.00% [2]</td>\n",
       "    </tr>\n",
       "    <tr>\n",
       "      <th>Blue Inc</th>\n",
       "      <td>1.0</td>\n",
       "      <td>0.00% [0]</td>\n",
       "      <td>0.00% [0]</td>\n",
       "      <td>100.00% [1]</td>\n",
       "    </tr>\n",
       "    <tr>\n",
       "      <th>Jones LLC</th>\n",
       "      <td>6.0</td>\n",
       "      <td>50.00% [3]</td>\n",
       "      <td>33.33% [2]</td>\n",
       "      <td>16.67% [1]</td>\n",
       "    </tr>\n",
       "  </tbody>\n",
       "</table>\n",
       "</div>"
      ],
      "text/plain": [
       "            [n]         yes       maybe           no\n",
       "ALL        17.0  47.06% [8]  29.41% [5]   23.53% [4]\n",
       "Alpha Co   10.0  50.00% [5]  30.00% [3]   20.00% [2]\n",
       "Blue Inc    1.0   0.00% [0]   0.00% [0]  100.00% [1]\n",
       "Jones LLC   6.0  50.00% [3]  33.33% [2]   16.67% [1]"
      ]
     },
     "execution_count": 17,
     "metadata": {},
     "output_type": "execute_result"
    }
   ],
   "source": [
    "bc = pd.read_pickle(\"summary_data.pkl\")\n",
    "bc"
   ]
  },
  {
   "cell_type": "code",
   "execution_count": null,
   "metadata": {},
   "outputs": [],
   "source": []
  },
  {
   "cell_type": "code",
   "execution_count": null,
   "metadata": {},
   "outputs": [],
   "source": []
  },
  {
   "cell_type": "code",
   "execution_count": 18,
   "metadata": {},
   "outputs": [
    {
     "name": "stdout",
     "output_type": "stream",
     "text": [
      ".\n"
     ]
    },
    {
     "ename": "KeyboardInterrupt",
     "evalue": "",
     "output_type": "error",
     "traceback": [
      "\u001b[0;31m---------------------------------------------------------------------------\u001b[0m",
      "\u001b[0;31mKeyboardInterrupt\u001b[0m                         Traceback (most recent call last)",
      "\u001b[0;32m<ipython-input-18-ece0737a9832>\u001b[0m in \u001b[0;36m<module>\u001b[0;34m\u001b[0m\n\u001b[1;32m      7\u001b[0m \u001b[0;34m\u001b[0m\u001b[0m\n\u001b[1;32m      8\u001b[0m \u001b[0;32mwhile\u001b[0m \u001b[0;32mTrue\u001b[0m\u001b[0;34m:\u001b[0m\u001b[0;34m\u001b[0m\u001b[0;34m\u001b[0m\u001b[0m\n\u001b[0;32m----> 9\u001b[0;31m     \u001b[0mexecuteSomething\u001b[0m\u001b[0;34m(\u001b[0m\u001b[0;34m)\u001b[0m\u001b[0;34m\u001b[0m\u001b[0;34m\u001b[0m\u001b[0m\n\u001b[0m",
      "\u001b[0;32m<ipython-input-18-ece0737a9832>\u001b[0m in \u001b[0;36mexecuteSomething\u001b[0;34m()\u001b[0m\n\u001b[1;32m      4\u001b[0m     \u001b[0;31m#code here\u001b[0m\u001b[0;34m\u001b[0m\u001b[0;34m\u001b[0m\u001b[0;34m\u001b[0m\u001b[0m\n\u001b[1;32m      5\u001b[0m     \u001b[0mprint\u001b[0m \u001b[0;34m(\u001b[0m\u001b[0;34m'.'\u001b[0m\u001b[0;34m)\u001b[0m\u001b[0;34m\u001b[0m\u001b[0;34m\u001b[0m\u001b[0m\n\u001b[0;32m----> 6\u001b[0;31m     \u001b[0mtime\u001b[0m\u001b[0;34m.\u001b[0m\u001b[0msleep\u001b[0m\u001b[0;34m(\u001b[0m\u001b[0;36m480\u001b[0m\u001b[0;34m)\u001b[0m \u001b[0;31m#60 seconds times 8 minutes\u001b[0m\u001b[0;34m\u001b[0m\u001b[0;34m\u001b[0m\u001b[0m\n\u001b[0m\u001b[1;32m      7\u001b[0m \u001b[0;34m\u001b[0m\u001b[0m\n\u001b[1;32m      8\u001b[0m \u001b[0;32mwhile\u001b[0m \u001b[0;32mTrue\u001b[0m\u001b[0;34m:\u001b[0m\u001b[0;34m\u001b[0m\u001b[0;34m\u001b[0m\u001b[0m\n",
      "\u001b[0;31mKeyboardInterrupt\u001b[0m: "
     ]
    }
   ],
   "source": [
    "import time\n",
    "\n",
    "def executeSomething():\n",
    "    #code here\n",
    "    print ('.')\n",
    "    time.sleep(480) #60 seconds times 8 minutes\n",
    "\n",
    "while True:\n",
    "    executeSomething()"
   ]
  },
  {
   "cell_type": "code",
   "execution_count": null,
   "metadata": {},
   "outputs": [],
   "source": []
  }
 ],
 "metadata": {
  "kernelspec": {
   "display_name": "Python 3",
   "language": "python",
   "name": "python3"
  },
  "language_info": {
   "codemirror_mode": {
    "name": "ipython",
    "version": 3
   },
   "file_extension": ".py",
   "mimetype": "text/x-python",
   "name": "python",
   "nbconvert_exporter": "python",
   "pygments_lexer": "ipython3",
   "version": "3.7.3"
  }
 },
 "nbformat": 4,
 "nbformat_minor": 2
}

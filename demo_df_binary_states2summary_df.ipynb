{
 "cells": [
  {
   "cell_type": "markdown",
   "metadata": {},
   "source": [
    "# Demonstration of `df_binary_states2summary_df.py`\n",
    "\n",
    "Demonstrating use of `df_binary_states2summary_df.py`, see [here](https://github.com/fomightez/text_mining) for more information.\n",
    "\n",
    "This script converts a dataframe or data table of text into a summary.  \n",
    "\n",
    "**This script only works with data that has binary state / or subgroups and assumes the other from calculation by 100%.** Two states typically have one that is considered the 'positive' or featured one, such as among 'present/not present' or 'yes/no'.  \n",
    "See [this notebook](index.ipynb) demonstrating `df_subgroups_states2summary_df.py` if you have more than two states / subgroups.\n",
    "\n",
    "-----\n",
    "\n",
    "The two main ways of using the script are covered, featuring several of the options available."
   ]
  },
  {
   "cell_type": "markdown",
   "metadata": {},
   "source": [
    "## Preparation and displaying USAGE block\n",
    "\n",
    "Let's get the script and run 'Help' on it to see the basic USAGE block.\n",
    "\n",
    "(If you are running this notebook in the session launched from the repo that includes the script, this step is not necessary. However, it is included because there is no harm in running it here and you may be wanting to run this elsewhere or see how to easily acquire the script. If you are on the actual command line, you'd leave off the exclamation point.)"
   ]
  },
  {
   "cell_type": "code",
   "execution_count": 1,
   "metadata": {},
   "outputs": [
    {
     "name": "stdout",
     "output_type": "stream",
     "text": [
      "  % Total    % Received % Xferd  Average Speed   Time    Time     Time  Current\n",
      "                                 Dload  Upload   Total   Spent    Left  Speed\n",
      "100 25626  100 25626    0     0   115k      0 --:--:-- --:--:-- --:--:--  116k\n"
     ]
    }
   ],
   "source": [
    "import os\n",
    "file_needed = \"df_binary_states2summary_df.py\"\n",
    "if not os.path.isfile(file_needed):\n",
    "    !curl -OL https://raw.githubusercontent.com/fomightez/text_mining/master/df_binary_states2summary_df.py"
   ]
  },
  {
   "cell_type": "code",
   "execution_count": 2,
   "metadata": {},
   "outputs": [
    {
     "name": "stdout",
     "output_type": "stream",
     "text": [
      "usage: df_binary_states2summary_df.py [-h] [-olsr] [-bc]\n",
      "                                      DF_FILE GROUPS STATES_COL STATE_TO_SHOW\n",
      "\n",
      "df_binary_states2summary_df.py takes a dataframe or data table, and some\n",
      "information about columns in the data table and makes a summary data table\n",
      "with the ratio or percent for a specified state per total and each group /\n",
      "category. **** Script by Wayne Decatur (fomightez @ github) ***\n",
      "\n",
      "positional arguments:\n",
      "  DF_FILE               Name of file containing the dataframe. Whether it is\n",
      "                        in the form of a pickled dataframe, tab-separated\n",
      "                        text, or comma-separated text needs to be indicated by\n",
      "                        the file extension. So `.pkl`, `.tsv`, or `.csv` for\n",
      "                        the file extension.\n",
      "  GROUPS                Label of column in dataframe (or data table) to use as\n",
      "                        main grouping categories.\n",
      "  STATES_COL            Label of column in dataframe (or data table) to use as\n",
      "                        the binary states.\n",
      "  STATE_TO_SHOW         Specific label corresponding to 'positive' state\n",
      "                        (subgrouping) that will have corresponding values\n",
      "                        displayed in summary with other state left as\n",
      "                        inferred. For example, if states possible are 'yes' or\n",
      "                        'no', you'd want to display the percent and or counts\n",
      "                        of 'yes' and leave the 'no' as inferred.\n",
      "\n",
      "optional arguments:\n",
      "  -h, --help            show this help message and exit\n",
      "  -olsr, --only_subgrp_ratio\n",
      "                        add this flag to only leave states/subgroups ratio\n",
      "                        values in produced data table. No counts will be\n",
      "                        included for each state/subgrouping. When this is used\n",
      "                        the column will get `states_col` label applied as it\n",
      "                        shows the ration in decimal form corresponding to the\n",
      "                        'positive'/'featured' state in the column.\n",
      "  -bc, --bracket_counts\n",
      "                        add this flag to display counts in brackets AFTER the\n",
      "                        percent listing. This is only meant for generating\n",
      "                        presentation style dataframes as the percent & count\n",
      "                        data will be combined into one cell as a string which\n",
      "                        is not suitable for further use. Because of that this\n",
      "                        option will also produce a more basic summary table to\n",
      "                        be used for further efforts. When this is used the\n",
      "                        column will get name of the `states_col` applied as it\n",
      "                        shows the percent corresponding to the 'positive'\n",
      "                        state in the column. Use of `--only_subgrp_ratio`\n",
      "                        renders this argument moot as nothing concerning\n",
      "                        counts is displayed in that case.\n"
     ]
    }
   ],
   "source": [
    "%run df_binary_states2summary_df.py -h"
   ]
  },
  {
   "cell_type": "markdown",
   "metadata": {},
   "source": [
    "## Use the script by calling it from the command line"
   ]
  },
  {
   "cell_type": "markdown",
   "metadata": {},
   "source": [
    "A dataframe  or text data table will be used for input data. To fully demonstrate the options for the script we'll use a toy dataframe and also convert it to a text table."
   ]
  },
  {
   "cell_type": "code",
   "execution_count": 3,
   "metadata": {},
   "outputs": [
    {
     "data": {
      "text/html": [
       "<div>\n",
       "<style scoped>\n",
       "    .dataframe tbody tr th:only-of-type {\n",
       "        vertical-align: middle;\n",
       "    }\n",
       "\n",
       "    .dataframe tbody tr th {\n",
       "        vertical-align: top;\n",
       "    }\n",
       "\n",
       "    .dataframe thead th {\n",
       "        text-align: right;\n",
       "    }\n",
       "</style>\n",
       "<table border=\"1\" class=\"dataframe\">\n",
       "  <thead>\n",
       "    <tr style=\"text-align: right;\">\n",
       "      <th></th>\n",
       "      <th>Manufacturer</th>\n",
       "      <th>Item</th>\n",
       "      <th>In_Stock</th>\n",
       "    </tr>\n",
       "  </thead>\n",
       "  <tbody>\n",
       "    <tr>\n",
       "      <th>0</th>\n",
       "      <td>Jones LLC</td>\n",
       "      <td>177887</td>\n",
       "      <td>yes</td>\n",
       "    </tr>\n",
       "    <tr>\n",
       "      <th>1</th>\n",
       "      <td>Alpha Co</td>\n",
       "      <td>157987</td>\n",
       "      <td>yes</td>\n",
       "    </tr>\n",
       "    <tr>\n",
       "      <th>2</th>\n",
       "      <td>Alpha Co</td>\n",
       "      <td>158981</td>\n",
       "      <td>yes</td>\n",
       "    </tr>\n",
       "    <tr>\n",
       "      <th>3</th>\n",
       "      <td>Alpha Co</td>\n",
       "      <td>159983</td>\n",
       "      <td>yes</td>\n",
       "    </tr>\n",
       "    <tr>\n",
       "      <th>4</th>\n",
       "      <td>Alpha Co</td>\n",
       "      <td>167987</td>\n",
       "      <td>yes</td>\n",
       "    </tr>\n",
       "  </tbody>\n",
       "</table>\n",
       "</div>"
      ],
      "text/plain": [
       "  Manufacturer    Item In_Stock\n",
       "0    Jones LLC  177887      yes\n",
       "1     Alpha Co  157987      yes\n",
       "2     Alpha Co  158981      yes\n",
       "3     Alpha Co  159983      yes\n",
       "4     Alpha Co  167987      yes"
      ]
     },
     "execution_count": 3,
     "metadata": {},
     "output_type": "execute_result"
    }
   ],
   "source": [
    "import pandas as pd\n",
    "sales = [('Jones LLC', 177887, 'yes'),\n",
    "         ('Alpha Co', 157987, 'yes'),\n",
    "         ('Alpha Co', 158981, 'yes'),\n",
    "         ('Alpha Co', 159983, 'yes'),\n",
    "         ('Alpha Co', 167987, 'yes'),\n",
    "         ('Alpha Co', 158117, 'yes'),\n",
    "         ('Alpha Co', 159333, 'no'),\n",
    "         ('Alpha Co', 256521, 'no'),\n",
    "         ('Blue Inc', 111947, 'no')]\n",
    "labels = ['Manufacturer', 'Item', 'In_Stock']\n",
    "df = pd.DataFrame.from_records(sales, columns=labels)\n",
    "df.head()"
   ]
  },
  {
   "cell_type": "markdown",
   "metadata": {},
   "source": [
    "Let's save that dataframe as tabular text and also as a Pickled pickled dataframe. The former being human readable and the latter not. (The latter is more efficient at storage though if that is an issue.)\n",
    "\n",
    "First to save as tabular text in tab-separated form. You could change it to be comma-separated, CSV, if you choose."
   ]
  },
  {
   "cell_type": "code",
   "execution_count": 4,
   "metadata": {},
   "outputs": [],
   "source": [
    "df.to_pickle(\"data.pkl\")\n",
    "df.to_csv('data.tsv', sep='\\t',index = False)"
   ]
  },
  {
   "cell_type": "markdown",
   "metadata": {},
   "source": [
    "Now that we have files with input data, we have something we can point the script at for running it.\n",
    "\n",
    "In addition to providing the data input file name, three other items need to be provided when calling the script. You need also to provide:  \n",
    "(1) the text corresponding to the column heading of the groupings,  \n",
    "(2) the text corresponding to the column containing the states /or subgroups, and  \n",
    "(3) the text corresponding to the ONE 'positive' or featured state or subgroup to display.\n",
    "\n",
    "In regards to item 3, the amounts of the other state or subgroup in the binary set will be inferred from the summary table by substraction from 100%. For example, if you are using 'present/absent' as the states, the 'absent' component would be determined by subtracting the amount of the 'positive' case of presence from 100%."
   ]
  },
  {
   "cell_type": "code",
   "execution_count": 5,
   "metadata": {},
   "outputs": [
    {
     "name": "stderr",
     "output_type": "stream",
     "text": [
      "Summary dataframe saved as a text table easily opened in\n",
      "different software; file named: `summary_data.tsv`\n",
      "\n",
      "Summary dataframe saved in pickled form for ease of use within\n",
      "Python; file named: `summary_data.pkl`. This will retain the column headers/names formatting best."
     ]
    }
   ],
   "source": [
    "%run df_binary_states2summary_df.py data.pkl Manufacturer In_Stock yes"
   ]
  },
  {
   "cell_type": "code",
   "execution_count": 6,
   "metadata": {},
   "outputs": [
    {
     "data": {
      "text/html": [
       "<div>\n",
       "<style scoped>\n",
       "    .dataframe tbody tr th:only-of-type {\n",
       "        vertical-align: middle;\n",
       "    }\n",
       "\n",
       "    .dataframe tbody tr th {\n",
       "        vertical-align: top;\n",
       "    }\n",
       "\n",
       "    .dataframe thead tr th {\n",
       "        text-align: left;\n",
       "    }\n",
       "</style>\n",
       "<table border=\"1\" class=\"dataframe\">\n",
       "  <thead>\n",
       "    <tr>\n",
       "      <th></th>\n",
       "      <th></th>\n",
       "      <th colspan=\"2\" halign=\"left\">yes</th>\n",
       "    </tr>\n",
       "    <tr>\n",
       "      <th></th>\n",
       "      <th>[n]</th>\n",
       "      <th>count</th>\n",
       "      <th>ratio</th>\n",
       "    </tr>\n",
       "  </thead>\n",
       "  <tbody>\n",
       "    <tr>\n",
       "      <th>ALL</th>\n",
       "      <td>9</td>\n",
       "      <td>6</td>\n",
       "      <td>0.666667</td>\n",
       "    </tr>\n",
       "    <tr>\n",
       "      <th>Alpha Co</th>\n",
       "      <td>7</td>\n",
       "      <td>5</td>\n",
       "      <td>0.714286</td>\n",
       "    </tr>\n",
       "    <tr>\n",
       "      <th>Blue Inc</th>\n",
       "      <td>1</td>\n",
       "      <td>0</td>\n",
       "      <td>0.000000</td>\n",
       "    </tr>\n",
       "    <tr>\n",
       "      <th>Jones LLC</th>\n",
       "      <td>1</td>\n",
       "      <td>1</td>\n",
       "      <td>1.000000</td>\n",
       "    </tr>\n",
       "  </tbody>\n",
       "</table>\n",
       "</div>"
      ],
      "text/plain": [
       "                yes          \n",
       "          [n] count     ratio\n",
       "ALL         9     6  0.666667\n",
       "Alpha Co    7     5  0.714286\n",
       "Blue Inc    1     0  0.000000\n",
       "Jones LLC   1     1  1.000000"
      ]
     },
     "execution_count": 6,
     "metadata": {},
     "output_type": "execute_result"
    }
   ],
   "source": [
    "t = pd.read_pickle(\"summary_data.pkl\")\n",
    "t"
   ]
  },
  {
   "cell_type": "markdown",
   "metadata": {},
   "source": [
    "The text in the displayed view of the dataframe can be styled better without changing the actual underlying data. Here we convert the `ratio` column in its current decimal form to instead show it as a percentage with two-decimal places represented. At the same time a title can also be added for display."
   ]
  },
  {
   "cell_type": "code",
   "execution_count": 7,
   "metadata": {},
   "outputs": [
    {
     "data": {
      "text/html": [
       "<b>Items in stock by Manufacturer:</b>"
      ],
      "text/plain": [
       "<IPython.core.display.HTML object>"
      ]
     },
     "metadata": {},
     "output_type": "display_data"
    },
    {
     "data": {
      "text/html": [
       "<style  type=\"text/css\" >\n",
       "</style><table id=\"T_b9213320_9dd5_11e9_ab12_5a50fa8023ef\" ><thead>    <tr>        <th class=\"blank level0\" ></th>        <th class=\"col_heading level0 col0\" ></th>        <th class=\"col_heading level0 col1\" colspan=2>yes</th>    </tr>    <tr>        <th class=\"blank level1\" ></th>        <th class=\"col_heading level1 col0\" >[n]</th>        <th class=\"col_heading level1 col1\" >count</th>        <th class=\"col_heading level1 col2\" >%</th>    </tr></thead><tbody>\n",
       "                <tr>\n",
       "                        <th id=\"T_b9213320_9dd5_11e9_ab12_5a50fa8023eflevel0_row0\" class=\"row_heading level0 row0\" >ALL</th>\n",
       "                        <td id=\"T_b9213320_9dd5_11e9_ab12_5a50fa8023efrow0_col0\" class=\"data row0 col0\" >9</td>\n",
       "                        <td id=\"T_b9213320_9dd5_11e9_ab12_5a50fa8023efrow0_col1\" class=\"data row0 col1\" >6</td>\n",
       "                        <td id=\"T_b9213320_9dd5_11e9_ab12_5a50fa8023efrow0_col2\" class=\"data row0 col2\" >66.67%</td>\n",
       "            </tr>\n",
       "            <tr>\n",
       "                        <th id=\"T_b9213320_9dd5_11e9_ab12_5a50fa8023eflevel0_row1\" class=\"row_heading level0 row1\" >Alpha Co</th>\n",
       "                        <td id=\"T_b9213320_9dd5_11e9_ab12_5a50fa8023efrow1_col0\" class=\"data row1 col0\" >7</td>\n",
       "                        <td id=\"T_b9213320_9dd5_11e9_ab12_5a50fa8023efrow1_col1\" class=\"data row1 col1\" >5</td>\n",
       "                        <td id=\"T_b9213320_9dd5_11e9_ab12_5a50fa8023efrow1_col2\" class=\"data row1 col2\" >71.43%</td>\n",
       "            </tr>\n",
       "            <tr>\n",
       "                        <th id=\"T_b9213320_9dd5_11e9_ab12_5a50fa8023eflevel0_row2\" class=\"row_heading level0 row2\" >Blue Inc</th>\n",
       "                        <td id=\"T_b9213320_9dd5_11e9_ab12_5a50fa8023efrow2_col0\" class=\"data row2 col0\" >1</td>\n",
       "                        <td id=\"T_b9213320_9dd5_11e9_ab12_5a50fa8023efrow2_col1\" class=\"data row2 col1\" >0</td>\n",
       "                        <td id=\"T_b9213320_9dd5_11e9_ab12_5a50fa8023efrow2_col2\" class=\"data row2 col2\" >0.00%</td>\n",
       "            </tr>\n",
       "            <tr>\n",
       "                        <th id=\"T_b9213320_9dd5_11e9_ab12_5a50fa8023eflevel0_row3\" class=\"row_heading level0 row3\" >Jones LLC</th>\n",
       "                        <td id=\"T_b9213320_9dd5_11e9_ab12_5a50fa8023efrow3_col0\" class=\"data row3 col0\" >1</td>\n",
       "                        <td id=\"T_b9213320_9dd5_11e9_ab12_5a50fa8023efrow3_col1\" class=\"data row3 col1\" >1</td>\n",
       "                        <td id=\"T_b9213320_9dd5_11e9_ab12_5a50fa8023efrow3_col2\" class=\"data row3 col2\" >100.00%</td>\n",
       "            </tr>\n",
       "    </tbody></table>"
      ],
      "text/plain": [
       "<pandas.io.formats.style.Styler at 0x7f2e4a203be0>"
      ]
     },
     "metadata": {},
     "output_type": "display_data"
    }
   ],
   "source": [
    "# This would change the view to be nicer; note the underlying dataframe remains untouched\n",
    "tu = t.set_axis(t.columns.set_levels(\n",
    "    [t.columns.levels[0],['%' if x == 'ratio' else x for x in t.columns.levels[1]]]), axis=1, inplace=False) # based on https://stackoverflow.com/a/38626145/8508004\n",
    "t_styl = tu.style.format(\"{:.2%}\",subset=[('yes','%')]) # based on https://stackoverflow.com/a/56411982/8508004\n",
    "# and https://pandas.pydata.org/pandas-docs/stable/reference/api/pandas.io.formats.style.Styler.format.html\n",
    "# Trick to add a title to the dataframe\n",
    "from IPython.display import display, HTML\n",
    "# trick from https://stackoverflow.com/a/29665452/8508004\n",
    "display(HTML('<b>Items in stock by Manufacturer:</b>'))\n",
    "display(t_styl)"
   ]
  },
  {
   "cell_type": "markdown",
   "metadata": {},
   "source": [
    "The sparsification of the column names and not all the states/ subgroups being represented makes it a little hard to read. In other words, you might question ,\"Why is there an `[n]` and `count`?\" And not realize that `count` belongs to `yes`. Using the suggestion [here](http://pandas.pydata.org/pandas-docs/stable/user_guide/advanced.html), you can un-\"sparsify\" the display style:"
   ]
  },
  {
   "cell_type": "code",
   "execution_count": 8,
   "metadata": {},
   "outputs": [
    {
     "data": {
      "text/html": [
       "<div>\n",
       "<style scoped>\n",
       "    .dataframe tbody tr th:only-of-type {\n",
       "        vertical-align: middle;\n",
       "    }\n",
       "\n",
       "    .dataframe tbody tr th {\n",
       "        vertical-align: top;\n",
       "    }\n",
       "\n",
       "    .dataframe thead tr th {\n",
       "        text-align: left;\n",
       "    }\n",
       "</style>\n",
       "<table border=\"1\" class=\"dataframe\">\n",
       "  <thead>\n",
       "    <tr>\n",
       "      <th></th>\n",
       "      <th></th>\n",
       "      <th>yes</th>\n",
       "      <th>yes</th>\n",
       "    </tr>\n",
       "    <tr>\n",
       "      <th></th>\n",
       "      <th>[n]</th>\n",
       "      <th>count</th>\n",
       "      <th>ratio</th>\n",
       "    </tr>\n",
       "  </thead>\n",
       "  <tbody>\n",
       "    <tr>\n",
       "      <th>ALL</th>\n",
       "      <td>9</td>\n",
       "      <td>6</td>\n",
       "      <td>0.666667</td>\n",
       "    </tr>\n",
       "    <tr>\n",
       "      <th>Alpha Co</th>\n",
       "      <td>7</td>\n",
       "      <td>5</td>\n",
       "      <td>0.714286</td>\n",
       "    </tr>\n",
       "    <tr>\n",
       "      <th>Blue Inc</th>\n",
       "      <td>1</td>\n",
       "      <td>0</td>\n",
       "      <td>0.000000</td>\n",
       "    </tr>\n",
       "    <tr>\n",
       "      <th>Jones LLC</th>\n",
       "      <td>1</td>\n",
       "      <td>1</td>\n",
       "      <td>1.000000</td>\n",
       "    </tr>\n",
       "  </tbody>\n",
       "</table>\n",
       "</div>"
      ],
      "text/plain": [
       "                yes       yes\n",
       "          [n] count     ratio\n",
       "ALL         9     6  0.666667\n",
       "Alpha Co    7     5  0.714286\n",
       "Blue Inc    1     0  0.000000\n",
       "Jones LLC   1     1  1.000000"
      ]
     },
     "metadata": {},
     "output_type": "display_data"
    }
   ],
   "source": [
    "with pd.option_context('display.multi_sparse', False):\n",
    "    display(t)"
   ]
  },
  {
   "cell_type": "markdown",
   "metadata": {},
   "source": [
    "(Related to the column names sparsification, I note that, when in the classic notebook interface, the default dataframe has the top level column names show on the left, and they shift to being right-aligned in the dataframe with the format styling of the ratio column. If you are seeing this and want more standardized, switch to using the JupyterLab interface because it seems the top-level column headings stay right-aligned. It is easy to go from the classic interface to the JupyterLab if you first go to the dashboard/file browser in the classic interface by clicking on the Jupyter logo in the upper right. From the dashboard, change the end of the url from `/tree` to `/lab`. The screen will refresh and you'll be in the JupyterLab interface. (Just change `/lab` at the end back to `/tree` to switch back to the classic interface.)\n",
    "\n",
    "The style formatting of the values and the desparsification can even be combined:"
   ]
  },
  {
   "cell_type": "code",
   "execution_count": 9,
   "metadata": {},
   "outputs": [
    {
     "data": {
      "text/html": [
       "<b>Items in stock by Manufacturer:</b>"
      ],
      "text/plain": [
       "<IPython.core.display.HTML object>"
      ]
     },
     "metadata": {},
     "output_type": "display_data"
    },
    {
     "data": {
      "text/html": [
       "<style  type=\"text/css\" >\n",
       "</style><table id=\"T_b9290820_9dd5_11e9_ab12_5a50fa8023ef\" ><thead>    <tr>        <th class=\"blank level0\" ></th>        <th class=\"col_heading level0 col0\" ></th>        <th class=\"col_heading level0 col1\" >yes</th>        <th class=\"col_heading level0 col2\" >yes</th>    </tr>    <tr>        <th class=\"blank level1\" ></th>        <th class=\"col_heading level1 col0\" >[n]</th>        <th class=\"col_heading level1 col1\" >count</th>        <th class=\"col_heading level1 col2\" >%</th>    </tr></thead><tbody>\n",
       "                <tr>\n",
       "                        <th id=\"T_b9290820_9dd5_11e9_ab12_5a50fa8023eflevel0_row0\" class=\"row_heading level0 row0\" >ALL</th>\n",
       "                        <td id=\"T_b9290820_9dd5_11e9_ab12_5a50fa8023efrow0_col0\" class=\"data row0 col0\" >9</td>\n",
       "                        <td id=\"T_b9290820_9dd5_11e9_ab12_5a50fa8023efrow0_col1\" class=\"data row0 col1\" >6</td>\n",
       "                        <td id=\"T_b9290820_9dd5_11e9_ab12_5a50fa8023efrow0_col2\" class=\"data row0 col2\" >66.67%</td>\n",
       "            </tr>\n",
       "            <tr>\n",
       "                        <th id=\"T_b9290820_9dd5_11e9_ab12_5a50fa8023eflevel0_row1\" class=\"row_heading level0 row1\" >Alpha Co</th>\n",
       "                        <td id=\"T_b9290820_9dd5_11e9_ab12_5a50fa8023efrow1_col0\" class=\"data row1 col0\" >7</td>\n",
       "                        <td id=\"T_b9290820_9dd5_11e9_ab12_5a50fa8023efrow1_col1\" class=\"data row1 col1\" >5</td>\n",
       "                        <td id=\"T_b9290820_9dd5_11e9_ab12_5a50fa8023efrow1_col2\" class=\"data row1 col2\" >71.43%</td>\n",
       "            </tr>\n",
       "            <tr>\n",
       "                        <th id=\"T_b9290820_9dd5_11e9_ab12_5a50fa8023eflevel0_row2\" class=\"row_heading level0 row2\" >Blue Inc</th>\n",
       "                        <td id=\"T_b9290820_9dd5_11e9_ab12_5a50fa8023efrow2_col0\" class=\"data row2 col0\" >1</td>\n",
       "                        <td id=\"T_b9290820_9dd5_11e9_ab12_5a50fa8023efrow2_col1\" class=\"data row2 col1\" >0</td>\n",
       "                        <td id=\"T_b9290820_9dd5_11e9_ab12_5a50fa8023efrow2_col2\" class=\"data row2 col2\" >0.00%</td>\n",
       "            </tr>\n",
       "            <tr>\n",
       "                        <th id=\"T_b9290820_9dd5_11e9_ab12_5a50fa8023eflevel0_row3\" class=\"row_heading level0 row3\" >Jones LLC</th>\n",
       "                        <td id=\"T_b9290820_9dd5_11e9_ab12_5a50fa8023efrow3_col0\" class=\"data row3 col0\" >1</td>\n",
       "                        <td id=\"T_b9290820_9dd5_11e9_ab12_5a50fa8023efrow3_col1\" class=\"data row3 col1\" >1</td>\n",
       "                        <td id=\"T_b9290820_9dd5_11e9_ab12_5a50fa8023efrow3_col2\" class=\"data row3 col2\" >100.00%</td>\n",
       "            </tr>\n",
       "    </tbody></table>"
      ],
      "text/plain": [
       "<pandas.io.formats.style.Styler at 0x7f2e492b2ef0>"
      ]
     },
     "metadata": {},
     "output_type": "display_data"
    }
   ],
   "source": [
    "# This would change the view to be nicer; note the underlying dataframe remains untouched\n",
    "tu = t.set_axis(t.columns.set_levels(\n",
    "    [t.columns.levels[0],['%' if x == 'ratio' else x for x in t.columns.levels[1]]]), axis=1, inplace=False) # based on https://stackoverflow.com/a/38626145/8508004\n",
    "t_styl = tu.style.format(\"{:.2%}\",subset=[('yes','%')]) # based on https://stackoverflow.com/a/56411982/8508004\n",
    "# and https://pandas.pydata.org/pandas-docs/stable/reference/api/pandas.io.formats.style.Styler.format.html\n",
    "# Trick to add a title to the dataframe\n",
    "from IPython.display import display, HTML\n",
    "# trick from https://stackoverflow.com/a/29665452/8508004\n",
    "display(HTML('<b>Items in stock by Manufacturer:</b>'))\n",
    "with pd.option_context('display.multi_sparse', False):\n",
    "    display(t_styl)"
   ]
  },
  {
   "cell_type": "markdown",
   "metadata": {},
   "source": [
    "That covers the basics. However, the script can be called with several arguments to specify the output style."
   ]
  },
  {
   "cell_type": "markdown",
   "metadata": {},
   "source": [
    "**Leave only the states / subgroups ratio**\n",
    "\n",
    "Another optional flag for when calling the script is `--only_subgrp_ratio`, abbreivated `-olsr`, to remove the counts for each state / subgroup to just leave the ratio accounting for each state subgroup."
   ]
  },
  {
   "cell_type": "code",
   "execution_count": 10,
   "metadata": {},
   "outputs": [
    {
     "name": "stderr",
     "output_type": "stream",
     "text": [
      "Summary dataframe saved as a text table easily opened in\n",
      "different software; file named: `summary_data.tsv`\n",
      "\n",
      "Summary dataframe saved in pickled form for ease of use within\n",
      "Python; file named: `summary_data.pkl`. This will retain the column headers/names formatting best."
     ]
    }
   ],
   "source": [
    "%run df_binary_states2summary_df.py data.pkl Manufacturer In_Stock yes --only_subgrp_ratio"
   ]
  },
  {
   "cell_type": "code",
   "execution_count": 11,
   "metadata": {},
   "outputs": [
    {
     "data": {
      "text/html": [
       "<div>\n",
       "<style scoped>\n",
       "    .dataframe tbody tr th:only-of-type {\n",
       "        vertical-align: middle;\n",
       "    }\n",
       "\n",
       "    .dataframe tbody tr th {\n",
       "        vertical-align: top;\n",
       "    }\n",
       "\n",
       "    .dataframe thead th {\n",
       "        text-align: right;\n",
       "    }\n",
       "</style>\n",
       "<table border=\"1\" class=\"dataframe\">\n",
       "  <thead>\n",
       "    <tr style=\"text-align: right;\">\n",
       "      <th></th>\n",
       "      <th>[n]</th>\n",
       "      <th>In_Stock</th>\n",
       "    </tr>\n",
       "  </thead>\n",
       "  <tbody>\n",
       "    <tr>\n",
       "      <th>ALL</th>\n",
       "      <td>9</td>\n",
       "      <td>0.666667</td>\n",
       "    </tr>\n",
       "    <tr>\n",
       "      <th>Alpha Co</th>\n",
       "      <td>7</td>\n",
       "      <td>0.714286</td>\n",
       "    </tr>\n",
       "    <tr>\n",
       "      <th>Blue Inc</th>\n",
       "      <td>1</td>\n",
       "      <td>0.000000</td>\n",
       "    </tr>\n",
       "    <tr>\n",
       "      <th>Jones LLC</th>\n",
       "      <td>1</td>\n",
       "      <td>1.000000</td>\n",
       "    </tr>\n",
       "  </tbody>\n",
       "</table>\n",
       "</div>"
      ],
      "text/plain": [
       "           [n]  In_Stock\n",
       "ALL          9  0.666667\n",
       "Alpha Co     7  0.714286\n",
       "Blue Inc     1  0.000000\n",
       "Jones LLC    1  1.000000"
      ]
     },
     "execution_count": 11,
     "metadata": {},
     "output_type": "execute_result"
    }
   ],
   "source": [
    "m = pd.read_pickle(\"summary_data.pkl\")\n",
    "m"
   ]
  },
  {
   "cell_type": "code",
   "execution_count": 12,
   "metadata": {},
   "outputs": [
    {
     "data": {
      "text/html": [
       "<style  type=\"text/css\" >\n",
       "</style><table id=\"T_b9392eb2_9dd5_11e9_ab12_5a50fa8023ef\" ><thead>    <tr>        <th class=\"blank level0\" ></th>        <th class=\"col_heading level0 col0\" >[n]</th>        <th class=\"col_heading level0 col1\" >In_Stock</th>    </tr></thead><tbody>\n",
       "                <tr>\n",
       "                        <th id=\"T_b9392eb2_9dd5_11e9_ab12_5a50fa8023eflevel0_row0\" class=\"row_heading level0 row0\" >ALL</th>\n",
       "                        <td id=\"T_b9392eb2_9dd5_11e9_ab12_5a50fa8023efrow0_col0\" class=\"data row0 col0\" >9</td>\n",
       "                        <td id=\"T_b9392eb2_9dd5_11e9_ab12_5a50fa8023efrow0_col1\" class=\"data row0 col1\" >66.67%</td>\n",
       "            </tr>\n",
       "            <tr>\n",
       "                        <th id=\"T_b9392eb2_9dd5_11e9_ab12_5a50fa8023eflevel0_row1\" class=\"row_heading level0 row1\" >Alpha Co</th>\n",
       "                        <td id=\"T_b9392eb2_9dd5_11e9_ab12_5a50fa8023efrow1_col0\" class=\"data row1 col0\" >7</td>\n",
       "                        <td id=\"T_b9392eb2_9dd5_11e9_ab12_5a50fa8023efrow1_col1\" class=\"data row1 col1\" >71.43%</td>\n",
       "            </tr>\n",
       "            <tr>\n",
       "                        <th id=\"T_b9392eb2_9dd5_11e9_ab12_5a50fa8023eflevel0_row2\" class=\"row_heading level0 row2\" >Blue Inc</th>\n",
       "                        <td id=\"T_b9392eb2_9dd5_11e9_ab12_5a50fa8023efrow2_col0\" class=\"data row2 col0\" >1</td>\n",
       "                        <td id=\"T_b9392eb2_9dd5_11e9_ab12_5a50fa8023efrow2_col1\" class=\"data row2 col1\" >0.00%</td>\n",
       "            </tr>\n",
       "            <tr>\n",
       "                        <th id=\"T_b9392eb2_9dd5_11e9_ab12_5a50fa8023eflevel0_row3\" class=\"row_heading level0 row3\" >Jones LLC</th>\n",
       "                        <td id=\"T_b9392eb2_9dd5_11e9_ab12_5a50fa8023efrow3_col0\" class=\"data row3 col0\" >1</td>\n",
       "                        <td id=\"T_b9392eb2_9dd5_11e9_ab12_5a50fa8023efrow3_col1\" class=\"data row3 col1\" >100.00%</td>\n",
       "            </tr>\n",
       "    </tbody></table>"
      ],
      "text/plain": [
       "<pandas.io.formats.style.Styler at 0x7f2e4a203e48>"
      ]
     },
     "execution_count": 12,
     "metadata": {},
     "output_type": "execute_result"
    }
   ],
   "source": [
    "# This would change the view to be nicer; note the underlying dataframe remains unotuched\n",
    "m_styl = m.style.format(\"{:.2%}\",subset=[('In_Stock')]) # based on https://stackoverflow.com/a/56411982/8508004\n",
    "# and https://pandas.pydata.org/pandas-docs/stable/reference/api/pandas.io.formats.style.Styler.format.html\n",
    "m_styl"
   ]
  },
  {
   "cell_type": "markdown",
   "metadata": {},
   "source": [
    "...or use code to specify column name source..."
   ]
  },
  {
   "cell_type": "code",
   "execution_count": 13,
   "metadata": {},
   "outputs": [
    {
     "data": {
      "text/html": [
       "<style  type=\"text/css\" >\n",
       "</style><table id=\"T_b93f9bbc_9dd5_11e9_ab12_5a50fa8023ef\" ><thead>    <tr>        <th class=\"blank level0\" ></th>        <th class=\"col_heading level0 col0\" >[n]</th>        <th class=\"col_heading level0 col1\" >In_Stock</th>    </tr></thead><tbody>\n",
       "                <tr>\n",
       "                        <th id=\"T_b93f9bbc_9dd5_11e9_ab12_5a50fa8023eflevel0_row0\" class=\"row_heading level0 row0\" >ALL</th>\n",
       "                        <td id=\"T_b93f9bbc_9dd5_11e9_ab12_5a50fa8023efrow0_col0\" class=\"data row0 col0\" >9</td>\n",
       "                        <td id=\"T_b93f9bbc_9dd5_11e9_ab12_5a50fa8023efrow0_col1\" class=\"data row0 col1\" >66.67%</td>\n",
       "            </tr>\n",
       "            <tr>\n",
       "                        <th id=\"T_b93f9bbc_9dd5_11e9_ab12_5a50fa8023eflevel0_row1\" class=\"row_heading level0 row1\" >Alpha Co</th>\n",
       "                        <td id=\"T_b93f9bbc_9dd5_11e9_ab12_5a50fa8023efrow1_col0\" class=\"data row1 col0\" >7</td>\n",
       "                        <td id=\"T_b93f9bbc_9dd5_11e9_ab12_5a50fa8023efrow1_col1\" class=\"data row1 col1\" >71.43%</td>\n",
       "            </tr>\n",
       "            <tr>\n",
       "                        <th id=\"T_b93f9bbc_9dd5_11e9_ab12_5a50fa8023eflevel0_row2\" class=\"row_heading level0 row2\" >Blue Inc</th>\n",
       "                        <td id=\"T_b93f9bbc_9dd5_11e9_ab12_5a50fa8023efrow2_col0\" class=\"data row2 col0\" >1</td>\n",
       "                        <td id=\"T_b93f9bbc_9dd5_11e9_ab12_5a50fa8023efrow2_col1\" class=\"data row2 col1\" >0.00%</td>\n",
       "            </tr>\n",
       "            <tr>\n",
       "                        <th id=\"T_b93f9bbc_9dd5_11e9_ab12_5a50fa8023eflevel0_row3\" class=\"row_heading level0 row3\" >Jones LLC</th>\n",
       "                        <td id=\"T_b93f9bbc_9dd5_11e9_ab12_5a50fa8023efrow3_col0\" class=\"data row3 col0\" >1</td>\n",
       "                        <td id=\"T_b93f9bbc_9dd5_11e9_ab12_5a50fa8023efrow3_col1\" class=\"data row3 col1\" >100.00%</td>\n",
       "            </tr>\n",
       "    </tbody></table>"
      ],
      "text/plain": [
       "<pandas.io.formats.style.Styler at 0x7f2e492cc128>"
      ]
     },
     "execution_count": 13,
     "metadata": {},
     "output_type": "execute_result"
    }
   ],
   "source": [
    "# This would change the view to be nicer; note the underlying dataframe remains unotuched\n",
    "m_styl = m.style.format(\"{:.2%}\",subset=m.columns[1:]) # based on https://stackoverflow.com/a/56411982/8508004\n",
    "# and https://pandas.pydata.org/pandas-docs/stable/reference/api/pandas.io.formats.style.Styler.format.html\n",
    "m_styl"
   ]
  },
  {
   "cell_type": "markdown",
   "metadata": {},
   "source": [
    "**Put the counts in brackets after the percent**\n",
    "\n",
    "Another optional flag for when calling the script is `--bracket_counts`, abbreivated `-bc`, to move the counts for each state / subgroup to be inside brackets following the percent. Note that this is simply meant for making better, succint summaries for presentations because it actually combines two represenations in a single cell which isn't straighforward to use for subsequent analysis. And in fact it returns a simpler version with the numbers still as numbers in separate *in addition* to highlight that and still provide for working with the data further."
   ]
  },
  {
   "cell_type": "code",
   "execution_count": 14,
   "metadata": {},
   "outputs": [
    {
     "name": "stderr",
     "output_type": "stream",
     "text": [
      "Summary dataframe saved as a text table easily opened in\n",
      "different software; file named: `summary_data.tsv`. This version meant for presenation only.\n",
      "\n",
      "Summary dataframe saved in pickled form for ease of use within\n",
      "Python; file named: `summary_data.pkl`. This version meant for\n",
      "presentation only.\n",
      "\n",
      "\n",
      "**Also saving data table as forms easier to handle for subsequent steps:**\n",
      "Summary dataframe saved as a text table easily opened in\n",
      "different software; file named: `summary_basic_data.tsv`\n",
      "\n",
      "Summary dataframe saved in pickled form for ease of use within\n",
      "Python; file named: `summary_basic_data.pkl`. This will retain the column headers/names formatting best."
     ]
    }
   ],
   "source": [
    "%run df_binary_states2summary_df.py data.pkl Manufacturer In_Stock yes --bracket_counts"
   ]
  },
  {
   "cell_type": "markdown",
   "metadata": {},
   "source": [
    "Note the exta feedback about the more basic version of the summary also being returned.\n",
    "\n",
    "Let's look at the more summarized version."
   ]
  },
  {
   "cell_type": "code",
   "execution_count": 15,
   "metadata": {},
   "outputs": [
    {
     "data": {
      "text/html": [
       "<div>\n",
       "<style scoped>\n",
       "    .dataframe tbody tr th:only-of-type {\n",
       "        vertical-align: middle;\n",
       "    }\n",
       "\n",
       "    .dataframe tbody tr th {\n",
       "        vertical-align: top;\n",
       "    }\n",
       "\n",
       "    .dataframe thead th {\n",
       "        text-align: right;\n",
       "    }\n",
       "</style>\n",
       "<table border=\"1\" class=\"dataframe\">\n",
       "  <thead>\n",
       "    <tr style=\"text-align: right;\">\n",
       "      <th></th>\n",
       "      <th>[n]</th>\n",
       "      <th>In_Stock</th>\n",
       "    </tr>\n",
       "  </thead>\n",
       "  <tbody>\n",
       "    <tr>\n",
       "      <th>ALL</th>\n",
       "      <td>9</td>\n",
       "      <td>66.67% [6]</td>\n",
       "    </tr>\n",
       "    <tr>\n",
       "      <th>Alpha Co</th>\n",
       "      <td>7</td>\n",
       "      <td>71.43% [5]</td>\n",
       "    </tr>\n",
       "    <tr>\n",
       "      <th>Blue Inc</th>\n",
       "      <td>1</td>\n",
       "      <td>0.00% [0]</td>\n",
       "    </tr>\n",
       "    <tr>\n",
       "      <th>Jones LLC</th>\n",
       "      <td>1</td>\n",
       "      <td>100.00% [1]</td>\n",
       "    </tr>\n",
       "  </tbody>\n",
       "</table>\n",
       "</div>"
      ],
      "text/plain": [
       "           [n]     In_Stock\n",
       "ALL          9   66.67% [6]\n",
       "Alpha Co     7   71.43% [5]\n",
       "Blue Inc     1    0.00% [0]\n",
       "Jones LLC    1  100.00% [1]"
      ]
     },
     "execution_count": 15,
     "metadata": {},
     "output_type": "execute_result"
    }
   ],
   "source": [
    "bc = pd.read_pickle(\"summary_data.pkl\")\n",
    "bc"
   ]
  },
  {
   "cell_type": "markdown",
   "metadata": {},
   "source": [
    "However, note in addition to the one made for presentation there is the other produced by the single script execution as well:"
   ]
  },
  {
   "cell_type": "code",
   "execution_count": 16,
   "metadata": {},
   "outputs": [
    {
     "data": {
      "text/html": [
       "<div>\n",
       "<style scoped>\n",
       "    .dataframe tbody tr th:only-of-type {\n",
       "        vertical-align: middle;\n",
       "    }\n",
       "\n",
       "    .dataframe tbody tr th {\n",
       "        vertical-align: top;\n",
       "    }\n",
       "\n",
       "    .dataframe thead tr th {\n",
       "        text-align: left;\n",
       "    }\n",
       "</style>\n",
       "<table border=\"1\" class=\"dataframe\">\n",
       "  <thead>\n",
       "    <tr>\n",
       "      <th></th>\n",
       "      <th></th>\n",
       "      <th colspan=\"2\" halign=\"left\">yes</th>\n",
       "    </tr>\n",
       "    <tr>\n",
       "      <th></th>\n",
       "      <th>[n]</th>\n",
       "      <th>count</th>\n",
       "      <th>ratio</th>\n",
       "    </tr>\n",
       "  </thead>\n",
       "  <tbody>\n",
       "    <tr>\n",
       "      <th>ALL</th>\n",
       "      <td>9</td>\n",
       "      <td>6</td>\n",
       "      <td>0.666667</td>\n",
       "    </tr>\n",
       "    <tr>\n",
       "      <th>Alpha Co</th>\n",
       "      <td>7</td>\n",
       "      <td>5</td>\n",
       "      <td>0.714286</td>\n",
       "    </tr>\n",
       "    <tr>\n",
       "      <th>Blue Inc</th>\n",
       "      <td>1</td>\n",
       "      <td>0</td>\n",
       "      <td>0.000000</td>\n",
       "    </tr>\n",
       "    <tr>\n",
       "      <th>Jones LLC</th>\n",
       "      <td>1</td>\n",
       "      <td>1</td>\n",
       "      <td>1.000000</td>\n",
       "    </tr>\n",
       "  </tbody>\n",
       "</table>\n",
       "</div>"
      ],
      "text/plain": [
       "                yes          \n",
       "          [n] count     ratio\n",
       "ALL         9     6  0.666667\n",
       "Alpha Co    7     5  0.714286\n",
       "Blue Inc    1     0  0.000000\n",
       "Jones LLC   1     1  1.000000"
      ]
     },
     "execution_count": 16,
     "metadata": {},
     "output_type": "execute_result"
    }
   ],
   "source": [
    "mb = pd.read_pickle(\"summary_basic_data.pkl\")\n",
    "mb"
   ]
  },
  {
   "cell_type": "markdown",
   "metadata": {},
   "source": [
    "Additional customization of naming of the output files is possible simply editing settings under the 'USER ADJUSTABLE VALUES' section in the script code file.\n",
    "\n",
    "\n",
    "----"
   ]
  },
  {
   "cell_type": "markdown",
   "metadata": {},
   "source": [
    "## Use script in a Jupyter or IPython by calling the main function\n",
    "\n",
    "This will demonstrate importing the main function into a Jupyer environment or IPython console.\n",
    "\n",
    "Note that it gives you a few more options because it exposes more control, such as allowing you to specify an order for when the column names actually include spaces.\n",
    "\n",
    "First, we'll use the files for the dataframe and tabular text saved earlier in the example. After that will move on to not using files and instead use Python objects that are in the memory of the notebook. No need for file intermediates is one of the advantages of using the main function of the script this way.\n",
    "\n",
    "We will need to import the main function of the script to be active in the running notebook environment. (There is no harm to running it again even if already run in earlier sections.)"
   ]
  },
  {
   "cell_type": "code",
   "execution_count": 17,
   "metadata": {},
   "outputs": [],
   "source": [
    "from df_binary_states2summary_df import df_binary_states2summary_df"
   ]
  },
  {
   "cell_type": "markdown",
   "metadata": {},
   "source": [
    "Now to try using that with the files from earlier in the demonstration.\n",
    "\n",
    "First, we'll use the tab-separated table.\n",
    "\n",
    "It is very similar to using the script from the command line. Here, though we have to specify the input type as file or an in-memory dataframe when we call the function. Provide a file name for `df_file` for using a data file as input. Then specify the colum with the binary data and the column to use in grouping like the following. The one state to feature as displayed has to be provided. These have to be provided as Python strings."
   ]
  },
  {
   "cell_type": "code",
   "execution_count": 18,
   "metadata": {},
   "outputs": [
    {
     "name": "stderr",
     "output_type": "stream",
     "text": [
      "Summary dataframe returned."
     ]
    }
   ],
   "source": [
    "sum_df = df_binary_states2summary_df(df_file=\"data.tsv\",groups_col=\"Manufacturer\", states_col=\"In_Stock\", display_state=\"yes\");"
   ]
  },
  {
   "cell_type": "markdown",
   "metadata": {},
   "source": [
    "Let's view the returned dataframe."
   ]
  },
  {
   "cell_type": "code",
   "execution_count": 19,
   "metadata": {},
   "outputs": [
    {
     "data": {
      "text/html": [
       "<div>\n",
       "<style scoped>\n",
       "    .dataframe tbody tr th:only-of-type {\n",
       "        vertical-align: middle;\n",
       "    }\n",
       "\n",
       "    .dataframe tbody tr th {\n",
       "        vertical-align: top;\n",
       "    }\n",
       "\n",
       "    .dataframe thead tr th {\n",
       "        text-align: left;\n",
       "    }\n",
       "</style>\n",
       "<table border=\"1\" class=\"dataframe\">\n",
       "  <thead>\n",
       "    <tr>\n",
       "      <th></th>\n",
       "      <th></th>\n",
       "      <th colspan=\"2\" halign=\"left\">yes</th>\n",
       "    </tr>\n",
       "    <tr>\n",
       "      <th></th>\n",
       "      <th>[n]</th>\n",
       "      <th>count</th>\n",
       "      <th>ratio</th>\n",
       "    </tr>\n",
       "  </thead>\n",
       "  <tbody>\n",
       "    <tr>\n",
       "      <th>ALL</th>\n",
       "      <td>9</td>\n",
       "      <td>6</td>\n",
       "      <td>0.666667</td>\n",
       "    </tr>\n",
       "    <tr>\n",
       "      <th>Alpha Co</th>\n",
       "      <td>7</td>\n",
       "      <td>5</td>\n",
       "      <td>0.714286</td>\n",
       "    </tr>\n",
       "    <tr>\n",
       "      <th>Blue Inc</th>\n",
       "      <td>1</td>\n",
       "      <td>0</td>\n",
       "      <td>0.000000</td>\n",
       "    </tr>\n",
       "    <tr>\n",
       "      <th>Jones LLC</th>\n",
       "      <td>1</td>\n",
       "      <td>1</td>\n",
       "      <td>1.000000</td>\n",
       "    </tr>\n",
       "  </tbody>\n",
       "</table>\n",
       "</div>"
      ],
      "text/plain": [
       "                yes          \n",
       "          [n] count     ratio\n",
       "ALL         9     6  0.666667\n",
       "Alpha Co    7     5  0.714286\n",
       "Blue Inc    1     0  0.000000\n",
       "Jones LLC   1     1  1.000000"
      ]
     },
     "execution_count": 19,
     "metadata": {},
     "output_type": "execute_result"
    }
   ],
   "source": [
    "sum_df"
   ]
  },
  {
   "cell_type": "markdown",
   "metadata": {},
   "source": [
    "However, the function can also take an in-memory dataframe directly. Let's next see a demonstration of that. \n",
    "\n",
    "To be sure a dataframe is in memory, we'll read in one from the file saved earlier.  \n",
    "You may note that this step is redundant if you are running all these cells in order, and the one made earlier is in memory still; however, I want to be sure all is on the same page before the next steps while emphasizing here the switch from using a file as data to something in the memory of the current notebook."
   ]
  },
  {
   "cell_type": "code",
   "execution_count": 20,
   "metadata": {},
   "outputs": [],
   "source": [
    "df = pd.read_pickle(\"data.pkl\")"
   ]
  },
  {
   "cell_type": "markdown",
   "metadata": {},
   "source": [
    "We can look at the start of that dataframe to verify it is in memory now."
   ]
  },
  {
   "cell_type": "code",
   "execution_count": 21,
   "metadata": {},
   "outputs": [
    {
     "data": {
      "text/html": [
       "<div>\n",
       "<style scoped>\n",
       "    .dataframe tbody tr th:only-of-type {\n",
       "        vertical-align: middle;\n",
       "    }\n",
       "\n",
       "    .dataframe tbody tr th {\n",
       "        vertical-align: top;\n",
       "    }\n",
       "\n",
       "    .dataframe thead th {\n",
       "        text-align: right;\n",
       "    }\n",
       "</style>\n",
       "<table border=\"1\" class=\"dataframe\">\n",
       "  <thead>\n",
       "    <tr style=\"text-align: right;\">\n",
       "      <th></th>\n",
       "      <th>Manufacturer</th>\n",
       "      <th>Item</th>\n",
       "      <th>In_Stock</th>\n",
       "    </tr>\n",
       "  </thead>\n",
       "  <tbody>\n",
       "    <tr>\n",
       "      <th>0</th>\n",
       "      <td>Jones LLC</td>\n",
       "      <td>177887</td>\n",
       "      <td>yes</td>\n",
       "    </tr>\n",
       "    <tr>\n",
       "      <th>1</th>\n",
       "      <td>Alpha Co</td>\n",
       "      <td>157987</td>\n",
       "      <td>yes</td>\n",
       "    </tr>\n",
       "    <tr>\n",
       "      <th>2</th>\n",
       "      <td>Alpha Co</td>\n",
       "      <td>158981</td>\n",
       "      <td>yes</td>\n",
       "    </tr>\n",
       "    <tr>\n",
       "      <th>3</th>\n",
       "      <td>Alpha Co</td>\n",
       "      <td>159983</td>\n",
       "      <td>yes</td>\n",
       "    </tr>\n",
       "    <tr>\n",
       "      <th>4</th>\n",
       "      <td>Alpha Co</td>\n",
       "      <td>167987</td>\n",
       "      <td>yes</td>\n",
       "    </tr>\n",
       "  </tbody>\n",
       "</table>\n",
       "</div>"
      ],
      "text/plain": [
       "  Manufacturer    Item In_Stock\n",
       "0    Jones LLC  177887      yes\n",
       "1     Alpha Co  157987      yes\n",
       "2     Alpha Co  158981      yes\n",
       "3     Alpha Co  159983      yes\n",
       "4     Alpha Co  167987      yes"
      ]
     },
     "execution_count": 21,
     "metadata": {},
     "output_type": "execute_result"
    }
   ],
   "source": [
    "df.head()"
   ]
  },
  {
   "cell_type": "code",
   "execution_count": 22,
   "metadata": {},
   "outputs": [
    {
     "name": "stderr",
     "output_type": "stream",
     "text": [
      "Summary dataframe returned."
     ]
    },
    {
     "data": {
      "text/html": [
       "<div>\n",
       "<style scoped>\n",
       "    .dataframe tbody tr th:only-of-type {\n",
       "        vertical-align: middle;\n",
       "    }\n",
       "\n",
       "    .dataframe tbody tr th {\n",
       "        vertical-align: top;\n",
       "    }\n",
       "\n",
       "    .dataframe thead tr th {\n",
       "        text-align: left;\n",
       "    }\n",
       "</style>\n",
       "<table border=\"1\" class=\"dataframe\">\n",
       "  <thead>\n",
       "    <tr>\n",
       "      <th></th>\n",
       "      <th></th>\n",
       "      <th colspan=\"2\" halign=\"left\">yes</th>\n",
       "    </tr>\n",
       "    <tr>\n",
       "      <th></th>\n",
       "      <th>[n]</th>\n",
       "      <th>count</th>\n",
       "      <th>ratio</th>\n",
       "    </tr>\n",
       "  </thead>\n",
       "  <tbody>\n",
       "    <tr>\n",
       "      <th>ALL</th>\n",
       "      <td>9</td>\n",
       "      <td>6</td>\n",
       "      <td>0.666667</td>\n",
       "    </tr>\n",
       "    <tr>\n",
       "      <th>Alpha Co</th>\n",
       "      <td>7</td>\n",
       "      <td>5</td>\n",
       "      <td>0.714286</td>\n",
       "    </tr>\n",
       "    <tr>\n",
       "      <th>Blue Inc</th>\n",
       "      <td>1</td>\n",
       "      <td>0</td>\n",
       "      <td>0.000000</td>\n",
       "    </tr>\n",
       "    <tr>\n",
       "      <th>Jones LLC</th>\n",
       "      <td>1</td>\n",
       "      <td>1</td>\n",
       "      <td>1.000000</td>\n",
       "    </tr>\n",
       "  </tbody>\n",
       "</table>\n",
       "</div>"
      ],
      "text/plain": [
       "                yes          \n",
       "          [n] count     ratio\n",
       "ALL         9     6  0.666667\n",
       "Alpha Co    7     5  0.714286\n",
       "Blue Inc    1     0  0.000000\n",
       "Jones LLC   1     1  1.000000"
      ]
     },
     "execution_count": 22,
     "metadata": {},
     "output_type": "execute_result"
    }
   ],
   "source": [
    "sum_df = df_binary_states2summary_df(df=df,groups_col=\"Manufacturer\", states_col=\"In_Stock\", display_state=\"yes\");\n",
    "sum_df"
   ]
  },
  {
   "cell_type": "markdown",
   "metadata": {},
   "source": [
    "The output from using the main function can be viewed and formatted just as when using the script from the equivalent of the command line."
   ]
  },
  {
   "cell_type": "code",
   "execution_count": 23,
   "metadata": {},
   "outputs": [
    {
     "data": {
      "text/html": [
       "<style  type=\"text/css\" >\n",
       "</style><table id=\"T_b9742454_9dd5_11e9_ab12_5a50fa8023ef\" ><thead>    <tr>        <th class=\"blank level0\" ></th>        <th class=\"col_heading level0 col0\" ></th>        <th class=\"col_heading level0 col1\" colspan=2>yes</th>    </tr>    <tr>        <th class=\"blank level1\" ></th>        <th class=\"col_heading level1 col0\" >[n]</th>        <th class=\"col_heading level1 col1\" >count</th>        <th class=\"col_heading level1 col2\" >%</th>    </tr></thead><tbody>\n",
       "                <tr>\n",
       "                        <th id=\"T_b9742454_9dd5_11e9_ab12_5a50fa8023eflevel0_row0\" class=\"row_heading level0 row0\" >ALL</th>\n",
       "                        <td id=\"T_b9742454_9dd5_11e9_ab12_5a50fa8023efrow0_col0\" class=\"data row0 col0\" >9</td>\n",
       "                        <td id=\"T_b9742454_9dd5_11e9_ab12_5a50fa8023efrow0_col1\" class=\"data row0 col1\" >6</td>\n",
       "                        <td id=\"T_b9742454_9dd5_11e9_ab12_5a50fa8023efrow0_col2\" class=\"data row0 col2\" >66.67%</td>\n",
       "            </tr>\n",
       "            <tr>\n",
       "                        <th id=\"T_b9742454_9dd5_11e9_ab12_5a50fa8023eflevel0_row1\" class=\"row_heading level0 row1\" >Alpha Co</th>\n",
       "                        <td id=\"T_b9742454_9dd5_11e9_ab12_5a50fa8023efrow1_col0\" class=\"data row1 col0\" >7</td>\n",
       "                        <td id=\"T_b9742454_9dd5_11e9_ab12_5a50fa8023efrow1_col1\" class=\"data row1 col1\" >5</td>\n",
       "                        <td id=\"T_b9742454_9dd5_11e9_ab12_5a50fa8023efrow1_col2\" class=\"data row1 col2\" >71.43%</td>\n",
       "            </tr>\n",
       "            <tr>\n",
       "                        <th id=\"T_b9742454_9dd5_11e9_ab12_5a50fa8023eflevel0_row2\" class=\"row_heading level0 row2\" >Blue Inc</th>\n",
       "                        <td id=\"T_b9742454_9dd5_11e9_ab12_5a50fa8023efrow2_col0\" class=\"data row2 col0\" >1</td>\n",
       "                        <td id=\"T_b9742454_9dd5_11e9_ab12_5a50fa8023efrow2_col1\" class=\"data row2 col1\" >0</td>\n",
       "                        <td id=\"T_b9742454_9dd5_11e9_ab12_5a50fa8023efrow2_col2\" class=\"data row2 col2\" >0.00%</td>\n",
       "            </tr>\n",
       "            <tr>\n",
       "                        <th id=\"T_b9742454_9dd5_11e9_ab12_5a50fa8023eflevel0_row3\" class=\"row_heading level0 row3\" >Jones LLC</th>\n",
       "                        <td id=\"T_b9742454_9dd5_11e9_ab12_5a50fa8023efrow3_col0\" class=\"data row3 col0\" >1</td>\n",
       "                        <td id=\"T_b9742454_9dd5_11e9_ab12_5a50fa8023efrow3_col1\" class=\"data row3 col1\" >1</td>\n",
       "                        <td id=\"T_b9742454_9dd5_11e9_ab12_5a50fa8023efrow3_col2\" class=\"data row3 col2\" >100.00%</td>\n",
       "            </tr>\n",
       "    </tbody></table>"
      ],
      "text/plain": [
       "<pandas.io.formats.style.Styler at 0x7f2e67aa86a0>"
      ]
     },
     "execution_count": 23,
     "metadata": {},
     "output_type": "execute_result"
    }
   ],
   "source": [
    "# This would change the view to be nicer; note the underlying dataframe remains unotuched\n",
    "ou = sum_df.set_axis(sum_df.columns.set_levels(\n",
    "    [sum_df.columns.levels[0],['%' if x == 'ratio' else x for x in sum_df.columns.levels[1]]]), axis=1, inplace=False) # based on https://stackoverflow.com/a/38626145/8508004\n",
    "sum_df_styl = ou.style.format(\"{:.2%}\",subset=[('yes','%')]) # based on https://stackoverflow.com/a/56411982/8508004\n",
    "# and https://pandas.pydata.org/pandas-docs/stable/reference/api/pandas.io.formats.style.Styler.format.html\n",
    "sum_df_styl"
   ]
  },
  {
   "cell_type": "markdown",
   "metadata": {},
   "source": [
    "Just as with calling the command line version, there are number of additional arguments that can be specified to control the output. The rest of this section will illustrate those."
   ]
  },
  {
   "cell_type": "markdown",
   "metadata": {},
   "source": [
    "**Leave only the states / subgroups ratio**\n",
    "\n",
    "Another optional setting to specify when calling the function is to assign `only_subgrp_perc` as `True` to remove the counts for each state / subgroup to just leave the ratio accounting for each state subgroup. \n",
    "It defaults to `False` if not specified."
   ]
  },
  {
   "cell_type": "code",
   "execution_count": 24,
   "metadata": {},
   "outputs": [
    {
     "name": "stderr",
     "output_type": "stream",
     "text": [
      "Summary dataframe returned."
     ]
    },
    {
     "data": {
      "text/html": [
       "<div>\n",
       "<style scoped>\n",
       "    .dataframe tbody tr th:only-of-type {\n",
       "        vertical-align: middle;\n",
       "    }\n",
       "\n",
       "    .dataframe tbody tr th {\n",
       "        vertical-align: top;\n",
       "    }\n",
       "\n",
       "    .dataframe thead th {\n",
       "        text-align: right;\n",
       "    }\n",
       "</style>\n",
       "<table border=\"1\" class=\"dataframe\">\n",
       "  <thead>\n",
       "    <tr style=\"text-align: right;\">\n",
       "      <th></th>\n",
       "      <th>[n]</th>\n",
       "      <th>In_Stock</th>\n",
       "    </tr>\n",
       "  </thead>\n",
       "  <tbody>\n",
       "    <tr>\n",
       "      <th>ALL</th>\n",
       "      <td>9</td>\n",
       "      <td>0.666667</td>\n",
       "    </tr>\n",
       "    <tr>\n",
       "      <th>Alpha Co</th>\n",
       "      <td>7</td>\n",
       "      <td>0.714286</td>\n",
       "    </tr>\n",
       "    <tr>\n",
       "      <th>Blue Inc</th>\n",
       "      <td>1</td>\n",
       "      <td>0.000000</td>\n",
       "    </tr>\n",
       "    <tr>\n",
       "      <th>Jones LLC</th>\n",
       "      <td>1</td>\n",
       "      <td>1.000000</td>\n",
       "    </tr>\n",
       "  </tbody>\n",
       "</table>\n",
       "</div>"
      ],
      "text/plain": [
       "           [n]  In_Stock\n",
       "ALL          9  0.666667\n",
       "Alpha Co     7  0.714286\n",
       "Blue Inc     1  0.000000\n",
       "Jones LLC    1  1.000000"
      ]
     },
     "execution_count": 24,
     "metadata": {},
     "output_type": "execute_result"
    }
   ],
   "source": [
    "psum_df = df_binary_states2summary_df(df=df,groups_col=\"Manufacturer\", states_col=\"In_Stock\", display_state=\"yes\", only_subgrp_ratio=True);\n",
    "psum_df"
   ]
  },
  {
   "cell_type": "code",
   "execution_count": 25,
   "metadata": {},
   "outputs": [
    {
     "data": {
      "text/html": [
       "<style  type=\"text/css\" >\n",
       "</style><table id=\"T_b981aa84_9dd5_11e9_ab12_5a50fa8023ef\" ><thead>    <tr>        <th class=\"blank level0\" ></th>        <th class=\"col_heading level0 col0\" >[n]</th>        <th class=\"col_heading level0 col1\" >In_Stock</th>    </tr></thead><tbody>\n",
       "                <tr>\n",
       "                        <th id=\"T_b981aa84_9dd5_11e9_ab12_5a50fa8023eflevel0_row0\" class=\"row_heading level0 row0\" >ALL</th>\n",
       "                        <td id=\"T_b981aa84_9dd5_11e9_ab12_5a50fa8023efrow0_col0\" class=\"data row0 col0\" >9</td>\n",
       "                        <td id=\"T_b981aa84_9dd5_11e9_ab12_5a50fa8023efrow0_col1\" class=\"data row0 col1\" >66.67%</td>\n",
       "            </tr>\n",
       "            <tr>\n",
       "                        <th id=\"T_b981aa84_9dd5_11e9_ab12_5a50fa8023eflevel0_row1\" class=\"row_heading level0 row1\" >Alpha Co</th>\n",
       "                        <td id=\"T_b981aa84_9dd5_11e9_ab12_5a50fa8023efrow1_col0\" class=\"data row1 col0\" >7</td>\n",
       "                        <td id=\"T_b981aa84_9dd5_11e9_ab12_5a50fa8023efrow1_col1\" class=\"data row1 col1\" >71.43%</td>\n",
       "            </tr>\n",
       "            <tr>\n",
       "                        <th id=\"T_b981aa84_9dd5_11e9_ab12_5a50fa8023eflevel0_row2\" class=\"row_heading level0 row2\" >Blue Inc</th>\n",
       "                        <td id=\"T_b981aa84_9dd5_11e9_ab12_5a50fa8023efrow2_col0\" class=\"data row2 col0\" >1</td>\n",
       "                        <td id=\"T_b981aa84_9dd5_11e9_ab12_5a50fa8023efrow2_col1\" class=\"data row2 col1\" >0.00%</td>\n",
       "            </tr>\n",
       "            <tr>\n",
       "                        <th id=\"T_b981aa84_9dd5_11e9_ab12_5a50fa8023eflevel0_row3\" class=\"row_heading level0 row3\" >Jones LLC</th>\n",
       "                        <td id=\"T_b981aa84_9dd5_11e9_ab12_5a50fa8023efrow3_col0\" class=\"data row3 col0\" >1</td>\n",
       "                        <td id=\"T_b981aa84_9dd5_11e9_ab12_5a50fa8023efrow3_col1\" class=\"data row3 col1\" >100.00%</td>\n",
       "            </tr>\n",
       "    </tbody></table>"
      ],
      "text/plain": [
       "<pandas.io.formats.style.Styler at 0x7f2e67aa8978>"
      ]
     },
     "execution_count": 25,
     "metadata": {},
     "output_type": "execute_result"
    }
   ],
   "source": [
    "# This would change the view to be nicer; note the underlying dataframe remains unotuched\n",
    "psum_df_styl = psum_df.style.format(\"{:.2%}\",subset=psum_df.columns[1:])\n",
    "psum_df_styl"
   ]
  },
  {
   "cell_type": "markdown",
   "metadata": {},
   "source": [
    "**Put the counts in brackets after the percent**\n",
    "\n",
    "Another optional setting to specify when calling the function is to assign `bracket_counts` as `True` to move the counts for each state / subgroup to be inside brackets following the percent.  Note that this is simply meant for making better, succint summaries for presentations because it actually combines two represenations in a single cell which isn't straighforward to use for subsequent analysis. And in fact it returns a simpler version with the numbers still as numbers in separate *in addition* to highlight that and still provide for working with the data further.  \n",
    "It defaults to `False` if not specified.\n",
    "**Be aware this returns two dataframes.**"
   ]
  },
  {
   "cell_type": "code",
   "execution_count": 26,
   "metadata": {},
   "outputs": [
    {
     "name": "stderr",
     "output_type": "stream",
     "text": [
      "Summary dataframes returned. First is for presentation only with percent and counts as text in a single cell; second returned is basics with counts and percent data as integer and floats, respectively."
     ]
    },
    {
     "data": {
      "text/html": [
       "<div>\n",
       "<style scoped>\n",
       "    .dataframe tbody tr th:only-of-type {\n",
       "        vertical-align: middle;\n",
       "    }\n",
       "\n",
       "    .dataframe tbody tr th {\n",
       "        vertical-align: top;\n",
       "    }\n",
       "\n",
       "    .dataframe thead th {\n",
       "        text-align: right;\n",
       "    }\n",
       "</style>\n",
       "<table border=\"1\" class=\"dataframe\">\n",
       "  <thead>\n",
       "    <tr style=\"text-align: right;\">\n",
       "      <th></th>\n",
       "      <th>[n]</th>\n",
       "      <th>In_Stock</th>\n",
       "    </tr>\n",
       "  </thead>\n",
       "  <tbody>\n",
       "    <tr>\n",
       "      <th>ALL</th>\n",
       "      <td>9</td>\n",
       "      <td>66.67% [6]</td>\n",
       "    </tr>\n",
       "    <tr>\n",
       "      <th>Alpha Co</th>\n",
       "      <td>7</td>\n",
       "      <td>71.43% [5]</td>\n",
       "    </tr>\n",
       "    <tr>\n",
       "      <th>Blue Inc</th>\n",
       "      <td>1</td>\n",
       "      <td>0.00% [0]</td>\n",
       "    </tr>\n",
       "    <tr>\n",
       "      <th>Jones LLC</th>\n",
       "      <td>1</td>\n",
       "      <td>100.00% [1]</td>\n",
       "    </tr>\n",
       "  </tbody>\n",
       "</table>\n",
       "</div>"
      ],
      "text/plain": [
       "           [n]     In_Stock\n",
       "ALL          9   66.67% [6]\n",
       "Alpha Co     7   71.43% [5]\n",
       "Blue Inc     1    0.00% [0]\n",
       "Jones LLC    1  100.00% [1]"
      ]
     },
     "execution_count": 26,
     "metadata": {},
     "output_type": "execute_result"
    }
   ],
   "source": [
    "bcsum_df,basic_df = df_binary_states2summary_df(df=df,groups_col=\"Manufacturer\", states_col=\"In_Stock\", display_state=\"yes\",bracket_counts=True);\n",
    "bcsum_df"
   ]
  },
  {
   "cell_type": "markdown",
   "metadata": {},
   "source": [
    "Because that one is great for presentation but not for processing numbers further, there is another returned at the same time. This is more like the simple result normally returned. You would use that to work further with the data.  \n",
    "The other one returned with the use of the function above is shown next just for the sake of clarity here:"
   ]
  },
  {
   "cell_type": "code",
   "execution_count": 27,
   "metadata": {},
   "outputs": [
    {
     "data": {
      "text/html": [
       "<div>\n",
       "<style scoped>\n",
       "    .dataframe tbody tr th:only-of-type {\n",
       "        vertical-align: middle;\n",
       "    }\n",
       "\n",
       "    .dataframe tbody tr th {\n",
       "        vertical-align: top;\n",
       "    }\n",
       "\n",
       "    .dataframe thead tr th {\n",
       "        text-align: left;\n",
       "    }\n",
       "</style>\n",
       "<table border=\"1\" class=\"dataframe\">\n",
       "  <thead>\n",
       "    <tr>\n",
       "      <th></th>\n",
       "      <th></th>\n",
       "      <th colspan=\"2\" halign=\"left\">yes</th>\n",
       "    </tr>\n",
       "    <tr>\n",
       "      <th></th>\n",
       "      <th>[n]</th>\n",
       "      <th>count</th>\n",
       "      <th>ratio</th>\n",
       "    </tr>\n",
       "  </thead>\n",
       "  <tbody>\n",
       "    <tr>\n",
       "      <th>ALL</th>\n",
       "      <td>9</td>\n",
       "      <td>6</td>\n",
       "      <td>0.666667</td>\n",
       "    </tr>\n",
       "    <tr>\n",
       "      <th>Alpha Co</th>\n",
       "      <td>7</td>\n",
       "      <td>5</td>\n",
       "      <td>0.714286</td>\n",
       "    </tr>\n",
       "    <tr>\n",
       "      <th>Blue Inc</th>\n",
       "      <td>1</td>\n",
       "      <td>0</td>\n",
       "      <td>0.000000</td>\n",
       "    </tr>\n",
       "    <tr>\n",
       "      <th>Jones LLC</th>\n",
       "      <td>1</td>\n",
       "      <td>1</td>\n",
       "      <td>1.000000</td>\n",
       "    </tr>\n",
       "  </tbody>\n",
       "</table>\n",
       "</div>"
      ],
      "text/plain": [
       "                yes          \n",
       "          [n] count     ratio\n",
       "ALL         9     6  0.666667\n",
       "Alpha Co    7     5  0.714286\n",
       "Blue Inc    1     0  0.000000\n",
       "Jones LLC   1     1  1.000000"
      ]
     },
     "execution_count": 27,
     "metadata": {},
     "output_type": "execute_result"
    }
   ],
   "source": [
    "basic_df"
   ]
  },
  {
   "cell_type": "markdown",
   "metadata": {},
   "source": [
    "-----\n",
    "\n",
    "## Plug for donut plots for complementing these summaries\n",
    "\n",
    "I made some visual plotting scripts and functions that can complement these uses of `df_subgroups_states2summary_df`. A demo is in the next cell using the same starting dataframe as input. This example uses the main function of one of these scripts; however, each script can be used from the command line as well."
   ]
  },
  {
   "cell_type": "code",
   "execution_count": 28,
   "metadata": {},
   "outputs": [
    {
     "name": "stdout",
     "output_type": "stream",
     "text": [
      "  % Total    % Received % Xferd  Average Speed   Time    Time     Time  Current\n",
      "                                 Dload  Upload   Total   Spent    Left  Speed\n",
      "100 36714  100 36714    0     0   177k      0 --:--:-- --:--:-- --:--:--  177k\n"
     ]
    },
    {
     "name": "stderr",
     "output_type": "stream",
     "text": [
      "Plot figure object returned."
     ]
    },
    {
     "data": {
      "image/png": "[encoded data removed]",
      "text/plain": [
       "<Figure size 1158.48x342 with 2 Axes>"
      ]
     },
     "metadata": {},
     "output_type": "display_data"
    }
   ],
   "source": [
    "import os\n",
    "file_needed = \"donut_plot_with_total_binary_summary_and_binary_state_subgroups.py\"\n",
    "if not os.path.isfile(file_needed):\n",
    "    !curl -OL https://raw.githubusercontent.com/fomightez/donut_plots_with_subgroups/master/donut_plot_with_total_binary_summary_and_binary_state_subgroups.py\n",
    "from donut_plot_with_total_binary_summary_and_binary_state_subgroups import donut_plot_with_total_binary_summary_and_binary_state_subgroups\n",
    "p = donut_plot_with_total_binary_summary_and_binary_state_subgroups(df=df,binary_state_col =\"In_Stock\",grouping_col=\"Manufacturer\", hilolist=[\"yes\", \"no\"]);"
   ]
  },
  {
   "cell_type": "markdown",
   "metadata": {},
   "source": [
    "That is just a small example of the possibilities. There are other options for that script/function and related scripts as well.  \n",
    "See about these donut plots [here](https://github.com/fomightez/donut_plots_with_subgroups)."
   ]
  },
  {
   "cell_type": "markdown",
   "metadata": {},
   "source": [
    "---\n",
    "\n",
    "This is the last notebook in the series.\n",
    "\n",
    "Go back a notebook in the series by clicking [here &#11013;](index.ipynb).\n",
    "\n",
    "----\n",
    "----"
   ]
  }
 ],
 "metadata": {
  "kernelspec": {
   "display_name": "Python 3",
   "language": "python",
   "name": "python3"
  },
  "language_info": {
   "codemirror_mode": {
    "name": "ipython",
    "version": 3
   },
   "file_extension": ".py",
   "mimetype": "text/x-python",
   "name": "python",
   "nbconvert_exporter": "python",
   "pygments_lexer": "ipython3",
   "version": "3.7.3"
  }
 },
 "nbformat": 4,
 "nbformat_minor": 2
}
